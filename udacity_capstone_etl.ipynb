{
  "nbformat": 4,
  "nbformat_minor": 0,
  "metadata": {
    "colab": {
      "name": "udacity_capstone_etl.ipynb",
      "provenance": [],
      "collapsed_sections": [],
      "toc_visible": true,
      "mount_file_id": "1Zbxns3qSR5O3fKI2TKAeayL5YMVFZMav",
      "authorship_tag": "ABX9TyPLuEAl7wIDW4UF8PJKBAwG",
      "include_colab_link": true
    },
    "kernelspec": {
      "name": "python3",
      "display_name": "Python 3"
    },
    "language_info": {
      "name": "python"
    }
  },
  "cells": [
    {
      "cell_type": "markdown",
      "metadata": {
        "id": "view-in-github",
        "colab_type": "text"
      },
      "source": [
        "<a href=\"https://colab.research.google.com/github/srujanreddyj/Data-Engineering-concepts/blob/master/udacity_capstone_etl.ipynb\" target=\"_parent\"><img src=\"https://colab.research.google.com/assets/colab-badge.svg\" alt=\"Open In Colab\"/></a>"
      ]
    },
    {
      "cell_type": "code",
      "metadata": {
        "colab": {
          "base_uri": "https://localhost:8080/"
        },
        "id": "JQd6gWcWJ7Gg",
        "outputId": "b393b9bf-fe82-4788-b2cb-56479749d655"
      },
      "source": [
        "from google.colab import drive\n",
        "drive.mount('/content/drive')"
      ],
      "execution_count": null,
      "outputs": [
        {
          "output_type": "stream",
          "text": [
            "Drive already mounted at /content/drive; to attempt to forcibly remount, call drive.mount(\"/content/drive\", force_remount=True).\n"
          ],
          "name": "stdout"
        }
      ]
    },
    {
      "cell_type": "code",
      "metadata": {
        "colab": {
          "base_uri": "https://localhost:8080/",
          "height": 52
        },
        "id": "7WFkFA2kJ2rr",
        "outputId": "95a17946-f100-49ca-9da4-837b10072798"
      },
      "source": [
        "%cd /content/drive/MyDrive/Udacity Data Engineering/airbnb\n",
        "%pwd"
      ],
      "execution_count": null,
      "outputs": [
        {
          "output_type": "stream",
          "text": [
            "/content/drive/MyDrive/Udacity Data Engineering/airbnb\n"
          ],
          "name": "stdout"
        },
        {
          "output_type": "execute_result",
          "data": {
            "application/vnd.google.colaboratory.intrinsic+json": {
              "type": "string"
            },
            "text/plain": [
              "'/content/drive/MyDrive/Udacity Data Engineering/airbnb'"
            ]
          },
          "metadata": {
            "tags": []
          },
          "execution_count": 2
        }
      ]
    },
    {
      "cell_type": "code",
      "metadata": {
        "colab": {
          "base_uri": "https://localhost:8080/"
        },
        "id": "0oLor_k4J6BQ",
        "outputId": "533997f6-fe38-41fe-985d-0a24bd62d951"
      },
      "source": [
        "!apt-get update\n",
        "!apt-get install openjdk-8-jdk-headless -qq > /dev/null\n",
        "#!wget -q http://archive.apache.org/dist/spark/spark-3.1.1/spark-3.1.1-bin-hadoop2.7.tgz\n",
        "!tar xf spark-3.1.1-bin-hadoop2.7.tgz\n",
        "!pip install -q findspark"
      ],
      "execution_count": null,
      "outputs": [
        {
          "output_type": "stream",
          "text": [
            "\r0% [Working]\r            \rGet:1 http://security.ubuntu.com/ubuntu bionic-security InRelease [88.7 kB]\n",
            "\r0% [Connecting to archive.ubuntu.com (91.189.88.142)] [1 InRelease 4,096 B/88.7\r                                                                               \rGet:2 https://cloud.r-project.org/bin/linux/ubuntu bionic-cran40/ InRelease [3,626 B]\n",
            "\r0% [Connecting to archive.ubuntu.com (91.189.88.142)] [1 InRelease 14.2 kB/88.7\r0% [Connecting to archive.ubuntu.com (91.189.88.142)] [1 InRelease 31.5 kB/88.7\r0% [2 InRelease gpgv 3,626 B] [Connecting to archive.ubuntu.com (91.189.88.142)\r                                                                               \rIgn:3 https://developer.download.nvidia.com/compute/cuda/repos/ubuntu1804/x86_64  InRelease\n",
            "\r0% [2 InRelease gpgv 3,626 B] [Waiting for headers] [1 InRelease 48.9 kB/88.7 k\r0% [2 InRelease gpgv 3,626 B] [Waiting for headers] [Waiting for headers] [Wait\r                                                                               \rIgn:4 https://developer.download.nvidia.com/compute/machine-learning/repos/ubuntu1804/x86_64  InRelease\n",
            "\r                                                                               \r0% [2 InRelease gpgv 3,626 B] [Waiting for headers] [Waiting for headers]\r                                                                         \rGet:5 https://developer.download.nvidia.com/compute/cuda/repos/ubuntu1804/x86_64  Release [697 B]\n",
            "\r0% [2 InRelease gpgv 3,626 B] [Waiting for headers] [Waiting for headers] [5 Re\r                                                                               \r0% [2 InRelease gpgv 3,626 B] [Waiting for headers] [Waiting for headers]\r                                                                         \rHit:6 https://developer.download.nvidia.com/compute/machine-learning/repos/ubuntu1804/x86_64  Release\n",
            "\r0% [2 InRelease gpgv 3,626 B] [Waiting for headers] [Waiting for headers]\r                                                                         \rGet:7 http://ppa.launchpad.net/c2d4u.team/c2d4u4.0+/ubuntu bionic InRelease [15.9 kB]\n",
            "\r0% [2 InRelease gpgv 3,626 B] [Waiting for headers] [7 InRelease 2,572 B/15.9 k\r                                                                               \rHit:8 http://archive.ubuntu.com/ubuntu bionic InRelease\n",
            "Get:9 https://developer.download.nvidia.com/compute/cuda/repos/ubuntu1804/x86_64  Release.gpg [836 B]\n",
            "Get:10 http://archive.ubuntu.com/ubuntu bionic-updates InRelease [88.7 kB]\n",
            "Hit:11 http://ppa.launchpad.net/cran/libgit2/ubuntu bionic InRelease\n",
            "Get:12 http://security.ubuntu.com/ubuntu bionic-security/universe amd64 Packages [1,408 kB]\n",
            "Get:13 http://archive.ubuntu.com/ubuntu bionic-backports InRelease [74.6 kB]\n",
            "Get:14 http://ppa.launchpad.net/deadsnakes/ppa/ubuntu bionic InRelease [15.9 kB]\n",
            "Get:15 http://security.ubuntu.com/ubuntu bionic-security/multiverse amd64 Packages [24.5 kB]\n",
            "Get:16 http://security.ubuntu.com/ubuntu bionic-security/restricted amd64 Packages [395 kB]\n",
            "Get:17 http://security.ubuntu.com/ubuntu bionic-security/main amd64 Packages [2,112 kB]\n",
            "Hit:19 http://ppa.launchpad.net/graphics-drivers/ppa/ubuntu bionic InRelease\n",
            "Ign:20 https://developer.download.nvidia.com/compute/cuda/repos/ubuntu1804/x86_64  Packages\n",
            "Get:20 https://developer.download.nvidia.com/compute/cuda/repos/ubuntu1804/x86_64  Packages [739 kB]\n",
            "Get:21 http://ppa.launchpad.net/c2d4u.team/c2d4u4.0+/ubuntu bionic/main Sources [1,755 kB]\n",
            "Get:22 http://archive.ubuntu.com/ubuntu bionic-updates/multiverse amd64 Packages [31.4 kB]\n",
            "Get:23 http://archive.ubuntu.com/ubuntu bionic-updates/main amd64 Packages [2,542 kB]\n",
            "Get:24 http://archive.ubuntu.com/ubuntu bionic-updates/universe amd64 Packages [2,180 kB]\n",
            "Get:25 http://archive.ubuntu.com/ubuntu bionic-updates/restricted amd64 Packages [425 kB]\n",
            "Get:26 http://ppa.launchpad.net/c2d4u.team/c2d4u4.0+/ubuntu bionic/main amd64 Packages [898 kB]\n",
            "Get:27 http://ppa.launchpad.net/deadsnakes/ppa/ubuntu bionic/main amd64 Packages [39.5 kB]\n",
            "Fetched 12.8 MB in 4s (3,255 kB/s)\n",
            "Reading package lists... Done\n"
          ],
          "name": "stdout"
        }
      ]
    },
    {
      "cell_type": "code",
      "metadata": {
        "id": "sPrAziXyKOig"
      },
      "source": [
        "import os\n",
        "os.environ[\"JAVA_HOME\"] = \"/usr/lib/jvm/java-8-openjdk-amd64\"\n",
        "#os.environ[\"SPARK_HOME\"] = \"/content/drive/MyDrive/Udacity Data Engineering/airbnb/spark-2.4.5-bin-hadoop2.7\"\n",
        "os.environ[\"SPARK_HOME\"] = \"/content/drive/MyDrive/Udacity Data Engineering/airbnb/spark-3.1.1-bin-hadoop2.7\"\n"
      ],
      "execution_count": null,
      "outputs": []
    },
    {
      "cell_type": "code",
      "metadata": {
        "colab": {
          "base_uri": "https://localhost:8080/",
          "height": 191
        },
        "id": "lvJ7_7DnKk3j",
        "outputId": "153ee30d-da98-4f03-d45a-1e0f18b36192"
      },
      "source": [
        "import findspark\n",
        "findspark.init()\n",
        "from pyspark import SparkContext\n",
        "\n",
        "sc = SparkContext.getOrCreate()\n",
        "sc\n",
        "\n",
        "\n"
      ],
      "execution_count": null,
      "outputs": [
        {
          "output_type": "execute_result",
          "data": {
            "text/html": [
              "\n",
              "        <div>\n",
              "            <p><b>SparkContext</b></p>\n",
              "\n",
              "            <p><a href=\"http://620ae1ac76f5:4040\">Spark UI</a></p>\n",
              "\n",
              "            <dl>\n",
              "              <dt>Version</dt>\n",
              "                <dd><code>v3.1.1</code></dd>\n",
              "              <dt>Master</dt>\n",
              "                <dd><code>local[*]</code></dd>\n",
              "              <dt>AppName</dt>\n",
              "                <dd><code>pyspark-shell</code></dd>\n",
              "            </dl>\n",
              "        </div>\n",
              "        "
            ],
            "text/plain": [
              "<SparkContext master=local[*] appName=pyspark-shell>"
            ]
          },
          "metadata": {
            "tags": []
          },
          "execution_count": 5
        }
      ]
    },
    {
      "cell_type": "code",
      "metadata": {
        "id": "OuWFowUu4ewb"
      },
      "source": [
        "import pandas as pd\n",
        "import numpy as np\n",
        "import csv\n",
        "import json\n",
        "from pyspark.sql import SparkSession\n",
        "from pyspark.context import SparkContext\n",
        "from pyspark.sql.functions import *\n",
        "from pyspark.sql.types import *\n",
        "from datetime import date, timedelta, datetime\n",
        "import time"
      ],
      "execution_count": null,
      "outputs": []
    },
    {
      "cell_type": "code",
      "metadata": {
        "colab": {
          "base_uri": "https://localhost:8080/",
          "height": 214
        },
        "id": "KvjvkkStKmEZ",
        "outputId": "03e71d20-670e-4011-8fb4-850624f70a1c"
      },
      "source": [
        "spark = SparkSession.builder.appName(\"de_project\")\\\n",
        ".config (\"spark.sql.shuffle.partitions\", \"50\")\\\n",
        ".config(\"spark.driver.maxResultSize\",\"5g\")\\\n",
        ".config (\"spark.sql.execution.arrow.enabled\", \"true\")\\\n",
        ".getOrCreate()\n",
        "\n",
        "spark"
      ],
      "execution_count": null,
      "outputs": [
        {
          "output_type": "execute_result",
          "data": {
            "text/html": [
              "\n",
              "            <div>\n",
              "                <p><b>SparkSession - in-memory</b></p>\n",
              "                \n",
              "        <div>\n",
              "            <p><b>SparkContext</b></p>\n",
              "\n",
              "            <p><a href=\"http://620ae1ac76f5:4040\">Spark UI</a></p>\n",
              "\n",
              "            <dl>\n",
              "              <dt>Version</dt>\n",
              "                <dd><code>v3.1.1</code></dd>\n",
              "              <dt>Master</dt>\n",
              "                <dd><code>local[*]</code></dd>\n",
              "              <dt>AppName</dt>\n",
              "                <dd><code>pyspark-shell</code></dd>\n",
              "            </dl>\n",
              "        </div>\n",
              "        \n",
              "            </div>\n",
              "        "
            ],
            "text/plain": [
              "<pyspark.sql.session.SparkSession at 0x7f1a2dee8e90>"
            ]
          },
          "metadata": {
            "tags": []
          },
          "execution_count": 7
        }
      ]
    },
    {
      "cell_type": "code",
      "metadata": {
        "id": "efg-9FX_KohB"
      },
      "source": [
        "# Function to convert a CSV to JSON\n",
        "# Takes the file paths as arguments\n",
        "def make_json(csvFilePath, jsonFilePath):\n",
        "     \n",
        "    # create a dictionary\n",
        "    data = {}\n",
        "     \n",
        "    # Open a csv reader called DictReader\n",
        "    with open(csvFilePath, encoding='utf-8') as csvf:\n",
        "        csvReader = csv.DictReader(csvf)\n",
        "         \n",
        "        # Convert each row into a dictionary\n",
        "        # and add it to data\n",
        "        for rows in csvReader:\n",
        "             \n",
        "            #column primary key\n",
        "            key = rows['listing_id']\n",
        "            data[key] = rows\n",
        " \n",
        "    # Open a json writer, and use the json.dumps()\n",
        "    # function to dump data\n",
        "    with open(jsonFilePath, 'w', encoding='utf-8') as jsonf:\n",
        "        jsonf.write(json.dumps(data, indent=4))\n",
        "         "
      ],
      "execution_count": null,
      "outputs": []
    },
    {
      "cell_type": "code",
      "metadata": {
        "id": "JcvQyB7OKpsK"
      },
      "source": [
        "# Decide the two file paths according to your\n",
        "# computer system\n",
        "csvFilePath_austin = r'/content/drive/MyDrive/Udacity Data Engineering/airbnb/AUSTIN/LA_reviews.csv'\n",
        "jsonFilePath_austin = r'/content/drive/MyDrive/Udacity Data Engineering/airbnb/AUSTIN/austin_reviews.json'\n",
        "\n",
        "csvFilePath_la = r'/content/drive/MyDrive/Udacity Data Engineering/airbnb/LA/la_reviews.csv'\n",
        "jsonFilePath_la = r'/content/drive/MyDrive/Udacity Data Engineering/airbnb/LA/la_reviews.json'\n",
        " \n",
        "# Call the make_json function\n",
        "make_json(csvFilePath, jsonFilePath, 'listing_id')"
      ],
      "execution_count": null,
      "outputs": []
    },
    {
      "cell_type": "code",
      "metadata": {
        "id": "wtahO-raKuOv"
      },
      "source": [
        "csv_austin_listing = r'/content/drive/MyDrive/Udacity Data Engineering/airbnb/AUSTIN/austin_listings.csv'\n",
        "json_asutin_listing = r'/content/drive/MyDrive/Udacity Data Engineering/airbnb/AUSTIN/austin_listing.json'\n",
        "make_json(csv_austin_listing, json_asutin_listing, 'id')\n"
      ],
      "execution_count": null,
      "outputs": []
    },
    {
      "cell_type": "code",
      "metadata": {
        "id": "TaSBTtejKuwX"
      },
      "source": [
        "from pyspark.sql.types import StructType, StructField, StringType, TimestampType, BooleanType, DecimalType, DoubleType, IntegerType, DateType,FloatType\n",
        "from pyspark.sql.functions import col, to_timestamp\n",
        "from pyspark.sql import functions as F\n",
        "from pyspark.sql import types as T\n",
        "from pyspark.sql.functions import *\n",
        "spark.conf.set(\"spark.sql.repl.eagerEval.enabled\", True)"
      ],
      "execution_count": null,
      "outputs": []
    },
    {
      "cell_type": "markdown",
      "metadata": {
        "id": "8hyD-9ReMidI"
      },
      "source": [
        "#### LISTING TABLE"
      ]
    },
    {
      "cell_type": "code",
      "metadata": {
        "colab": {
          "base_uri": "https://localhost:8080/"
        },
        "id": "Fr_EQr1NKxuK",
        "outputId": "99360e00-e576-4683-87ea-d608cdd1c329"
      },
      "source": [
        "customSchema = StructType([\n",
        "    T.StructField(\"id\", T.IntegerType(), True),\n",
        "    T.StructField(\"listing_url\", T.StringType(), True),\n",
        "    T.StructField(\"scrape_id\", T.DecimalType(20), True),\n",
        "    T.StructField(\"last_scraped\", T.DateType(), True),\n",
        "    T.StructField(\"name\", T.StringType(), True),\n",
        "    T.StructField(\"description\", T.StringType(), True),\n",
        "    T.StructField(\"neighborhood_overview\", T.StringType(), True),\n",
        "    T.StructField(\"picture_url\", T.StringType(), True),\n",
        "    T.StructField(\"host_id\", T.IntegerType(), True),\n",
        "    T.StructField(\"host_url\", T.StringType(), True),\n",
        "    T.StructField(\"host_name\", T.StringType(), True),\n",
        "    T.StructField(\"host_since\", T.DateType(), True),\n",
        "    T.StructField(\"host_location\", T.StringType(), True),\n",
        "    T.StructField(\"host_about\", T.StringType(), True),\n",
        "    T.StructField(\"host_response_time\", T.StringType(), True),\n",
        "    T.StructField(\"host_response_rate\", T.StringType(), True),\n",
        "    T.StructField(\"host_acceptance_rate\", T.StringType(), True),\n",
        "    T.StructField(\"host_is_superhost\", T.StringType(), True),\n",
        "    T.StructField(\"host_thumbnail_url\", T.StringType(), True),\n",
        "    T.StructField(\"host_picture_url\", T.StringType(), True),\n",
        "    T.StructField(\"host_neighbourhood\", T.StringType(), True),\n",
        "    T.StructField(\"host_listings_count\", T.DoubleType(), True),\n",
        "    T.StructField(\"host_total_listings_count\", T.DoubleType(), True),\n",
        "    T.StructField(\"host_verifications\", T.StringType(), True),\n",
        "    T.StructField(\"host_has_profile_pic\", T.StringType(), True),\n",
        "    T.StructField(\"host_identity_verified\", T.StringType(), True),\n",
        "    T.StructField(\"neighbourhood\", T.StringType(), True),\n",
        "    T.StructField(\"neighbourhood_cleansed\", T.IntegerType(), True),\n",
        "    T.StructField(\"neighbourhood_group_cleansed\", T.StringType(), True),\n",
        "    T.StructField(\"latitude\", T.DoubleType(), True),\n",
        "    T.StructField(\"longitude\", T.DoubleType(), True),\n",
        "    T.StructField(\"property_type\", T.StringType(), True),\n",
        "    T.StructField(\"room_type\", T.StringType(), True),\n",
        "    T.StructField(\"accommodates\", T.IntegerType(), True),\n",
        "    T.StructField(\"bathrooms\", T.DoubleType(), True),\n",
        "    T.StructField(\"bathrooms_text\", T.StringType(), True),\n",
        "    T.StructField(\"bedrooms\", T.DoubleType(), True),\n",
        "    T.StructField(\"beds\", T.DoubleType(), True),\n",
        "    T.StructField(\"amenities\", T.StringType(), True),\n",
        "    T.StructField(\"price\", T.StringType(), True),\n",
        "    T.StructField(\"minimum_nights\", T.IntegerType(), True),\n",
        "    T.StructField(\"maximum_nights\", T.IntegerType(), True),\n",
        "    T.StructField(\"minimum_minimum_nights\", T.DoubleType(), True),\n",
        "    T.StructField(\"maximum_minimum_nights\", T.DoubleType(), True),\n",
        "    T.StructField(\"minimum_maximum_nights\", T.DoubleType(), True),\n",
        "    T.StructField(\"maximum_maximum_nights\", T.DoubleType(), True),\n",
        "    T.StructField(\"minimum_nights_avg_ntm\", T.DoubleType(), True),\n",
        "    T.StructField(\"maximum_nights_avg_ntm\", T.DoubleType(), True),\n",
        "    T.StructField(\"calendar_updated\", T.DateType(), True),\n",
        "    T.StructField(\"has_availability\", T.StringType(), True),\n",
        "    T.StructField(\"availability_30\", T.DoubleType(), True),\n",
        "    T.StructField(\"availability_60\", T.DoubleType(), True),\n",
        "    T.StructField(\"availability_90\", T.DoubleType(), True),\n",
        "    T.StructField(\"availability_365\", T.DoubleType(), True),\n",
        "    T.StructField(\"calendar_last_scraped\", T.DateType(), True),\n",
        "    T.StructField(\"number_of_reviews\", T.IntegerType(), True),\n",
        "    T.StructField(\"number_of_reviews_ltm\", T.DoubleType(), True),\n",
        "    T.StructField(\"number_of_reviews_l30d\", T.DoubleType(), True),\n",
        "    T.StructField(\"first_review\", T.DateType(), True),\n",
        "    T.StructField(\"last_review\", T.DateType(), True),\n",
        "    T.StructField(\"review_scores_rating\", T.DoubleType(), True),\n",
        "    T.StructField(\"review_scores_accuracy\", T.DoubleType(), True),\n",
        "    T.StructField(\"review_scores_cleanliness\", T.DoubleType(), True),\n",
        "    T.StructField(\"review_scores_checkin\", T.DoubleType(), True),\n",
        "    T.StructField(\"review_scores_communication\", T.DoubleType(), True),\n",
        "    T.StructField(\"review_scores_location\", T.DoubleType(), True),\n",
        "    T.StructField(\"review_scores_value\", T.DoubleType(), True),\n",
        "    T.StructField(\"license\", T.StringType(), True),\n",
        "    T.StructField(\"instant_bookable\", T.StringType(), True),\n",
        "    T.StructField(\"calculated_host_listings_count\", T.IntegerType(), True),\n",
        "    T.StructField(\"calculated_host_listings_count_entire_homes\", T.IntegerType(), True),\n",
        "    T.StructField(\"calculated_host_listings_count_private_rooms\", T.IntegerType(), True),\n",
        "    T.StructField(\"calculated_host_listings_count_shared_rooms\", T.IntegerType(), True),\n",
        "    T.StructField(\"reviews_per_month\", T.DoubleType(), True),\n",
        "])\n",
        "\n",
        "\n",
        "austin_listing_df=spark.read.format(\"csv\")\\\n",
        ".schema(customSchema)\\\n",
        ".option(\"header\", \"true\")\\\n",
        ".option(\"quote\", \"\\\"\")\\\n",
        ".option(\"escape\", \"\\\"\")\\\n",
        ".option(\"ignoreTrailingWhiteSpace\", True)\\\n",
        ".option(\"multiLine\", \"true\").load('AUSTIN/austin_listings.csv')\n",
        "austin_listing_df.show(5)"
      ],
      "execution_count": null,
      "outputs": [
        {
          "output_type": "stream",
          "text": [
            "+----+--------------------+--------------+------------+--------------------+--------------------+---------------------+--------------------+-------+--------------------+---------+----------+--------------------+--------------------+------------------+------------------+--------------------+-----------------+--------------------+--------------------+------------------+-------------------+-------------------------+--------------------+--------------------+----------------------+--------------------+----------------------+----------------------------+--------+---------+--------------------+---------------+------------+---------+--------------+--------+----+--------------------+-------+--------------+--------------+----------------------+----------------------+----------------------+----------------------+----------------------+----------------------+----------------+----------------+---------------+---------------+---------------+----------------+---------------------+-----------------+---------------------+----------------------+------------+-----------+--------------------+----------------------+-------------------------+---------------------+---------------------------+----------------------+-------------------+-------+----------------+------------------------------+-------------------------------------------+--------------------------------------------+-------------------------------------------+-----------------+\n",
            "|  id|         listing_url|     scrape_id|last_scraped|                name|         description|neighborhood_overview|         picture_url|host_id|            host_url|host_name|host_since|       host_location|          host_about|host_response_time|host_response_rate|host_acceptance_rate|host_is_superhost|  host_thumbnail_url|    host_picture_url|host_neighbourhood|host_listings_count|host_total_listings_count|  host_verifications|host_has_profile_pic|host_identity_verified|       neighbourhood|neighbourhood_cleansed|neighbourhood_group_cleansed|latitude|longitude|       property_type|      room_type|accommodates|bathrooms|bathrooms_text|bedrooms|beds|           amenities|  price|minimum_nights|maximum_nights|minimum_minimum_nights|maximum_minimum_nights|minimum_maximum_nights|maximum_maximum_nights|minimum_nights_avg_ntm|maximum_nights_avg_ntm|calendar_updated|has_availability|availability_30|availability_60|availability_90|availability_365|calendar_last_scraped|number_of_reviews|number_of_reviews_ltm|number_of_reviews_l30d|first_review|last_review|review_scores_rating|review_scores_accuracy|review_scores_cleanliness|review_scores_checkin|review_scores_communication|review_scores_location|review_scores_value|license|instant_bookable|calculated_host_listings_count|calculated_host_listings_count_entire_homes|calculated_host_listings_count_private_rooms|calculated_host_listings_count_shared_rooms|reviews_per_month|\n",
            "+----+--------------------+--------------+------------+--------------------+--------------------+---------------------+--------------------+-------+--------------------+---------+----------+--------------------+--------------------+------------------+------------------+--------------------+-----------------+--------------------+--------------------+------------------+-------------------+-------------------------+--------------------+--------------------+----------------------+--------------------+----------------------+----------------------------+--------+---------+--------------------+---------------+------------+---------+--------------+--------+----+--------------------+-------+--------------+--------------+----------------------+----------------------+----------------------+----------------------+----------------------+----------------------+----------------+----------------+---------------+---------------+---------------+----------------+---------------------+-----------------+---------------------+----------------------+------------+-----------+--------------------+----------------------+-------------------------+---------------------+---------------------------+----------------------+-------------------+-------+----------------+------------------------------+-------------------------------------------+--------------------------------------------+-------------------------------------------+-----------------+\n",
            "|2265|https://www.airbn...|20210210181232|  2021-02-12|Zen-East in the H...|Zen East is situa...|                 null|https://a0.muscac...|   2466|https://www.airbn...|    Paddy|2008-08-23|Austin, Texas, Un...|I am a long time ...|within a few hours|              100%|                 90%|                f|https://a0.muscac...|https://a0.muscac...|     East Downtown|                3.0|                      3.0|['email', 'phone'...|                   t|                     t|                null|                 78702|                        null| 30.2775|-97.71398|        Entire house|Entire home/apt|           4|     null|       2 baths|     2.0| 2.0|[\"Free parking on...|$200.00|             7|           180|                   7.0|                   7.0|                 180.0|                 180.0|                   7.0|                 180.0|            null|               t|           13.0|           13.0|           42.0|           131.0|           2021-02-12|               24|                  0.0|                   0.0|  2009-03-17| 2019-03-16|                93.0|                   9.0|                     10.0|                 10.0|                       10.0|                   8.0|                9.0|   null|               f|                             3|                                          2|                                           1|                                          0|             0.17|\n",
            "|5245|https://www.airbn...|20210210181232|  2021-02-12|Eco friendly, Col...|Situated in a vib...|                 null|https://a0.muscac...|   2466|https://www.airbn...|    Paddy|2008-08-23|Austin, Texas, Un...|I am a long time ...|within a few hours|              100%|                 90%|                f|https://a0.muscac...|https://a0.muscac...|     East Downtown|                3.0|                      3.0|['email', 'phone'...|                   t|                     t|                null|                 78702|                        null|30.27577|-97.71379|Private room in h...|   Private room|           2|     null|1 private bath|     1.0| 2.0|[\"Free parking on...|$114.00|            30|            60|                  30.0|                  30.0|                  60.0|                  60.0|                  30.0|                  60.0|            null|               t|            0.0|            0.0|            0.0|             0.0|           2021-02-12|                9|                  0.0|                   0.0|  2009-03-19| 2018-03-14|                91.0|                  10.0|                      8.0|                 10.0|                        9.0|                  10.0|                9.0|   null|               f|                             3|                                          2|                                           1|                                          0|             0.06|\n",
            "|5456|https://www.airbn...|20210210181232|  2021-02-12|Walk to 6th, Rain...|Great central  lo...| My neighborhood i...|https://a0.muscac...|   8028|https://www.airbn...|   Sylvia|2009-02-16|Austin, Texas, Un...|I am a licensed R...|within a few hours|              100%|                 91%|                t|https://a0.muscac...|https://a0.muscac...|     East Downtown|                1.0|                      1.0|['email', 'phone'...|                   t|                     t|Austin, Texas, Un...|                 78702|                        null|30.26112|-97.73448|   Entire guesthouse|Entire home/apt|           3|     null|        1 bath|     1.0| 2.0|[\"Hair dryer\", \"D...|$104.00|             2|            90|                   2.0|                   2.0|                  90.0|                  90.0|                   2.0|                  90.0|            null|               t|           24.0|           54.0|           84.0|           354.0|           2021-02-12|              543|                 20.0|                   3.0|  2009-03-08| 2021-02-01|                97.0|                  10.0|                     10.0|                 10.0|                       10.0|                  10.0|                9.0|   null|               f|                             1|                                          1|                                           0|                                          0|             3.74|\n",
            "|5636|https://www.airbn...|20210210181232|  2021-02-12|Soco, Barton Spri...|MONTHLY Short Ter...| This area is one ...|https://a0.muscac...|   7148|https://www.airbn...|    Peggy|2009-01-27|Austin, Texas, Un...|Friendly  host wh...|within a few hours|              100%|                100%|                f|https://a0.muscac...|https://a0.muscac...|     Bouldin Creek|                1.0|                      1.0|['email', 'phone'...|                   t|                     f|Austin, Texas, Un...|                 78704|                        null| 30.2463|-97.76361|   Entire guesthouse|Entire home/apt|           2|     null|        1 bath|     1.0| 4.0|[\"Free parking on...| $46.00|            30|            90|                  30.0|                  30.0|                  90.0|                  90.0|                  30.0|                  90.0|            null|               t|            7.0|           37.0|           67.0|            67.0|           2021-02-12|               21|                  1.0|                   0.0|  2009-04-20| 2020-11-06|                95.0|                   9.0|                     10.0|                 10.0|                       10.0|                  10.0|                9.0|   null|               f|                             2|                                          2|                                           0|                                          0|             0.15|\n",
            "|5769|https://www.airbn...|20210210181232|  2021-02-13|      NW Austin Room|<b>The space</b><...| Quiet neighborhoo...|https://a0.muscac...|   8186|https://www.airbn...|Elizabeth|2009-02-19|Austin, Texas, Un...|We're easygoing p...|    within an hour|              100%|                100%|                t|https://a0.muscac...|https://a0.muscac...| SW Williamson Co.|                1.0|                      1.0|['email', 'phone'...|                   t|                     t|Austin, Texas, Un...|                 78729|                        null|30.45697|-97.78422|Private room in h...|   Private room|           2|     null| 1 shared bath|     1.0| 1.0|[\"Shampoo\", \"Indo...| $39.00|             1|            14|                   1.0|                   1.0|                  14.0|                  14.0|                   1.0|                  14.0|            null|               t|           21.0|           50.0|           79.0|            79.0|           2021-02-13|              259|                  2.0|                   1.0|  2010-04-10| 2021-02-10|                98.0|                  10.0|                     10.0|                 10.0|                       10.0|                  10.0|               10.0|   null|               f|                             1|                                          0|                                           1|                                          0|             1.96|\n",
            "+----+--------------------+--------------+------------+--------------------+--------------------+---------------------+--------------------+-------+--------------------+---------+----------+--------------------+--------------------+------------------+------------------+--------------------+-----------------+--------------------+--------------------+------------------+-------------------+-------------------------+--------------------+--------------------+----------------------+--------------------+----------------------+----------------------------+--------+---------+--------------------+---------------+------------+---------+--------------+--------+----+--------------------+-------+--------------+--------------+----------------------+----------------------+----------------------+----------------------+----------------------+----------------------+----------------+----------------+---------------+---------------+---------------+----------------+---------------------+-----------------+---------------------+----------------------+------------+-----------+--------------------+----------------------+-------------------------+---------------------+---------------------------+----------------------+-------------------+-------+----------------+------------------------------+-------------------------------------------+--------------------------------------------+-------------------------------------------+-----------------+\n",
            "only showing top 5 rows\n",
            "\n"
          ],
          "name": "stdout"
        }
      ]
    },
    {
      "cell_type": "code",
      "metadata": {
        "colab": {
          "base_uri": "https://localhost:8080/"
        },
        "id": "809P4hGmNNdI",
        "outputId": "b556cde1-6d80-421d-e2fc-feba17cd558d"
      },
      "source": [
        "austin_listing_df.printSchema()"
      ],
      "execution_count": null,
      "outputs": [
        {
          "output_type": "stream",
          "text": [
            "root\n",
            " |-- id: integer (nullable = true)\n",
            " |-- listing_url: string (nullable = true)\n",
            " |-- scrape_id: decimal(20,0) (nullable = true)\n",
            " |-- last_scraped: date (nullable = true)\n",
            " |-- name: string (nullable = true)\n",
            " |-- description: string (nullable = true)\n",
            " |-- neighborhood_overview: string (nullable = true)\n",
            " |-- picture_url: string (nullable = true)\n",
            " |-- host_id: integer (nullable = true)\n",
            " |-- host_url: string (nullable = true)\n",
            " |-- host_name: string (nullable = true)\n",
            " |-- host_since: date (nullable = true)\n",
            " |-- host_location: string (nullable = true)\n",
            " |-- host_about: string (nullable = true)\n",
            " |-- host_response_time: string (nullable = true)\n",
            " |-- host_response_rate: string (nullable = true)\n",
            " |-- host_acceptance_rate: string (nullable = true)\n",
            " |-- host_is_superhost: string (nullable = true)\n",
            " |-- host_thumbnail_url: string (nullable = true)\n",
            " |-- host_picture_url: string (nullable = true)\n",
            " |-- host_neighbourhood: string (nullable = true)\n",
            " |-- host_listings_count: double (nullable = true)\n",
            " |-- host_total_listings_count: double (nullable = true)\n",
            " |-- host_verifications: string (nullable = true)\n",
            " |-- host_has_profile_pic: string (nullable = true)\n",
            " |-- host_identity_verified: string (nullable = true)\n",
            " |-- neighbourhood: string (nullable = true)\n",
            " |-- neighbourhood_cleansed: integer (nullable = true)\n",
            " |-- neighbourhood_group_cleansed: string (nullable = true)\n",
            " |-- latitude: double (nullable = true)\n",
            " |-- longitude: double (nullable = true)\n",
            " |-- property_type: string (nullable = true)\n",
            " |-- room_type: string (nullable = true)\n",
            " |-- accommodates: integer (nullable = true)\n",
            " |-- bathrooms: double (nullable = true)\n",
            " |-- bathrooms_text: string (nullable = true)\n",
            " |-- bedrooms: double (nullable = true)\n",
            " |-- beds: double (nullable = true)\n",
            " |-- amenities: string (nullable = true)\n",
            " |-- price: string (nullable = true)\n",
            " |-- minimum_nights: integer (nullable = true)\n",
            " |-- maximum_nights: integer (nullable = true)\n",
            " |-- minimum_minimum_nights: double (nullable = true)\n",
            " |-- maximum_minimum_nights: double (nullable = true)\n",
            " |-- minimum_maximum_nights: double (nullable = true)\n",
            " |-- maximum_maximum_nights: double (nullable = true)\n",
            " |-- minimum_nights_avg_ntm: double (nullable = true)\n",
            " |-- maximum_nights_avg_ntm: double (nullable = true)\n",
            " |-- calendar_updated: date (nullable = true)\n",
            " |-- has_availability: string (nullable = true)\n",
            " |-- availability_30: double (nullable = true)\n",
            " |-- availability_60: double (nullable = true)\n",
            " |-- availability_90: double (nullable = true)\n",
            " |-- availability_365: double (nullable = true)\n",
            " |-- calendar_last_scraped: date (nullable = true)\n",
            " |-- number_of_reviews: integer (nullable = true)\n",
            " |-- number_of_reviews_ltm: double (nullable = true)\n",
            " |-- number_of_reviews_l30d: double (nullable = true)\n",
            " |-- first_review: date (nullable = true)\n",
            " |-- last_review: date (nullable = true)\n",
            " |-- review_scores_rating: double (nullable = true)\n",
            " |-- review_scores_accuracy: double (nullable = true)\n",
            " |-- review_scores_cleanliness: double (nullable = true)\n",
            " |-- review_scores_checkin: double (nullable = true)\n",
            " |-- review_scores_communication: double (nullable = true)\n",
            " |-- review_scores_location: double (nullable = true)\n",
            " |-- review_scores_value: double (nullable = true)\n",
            " |-- license: string (nullable = true)\n",
            " |-- instant_bookable: string (nullable = true)\n",
            " |-- calculated_host_listings_count: integer (nullable = true)\n",
            " |-- calculated_host_listings_count_entire_homes: integer (nullable = true)\n",
            " |-- calculated_host_listings_count_private_rooms: integer (nullable = true)\n",
            " |-- calculated_host_listings_count_shared_rooms: integer (nullable = true)\n",
            " |-- reviews_per_month: double (nullable = true)\n",
            "\n"
          ],
          "name": "stdout"
        }
      ]
    },
    {
      "cell_type": "code",
      "metadata": {
        "id": "QSCzlh2YNHws",
        "colab": {
          "base_uri": "https://localhost:8080/"
        },
        "outputId": "821ba13f-922d-4174-fa28-4308be332965"
      },
      "source": [
        "austin_listing_df.dtypes"
      ],
      "execution_count": null,
      "outputs": [
        {
          "output_type": "execute_result",
          "data": {
            "text/plain": [
              "[('id', 'int'),\n",
              " ('listing_url', 'string'),\n",
              " ('scrape_id', 'decimal(20,0)'),\n",
              " ('last_scraped', 'date'),\n",
              " ('name', 'string'),\n",
              " ('description', 'string'),\n",
              " ('neighborhood_overview', 'string'),\n",
              " ('picture_url', 'string'),\n",
              " ('host_id', 'int'),\n",
              " ('host_url', 'string'),\n",
              " ('host_name', 'string'),\n",
              " ('host_since', 'date'),\n",
              " ('host_location', 'string'),\n",
              " ('host_about', 'string'),\n",
              " ('host_response_time', 'string'),\n",
              " ('host_response_rate', 'string'),\n",
              " ('host_acceptance_rate', 'string'),\n",
              " ('host_is_superhost', 'string'),\n",
              " ('host_thumbnail_url', 'string'),\n",
              " ('host_picture_url', 'string'),\n",
              " ('host_neighbourhood', 'string'),\n",
              " ('host_listings_count', 'double'),\n",
              " ('host_total_listings_count', 'double'),\n",
              " ('host_verifications', 'string'),\n",
              " ('host_has_profile_pic', 'string'),\n",
              " ('host_identity_verified', 'string'),\n",
              " ('neighbourhood', 'string'),\n",
              " ('neighbourhood_cleansed', 'int'),\n",
              " ('neighbourhood_group_cleansed', 'string'),\n",
              " ('latitude', 'double'),\n",
              " ('longitude', 'double'),\n",
              " ('property_type', 'string'),\n",
              " ('room_type', 'string'),\n",
              " ('accommodates', 'int'),\n",
              " ('bathrooms', 'double'),\n",
              " ('bathrooms_text', 'string'),\n",
              " ('bedrooms', 'double'),\n",
              " ('beds', 'double'),\n",
              " ('amenities', 'string'),\n",
              " ('price', 'string'),\n",
              " ('minimum_nights', 'int'),\n",
              " ('maximum_nights', 'int'),\n",
              " ('minimum_minimum_nights', 'double'),\n",
              " ('maximum_minimum_nights', 'double'),\n",
              " ('minimum_maximum_nights', 'double'),\n",
              " ('maximum_maximum_nights', 'double'),\n",
              " ('minimum_nights_avg_ntm', 'double'),\n",
              " ('maximum_nights_avg_ntm', 'double'),\n",
              " ('calendar_updated', 'date'),\n",
              " ('has_availability', 'string'),\n",
              " ('availability_30', 'double'),\n",
              " ('availability_60', 'double'),\n",
              " ('availability_90', 'double'),\n",
              " ('availability_365', 'double'),\n",
              " ('calendar_last_scraped', 'date'),\n",
              " ('number_of_reviews', 'int'),\n",
              " ('number_of_reviews_ltm', 'double'),\n",
              " ('number_of_reviews_l30d', 'double'),\n",
              " ('first_review', 'date'),\n",
              " ('last_review', 'date'),\n",
              " ('review_scores_rating', 'double'),\n",
              " ('review_scores_accuracy', 'double'),\n",
              " ('review_scores_cleanliness', 'double'),\n",
              " ('review_scores_checkin', 'double'),\n",
              " ('review_scores_communication', 'double'),\n",
              " ('review_scores_location', 'double'),\n",
              " ('review_scores_value', 'double'),\n",
              " ('license', 'string'),\n",
              " ('instant_bookable', 'string'),\n",
              " ('calculated_host_listings_count', 'int'),\n",
              " ('calculated_host_listings_count_entire_homes', 'int'),\n",
              " ('calculated_host_listings_count_private_rooms', 'int'),\n",
              " ('calculated_host_listings_count_shared_rooms', 'int'),\n",
              " ('reviews_per_month', 'double')]"
            ]
          },
          "metadata": {
            "tags": []
          },
          "execution_count": 12
        }
      ]
    },
    {
      "cell_type": "code",
      "metadata": {
        "colab": {
          "base_uri": "https://localhost:8080/"
        },
        "id": "BHNZ8kRbR_85",
        "outputId": "a89f5030-c1d8-40ed-b5da-179c6b5aab58"
      },
      "source": [
        "austin_listing_df.show(5)"
      ],
      "execution_count": null,
      "outputs": [
        {
          "output_type": "stream",
          "text": [
            "+----+--------------------+--------------+------------+--------------------+--------------------+---------------------+--------------------+-------+--------------------+---------+----------+--------------------+--------------------+------------------+------------------+--------------------+-----------------+--------------------+--------------------+------------------+-------------------+-------------------------+--------------------+--------------------+----------------------+--------------------+----------------------+----------------------------+--------+---------+--------------------+---------------+------------+---------+--------------+--------+----+--------------------+-------+--------------+--------------+----------------------+----------------------+----------------------+----------------------+----------------------+----------------------+----------------+----------------+---------------+---------------+---------------+----------------+---------------------+-----------------+---------------------+----------------------+------------+-----------+--------------------+----------------------+-------------------------+---------------------+---------------------------+----------------------+-------------------+-------+----------------+------------------------------+-------------------------------------------+--------------------------------------------+-------------------------------------------+-----------------+\n",
            "|  id|         listing_url|     scrape_id|last_scraped|                name|         description|neighborhood_overview|         picture_url|host_id|            host_url|host_name|host_since|       host_location|          host_about|host_response_time|host_response_rate|host_acceptance_rate|host_is_superhost|  host_thumbnail_url|    host_picture_url|host_neighbourhood|host_listings_count|host_total_listings_count|  host_verifications|host_has_profile_pic|host_identity_verified|       neighbourhood|neighbourhood_cleansed|neighbourhood_group_cleansed|latitude|longitude|       property_type|      room_type|accommodates|bathrooms|bathrooms_text|bedrooms|beds|           amenities|  price|minimum_nights|maximum_nights|minimum_minimum_nights|maximum_minimum_nights|minimum_maximum_nights|maximum_maximum_nights|minimum_nights_avg_ntm|maximum_nights_avg_ntm|calendar_updated|has_availability|availability_30|availability_60|availability_90|availability_365|calendar_last_scraped|number_of_reviews|number_of_reviews_ltm|number_of_reviews_l30d|first_review|last_review|review_scores_rating|review_scores_accuracy|review_scores_cleanliness|review_scores_checkin|review_scores_communication|review_scores_location|review_scores_value|license|instant_bookable|calculated_host_listings_count|calculated_host_listings_count_entire_homes|calculated_host_listings_count_private_rooms|calculated_host_listings_count_shared_rooms|reviews_per_month|\n",
            "+----+--------------------+--------------+------------+--------------------+--------------------+---------------------+--------------------+-------+--------------------+---------+----------+--------------------+--------------------+------------------+------------------+--------------------+-----------------+--------------------+--------------------+------------------+-------------------+-------------------------+--------------------+--------------------+----------------------+--------------------+----------------------+----------------------------+--------+---------+--------------------+---------------+------------+---------+--------------+--------+----+--------------------+-------+--------------+--------------+----------------------+----------------------+----------------------+----------------------+----------------------+----------------------+----------------+----------------+---------------+---------------+---------------+----------------+---------------------+-----------------+---------------------+----------------------+------------+-----------+--------------------+----------------------+-------------------------+---------------------+---------------------------+----------------------+-------------------+-------+----------------+------------------------------+-------------------------------------------+--------------------------------------------+-------------------------------------------+-----------------+\n",
            "|2265|https://www.airbn...|20210210181232|  2021-02-12|Zen-East in the H...|Zen East is situa...|                 null|https://a0.muscac...|   2466|https://www.airbn...|    Paddy|2008-08-23|Austin, Texas, Un...|I am a long time ...|within a few hours|              100%|                 90%|                f|https://a0.muscac...|https://a0.muscac...|     East Downtown|                3.0|                      3.0|['email', 'phone'...|                   t|                     t|                null|                 78702|                        null| 30.2775|-97.71398|        Entire house|Entire home/apt|           4|     null|       2 baths|     2.0| 2.0|[\"Free parking on...|$200.00|             7|           180|                   7.0|                   7.0|                 180.0|                 180.0|                   7.0|                 180.0|            null|               t|           13.0|           13.0|           42.0|           131.0|           2021-02-12|               24|                  0.0|                   0.0|  2009-03-17| 2019-03-16|                93.0|                   9.0|                     10.0|                 10.0|                       10.0|                   8.0|                9.0|   null|               f|                             3|                                          2|                                           1|                                          0|             0.17|\n",
            "|5245|https://www.airbn...|20210210181232|  2021-02-12|Eco friendly, Col...|Situated in a vib...|                 null|https://a0.muscac...|   2466|https://www.airbn...|    Paddy|2008-08-23|Austin, Texas, Un...|I am a long time ...|within a few hours|              100%|                 90%|                f|https://a0.muscac...|https://a0.muscac...|     East Downtown|                3.0|                      3.0|['email', 'phone'...|                   t|                     t|                null|                 78702|                        null|30.27577|-97.71379|Private room in h...|   Private room|           2|     null|1 private bath|     1.0| 2.0|[\"Free parking on...|$114.00|            30|            60|                  30.0|                  30.0|                  60.0|                  60.0|                  30.0|                  60.0|            null|               t|            0.0|            0.0|            0.0|             0.0|           2021-02-12|                9|                  0.0|                   0.0|  2009-03-19| 2018-03-14|                91.0|                  10.0|                      8.0|                 10.0|                        9.0|                  10.0|                9.0|   null|               f|                             3|                                          2|                                           1|                                          0|             0.06|\n",
            "|5456|https://www.airbn...|20210210181232|  2021-02-12|Walk to 6th, Rain...|Great central  lo...| My neighborhood i...|https://a0.muscac...|   8028|https://www.airbn...|   Sylvia|2009-02-16|Austin, Texas, Un...|I am a licensed R...|within a few hours|              100%|                 91%|                t|https://a0.muscac...|https://a0.muscac...|     East Downtown|                1.0|                      1.0|['email', 'phone'...|                   t|                     t|Austin, Texas, Un...|                 78702|                        null|30.26112|-97.73448|   Entire guesthouse|Entire home/apt|           3|     null|        1 bath|     1.0| 2.0|[\"Hair dryer\", \"D...|$104.00|             2|            90|                   2.0|                   2.0|                  90.0|                  90.0|                   2.0|                  90.0|            null|               t|           24.0|           54.0|           84.0|           354.0|           2021-02-12|              543|                 20.0|                   3.0|  2009-03-08| 2021-02-01|                97.0|                  10.0|                     10.0|                 10.0|                       10.0|                  10.0|                9.0|   null|               f|                             1|                                          1|                                           0|                                          0|             3.74|\n",
            "|5636|https://www.airbn...|20210210181232|  2021-02-12|Soco, Barton Spri...|MONTHLY Short Ter...| This area is one ...|https://a0.muscac...|   7148|https://www.airbn...|    Peggy|2009-01-27|Austin, Texas, Un...|Friendly  host wh...|within a few hours|              100%|                100%|                f|https://a0.muscac...|https://a0.muscac...|     Bouldin Creek|                1.0|                      1.0|['email', 'phone'...|                   t|                     f|Austin, Texas, Un...|                 78704|                        null| 30.2463|-97.76361|   Entire guesthouse|Entire home/apt|           2|     null|        1 bath|     1.0| 4.0|[\"Free parking on...| $46.00|            30|            90|                  30.0|                  30.0|                  90.0|                  90.0|                  30.0|                  90.0|            null|               t|            7.0|           37.0|           67.0|            67.0|           2021-02-12|               21|                  1.0|                   0.0|  2009-04-20| 2020-11-06|                95.0|                   9.0|                     10.0|                 10.0|                       10.0|                  10.0|                9.0|   null|               f|                             2|                                          2|                                           0|                                          0|             0.15|\n",
            "|5769|https://www.airbn...|20210210181232|  2021-02-13|      NW Austin Room|<b>The space</b><...| Quiet neighborhoo...|https://a0.muscac...|   8186|https://www.airbn...|Elizabeth|2009-02-19|Austin, Texas, Un...|We're easygoing p...|    within an hour|              100%|                100%|                t|https://a0.muscac...|https://a0.muscac...| SW Williamson Co.|                1.0|                      1.0|['email', 'phone'...|                   t|                     t|Austin, Texas, Un...|                 78729|                        null|30.45697|-97.78422|Private room in h...|   Private room|           2|     null| 1 shared bath|     1.0| 1.0|[\"Shampoo\", \"Indo...| $39.00|             1|            14|                   1.0|                   1.0|                  14.0|                  14.0|                   1.0|                  14.0|            null|               t|           21.0|           50.0|           79.0|            79.0|           2021-02-13|              259|                  2.0|                   1.0|  2010-04-10| 2021-02-10|                98.0|                  10.0|                     10.0|                 10.0|                       10.0|                  10.0|               10.0|   null|               f|                             1|                                          0|                                           1|                                          0|             1.96|\n",
            "+----+--------------------+--------------+------------+--------------------+--------------------+---------------------+--------------------+-------+--------------------+---------+----------+--------------------+--------------------+------------------+------------------+--------------------+-----------------+--------------------+--------------------+------------------+-------------------+-------------------------+--------------------+--------------------+----------------------+--------------------+----------------------+----------------------------+--------+---------+--------------------+---------------+------------+---------+--------------+--------+----+--------------------+-------+--------------+--------------+----------------------+----------------------+----------------------+----------------------+----------------------+----------------------+----------------+----------------+---------------+---------------+---------------+----------------+---------------------+-----------------+---------------------+----------------------+------------+-----------+--------------------+----------------------+-------------------------+---------------------+---------------------------+----------------------+-------------------+-------+----------------+------------------------------+-------------------------------------------+--------------------------------------------+-------------------------------------------+-----------------+\n",
            "only showing top 5 rows\n",
            "\n"
          ],
          "name": "stdout"
        }
      ]
    },
    {
      "cell_type": "code",
      "metadata": {
        "id": "jw-RbnwdRe7u"
      },
      "source": [
        "cleaned_list_columns = ['id', 'host_id', 'host_url', 'host_name', 'host_since', \n",
        "                        'host_location', 'host_is_superhost', 'host_response_time', 'host_response_rate', 'host_acceptance_rate', \n",
        "                         'host_verifications', 'host_identity_verified', 'host_has_profile_pic', 'host_total_listings_count',\n",
        "                        'neighbourhood_cleansed', 'property_type', 'room_type', 'accommodates', 'bathrooms_text', \n",
        "                        'bedrooms', 'beds', 'amenities', 'minimum_nights', 'maximum_nights',\n",
        "                        'number_of_reviews', 'review_scores_rating', 'reviews_per_month',  ]"
      ],
      "execution_count": null,
      "outputs": []
    },
    {
      "cell_type": "code",
      "metadata": {
        "colab": {
          "base_uri": "https://localhost:8080/"
        },
        "id": "h4CwGewgNRVZ",
        "outputId": "0bb86e93-7b4c-47f3-ac9c-510e01adcee1"
      },
      "source": [
        "host_columns = ['id', 'host_id', 'host_url', 'host_name', 'host_since', 'host_location', 'host_response_time', 'host_response_rate', 'host_acceptance_rate', 'host_is_superhost', 'host_identity_verified', 'host_has_profile_pic', 'host_total_listings_count']\n",
        "austin_host_df = austin_listing_df.select('id', 'host_id', 'host_url', 'host_name', 'host_since', 'host_location', 'host_response_time', 'host_response_rate', 'host_acceptance_rate', 'host_is_superhost', 'host_identity_verified', 'host_has_profile_pic', 'host_total_listings_count')\n",
        "austin_host_df.show(5)"
      ],
      "execution_count": null,
      "outputs": [
        {
          "output_type": "stream",
          "text": [
            "+----+-------+--------------------+---------+----------+--------------------+------------------+------------------+--------------------+-----------------+----------------------+--------------------+-------------------------+\n",
            "|  id|host_id|            host_url|host_name|host_since|       host_location|host_response_time|host_response_rate|host_acceptance_rate|host_is_superhost|host_identity_verified|host_has_profile_pic|host_total_listings_count|\n",
            "+----+-------+--------------------+---------+----------+--------------------+------------------+------------------+--------------------+-----------------+----------------------+--------------------+-------------------------+\n",
            "|2265|   2466|https://www.airbn...|    Paddy|2008-08-23|Austin, Texas, Un...|within a few hours|              100%|                 90%|                f|                     t|                   t|                      3.0|\n",
            "|5245|   2466|https://www.airbn...|    Paddy|2008-08-23|Austin, Texas, Un...|within a few hours|              100%|                 90%|                f|                     t|                   t|                      3.0|\n",
            "|5456|   8028|https://www.airbn...|   Sylvia|2009-02-16|Austin, Texas, Un...|within a few hours|              100%|                 91%|                t|                     t|                   t|                      1.0|\n",
            "|5636|   7148|https://www.airbn...|    Peggy|2009-01-27|Austin, Texas, Un...|within a few hours|              100%|                100%|                f|                     f|                   t|                      1.0|\n",
            "|5769|   8186|https://www.airbn...|Elizabeth|2009-02-19|Austin, Texas, Un...|    within an hour|              100%|                100%|                t|                     t|                   t|                      1.0|\n",
            "+----+-------+--------------------+---------+----------+--------------------+------------------+------------------+--------------------+-----------------+----------------------+--------------------+-------------------------+\n",
            "only showing top 5 rows\n",
            "\n"
          ],
          "name": "stdout"
        }
      ]
    },
    {
      "cell_type": "code",
      "metadata": {
        "colab": {
          "base_uri": "https://localhost:8080/"
        },
        "id": "oeJhiXcKRrag",
        "outputId": "eaacbdd0-ccd2-4038-c8f4-956244f34095"
      },
      "source": [
        "host_columns = ['id', 'host_id', 'host_url', 'host_name', 'host_since', 'host_location', 'host_response_time', 'host_response_rate', 'host_acceptance_rate', 'host_is_superhost', 'host_identity_verified', 'host_has_profile_pic', 'host_total_listings_count']\n",
        "austin_host_df = austin_listing_df.select(*host_columns)\n",
        "austin_host_df.show(5)"
      ],
      "execution_count": null,
      "outputs": [
        {
          "output_type": "stream",
          "text": [
            "+----+-------+--------------------+---------+----------+--------------------+------------------+------------------+--------------------+-----------------+----------------------+--------------------+-------------------------+\n",
            "|  id|host_id|            host_url|host_name|host_since|       host_location|host_response_time|host_response_rate|host_acceptance_rate|host_is_superhost|host_identity_verified|host_has_profile_pic|host_total_listings_count|\n",
            "+----+-------+--------------------+---------+----------+--------------------+------------------+------------------+--------------------+-----------------+----------------------+--------------------+-------------------------+\n",
            "|2265|   2466|https://www.airbn...|    Paddy|2008-08-23|Austin, Texas, Un...|within a few hours|              100%|                 90%|                f|                     t|                   t|                      3.0|\n",
            "|5245|   2466|https://www.airbn...|    Paddy|2008-08-23|Austin, Texas, Un...|within a few hours|              100%|                 90%|                f|                     t|                   t|                      3.0|\n",
            "|5456|   8028|https://www.airbn...|   Sylvia|2009-02-16|Austin, Texas, Un...|within a few hours|              100%|                 91%|                t|                     t|                   t|                      1.0|\n",
            "|5636|   7148|https://www.airbn...|    Peggy|2009-01-27|Austin, Texas, Un...|within a few hours|              100%|                100%|                f|                     f|                   t|                      1.0|\n",
            "|5769|   8186|https://www.airbn...|Elizabeth|2009-02-19|Austin, Texas, Un...|    within an hour|              100%|                100%|                t|                     t|                   t|                      1.0|\n",
            "+----+-------+--------------------+---------+----------+--------------------+------------------+------------------+--------------------+-----------------+----------------------+--------------------+-------------------------+\n",
            "only showing top 5 rows\n",
            "\n"
          ],
          "name": "stdout"
        }
      ]
    },
    {
      "cell_type": "code",
      "metadata": {
        "colab": {
          "base_uri": "https://localhost:8080/"
        },
        "id": "nXafrpJ4KyY1",
        "outputId": "dfdcca83-b180-47fe-844f-fbd2b610fc1a"
      },
      "source": [
        "la_listing_df=spark.read.format(\"csv\")\\\n",
        ".schema(customSchema)\\\n",
        ".option(\"header\", \"true\")\\\n",
        ".option(\"quote\", \"\\\"\")\\\n",
        ".option(\"escape\", \"\\\"\")\\\n",
        ".option(\"ignoreTrailingWhiteSpace\", True)\\\n",
        ".option(\"ignoreLeadingWhiteSpace\",True)\\\n",
        ".option(\"STOP_AT_CLOSING_QUOTE\", True)\\\n",
        ".option(\"multiLine\", \"true\").load('LA/la_listings.csv').withColumn(\"host_about\", translate(translate('host_about',\"\\r\",\"\"),\"\\n\", \",\"))\n",
        "\n",
        "la_listing_df.show(5)"
      ],
      "execution_count": null,
      "outputs": [
        {
          "output_type": "stream",
          "text": [
            "+----+--------------------+--------------+------------+--------------------+--------------------+---------------------+--------------------+-------+--------------------+--------------+----------+--------------------+--------------------+------------------+------------------+--------------------+-----------------+--------------------+--------------------+------------------+-------------------+-------------------------+--------------------+--------------------+----------------------+--------------------+----------------------+----------------------------+--------+----------+--------------------+---------------+------------+---------+--------------+--------+----+--------------------+-------+--------------+--------------+----------------------+----------------------+----------------------+----------------------+----------------------+----------------------+----------------+----------------+---------------+---------------+---------------+----------------+---------------------+-----------------+---------------------+----------------------+------------+-----------+--------------------+----------------------+-------------------------+---------------------+---------------------------+----------------------+-------------------+-------+----------------+------------------------------+-------------------------------------------+--------------------------------------------+-------------------------------------------+-----------------+\n",
            "|  id|         listing_url|     scrape_id|last_scraped|                name|         description|neighborhood_overview|         picture_url|host_id|            host_url|     host_name|host_since|       host_location|          host_about|host_response_time|host_response_rate|host_acceptance_rate|host_is_superhost|  host_thumbnail_url|    host_picture_url|host_neighbourhood|host_listings_count|host_total_listings_count|  host_verifications|host_has_profile_pic|host_identity_verified|       neighbourhood|neighbourhood_cleansed|neighbourhood_group_cleansed|latitude| longitude|       property_type|      room_type|accommodates|bathrooms|bathrooms_text|bedrooms|beds|           amenities|  price|minimum_nights|maximum_nights|minimum_minimum_nights|maximum_minimum_nights|minimum_maximum_nights|maximum_maximum_nights|minimum_nights_avg_ntm|maximum_nights_avg_ntm|calendar_updated|has_availability|availability_30|availability_60|availability_90|availability_365|calendar_last_scraped|number_of_reviews|number_of_reviews_ltm|number_of_reviews_l30d|first_review|last_review|review_scores_rating|review_scores_accuracy|review_scores_cleanliness|review_scores_checkin|review_scores_communication|review_scores_location|review_scores_value|license|instant_bookable|calculated_host_listings_count|calculated_host_listings_count_entire_homes|calculated_host_listings_count_private_rooms|calculated_host_listings_count_shared_rooms|reviews_per_month|\n",
            "+----+--------------------+--------------+------------+--------------------+--------------------+---------------------+--------------------+-------+--------------------+--------------+----------+--------------------+--------------------+------------------+------------------+--------------------+-----------------+--------------------+--------------------+------------------+-------------------+-------------------------+--------------------+--------------------+----------------------+--------------------+----------------------+----------------------------+--------+----------+--------------------+---------------+------------+---------+--------------+--------+----+--------------------+-------+--------------+--------------+----------------------+----------------------+----------------------+----------------------+----------------------+----------------------+----------------+----------------+---------------+---------------+---------------+----------------+---------------------+-----------------+---------------------+----------------------+------------+-----------+--------------------+----------------------+-------------------------+---------------------+---------------------------+----------------------+-------------------+-------+----------------+------------------------------+-------------------------------------------+--------------------------------------------+-------------------------------------------+-----------------+\n",
            "| 109|https://www.airbn...|20210207181900|  2021-02-09|Amazing bright el...|*** Unit upgraded...|                 null|https://a0.muscac...|    521|https://www.airbn...|         Paolo|2008-06-27|San Francisco, Ca...|Paolo Privitera, ...|      within a day|              100%|                  0%|                f|https://a0.muscac...|https://a0.muscac...|       Culver City|                1.0|                      1.0|['email', 'phone'...|                   t|                     t|                null|                  null|                Other Cities|33.98209|-118.38494|  Entire condominium|Entire home/apt|           6|     null|       2 baths|     2.0| 3.0|[\"Hangers\", \"Smok...|$115.00|            30|           730|                  30.0|                  30.0|                 730.0|                 730.0|                  30.0|                 730.0|            null|               t|            0.0|            0.0|            0.0|             0.0|           2021-02-09|                2|                  0.0|                   0.0|  2011-08-15| 2016-05-15|                80.0|                  10.0|                     10.0|                  6.0|                        8.0|                  10.0|                8.0|   null|               f|                             1|                                          1|                                           0|                                          0|             0.02|\n",
            "|2708|https://www.airbn...|20210207181900|  2021-02-09|Runyon Canyon  | ...|Run Runyon Canyon...| Walk and run to R...|https://a0.muscac...|   3008|https://www.airbn...|         Chas.|2008-09-16|Los Angeles, Cali...|Writer.,Literary ...|    within an hour|              100%|                100%|                t|https://a0.muscac...|https://a0.muscac...|         Hollywood|                2.0|                      2.0|['email', 'phone'...|                   t|                     t|Los Angeles, Cali...|                  null|         City of Los Angeles|34.09768|-118.34602|Private room in a...|   Private room|           1|     null|     1.5 baths|     1.0| 1.0|[\"Hangers\", \"Dish...| $71.00|            30|           366|                  30.0|                  30.0|                1125.0|                1125.0|                  30.0|                1125.0|            null|               t|            4.0|           10.0|           40.0|           315.0|           2021-02-09|               28|                  5.0|                   0.0|  2014-06-09| 2020-11-08|                97.0|                  10.0|                     10.0|                 10.0|                       10.0|                  10.0|               10.0|   null|               t|                             2|                                          0|                                           2|                                          0|             0.34|\n",
            "|2732|https://www.airbn...|20210207181900|  2021-02-09|Zen Life at the B...|An oasis of tranq...| This is the best ...|https://a0.muscac...|   3041|https://www.airbn...|Yoga Priestess|2008-09-17|Santa Monica, Cal...|I have been teach...|within a few hours|               80%|                 43%|                f|https://a0.muscac...|https://a0.muscac...|      Santa Monica|                2.0|                      2.0|['email', 'phone'...|                   t|                     t|Santa Monica, Cal...|                  null|                Other Cities|34.00475|-118.48127|Private room in a...|   Private room|           1|     null|1 private bath|     1.0| 1.0|[\"Hangers\", \"Esse...|$155.00|             1|           180|                   1.0|                   1.0|                 180.0|                 180.0|                   1.0|                 180.0|            null|               t|           30.0|           60.0|           90.0|           365.0|           2021-02-09|               21|                  0.0|                   0.0|  2011-06-06| 2019-12-27|                94.0|                   9.0|                      9.0|                  9.0|                        9.0|                  10.0|                9.0| 228269|               f|                             2|                                          1|                                           1|                                          0|             0.18|\n",
            "|2864|https://www.airbn...|20210207181900|  2021-02-09|* Beautiful Maste...|Centrally located...| What makes the ne...|https://a0.muscac...|   3207|https://www.airbn...|     Bernadine|2008-09-25|Bellflower, Calif...|Fair, open, hones...|               N/A|               N/A|                 N/A|                f|https://a0.muscac...|https://a0.muscac...|        Bellflower|                1.0|                      1.0|['email', 'phone'...|                   t|                     t|Bellflower, Calif...|                  null|                Other Cities|33.87619|-118.11397|    Entire apartment|Entire home/apt|           2|     null|        1 bath|     1.0| 1.0|[\"Long term stays...| $50.00|            30|           730|                  30.0|                  30.0|                1125.0|                1125.0|                  30.0|                1125.0|            null|               t|            0.0|            0.0|            0.0|             0.0|           2021-02-09|                0|                  0.0|                   0.0|        null|       null|                null|                  null|                     null|                 null|                       null|                  null|               null|   null|               t|                             1|                                          1|                                           0|                                          0|             null|\n",
            "|5728|https://www.airbn...|20210207181900|  2021-02-10|Tiny Home in Arti...|Our home is locat...| Our neighborhood ...|https://a0.muscac...|   9171|https://www.airbn...|         Sanni|2009-03-05|Los Angeles, Cali...|we are loving our...|within a few hours|              100%|                 87%|                t|https://a0.muscac...|https://a0.muscac...|           Del Rey|                8.0|                      8.0|['email', 'phone'...|                   t|                     t|Los Angeles, Cali...|                  null|         City of Los Angeles| 33.9875|  -118.432|Private room in t...|   Private room|           2|     null| 1 shared bath|     1.0| 1.0|[\"Hangers\", \"Micr...| $42.00|            30|          1125|                  30.0|                  30.0|                1125.0|                1125.0|                  30.0|                1125.0|            null|               t|            1.0|            1.0|            1.0|             1.0|           2021-02-10|              310|                  3.0|                   0.0|  2009-07-17| 2020-04-29|                96.0|                  10.0|                     10.0|                 10.0|                       10.0|                  10.0|                9.0|   null|               f|                             4|                                          1|                                           3|                                          0|              2.2|\n",
            "+----+--------------------+--------------+------------+--------------------+--------------------+---------------------+--------------------+-------+--------------------+--------------+----------+--------------------+--------------------+------------------+------------------+--------------------+-----------------+--------------------+--------------------+------------------+-------------------+-------------------------+--------------------+--------------------+----------------------+--------------------+----------------------+----------------------------+--------+----------+--------------------+---------------+------------+---------+--------------+--------+----+--------------------+-------+--------------+--------------+----------------------+----------------------+----------------------+----------------------+----------------------+----------------------+----------------+----------------+---------------+---------------+---------------+----------------+---------------------+-----------------+---------------------+----------------------+------------+-----------+--------------------+----------------------+-------------------------+---------------------+---------------------------+----------------------+-------------------+-------+----------------+------------------------------+-------------------------------------------+--------------------------------------------+-------------------------------------------+-----------------+\n",
            "only showing top 5 rows\n",
            "\n"
          ],
          "name": "stdout"
        }
      ]
    },
    {
      "cell_type": "code",
      "metadata": {
        "id": "VeS2lUdzK1VL"
      },
      "source": [
        "#la_listing_df = la_listing_df.withColumn(\"host_about\", translate(translate('host_about',\"\\r\",\"\"),\"\\n\", \",\"))\n",
        "#la_listing_df.show(5)"
      ],
      "execution_count": null,
      "outputs": []
    },
    {
      "cell_type": "code",
      "metadata": {
        "id": "l8Ht4CcdaYnJ"
      },
      "source": [
        "austin_listing_cleaned_df = austin_listing_df.select(*cleaned_list_columns)\n",
        "la_listing_cleaned_df = la_listing_df.select(*cleaned_list_columns)"
      ],
      "execution_count": null,
      "outputs": []
    },
    {
      "cell_type": "code",
      "metadata": {
        "id": "2aoDLc3zblTl"
      },
      "source": [
        "austin_listing_cleaned_df = austin_listing_cleaned_df.na.drop(how='all').withColumn('property_area', lit('Texas')).withColumnRenamed('neighbourhood_cleansed', 'neighbourhood_pin').withColumnRenamed('id', 'listing_id')\n",
        "la_listing_cleaned_df = la_listing_cleaned_df.na.drop(how='all').withColumn('property_area', lit('California')).withColumnRenamed('neighbourhood_cleansed', 'neighbourhood_pin').withColumnRenamed('id', 'listing_id')"
      ],
      "execution_count": null,
      "outputs": []
    },
    {
      "cell_type": "code",
      "metadata": {
        "colab": {
          "base_uri": "https://localhost:8080/"
        },
        "id": "9xvqUKLmSC29",
        "outputId": "3ace40ac-ac5b-48e6-bded-6e04560c81e9"
      },
      "source": [
        "aust_la_listing_df_cleaned.dtypes"
      ],
      "execution_count": null,
      "outputs": [
        {
          "output_type": "execute_result",
          "data": {
            "text/plain": [
              "[('listing_id', 'int'),\n",
              " ('host_id', 'int'),\n",
              " ('host_url', 'string'),\n",
              " ('host_name', 'string'),\n",
              " ('host_since', 'date'),\n",
              " ('host_location', 'string'),\n",
              " ('host_is_superhost', 'string'),\n",
              " ('host_response_time', 'string'),\n",
              " ('host_response_rate', 'string'),\n",
              " ('host_acceptance_rate', 'string'),\n",
              " ('host_verifications', 'string'),\n",
              " ('host_identity_verified', 'string'),\n",
              " ('host_has_profile_pic', 'string'),\n",
              " ('host_total_listings_count', 'double'),\n",
              " ('neighbourhood_pin', 'int'),\n",
              " ('property_type', 'string'),\n",
              " ('room_type', 'string'),\n",
              " ('accommodates', 'int'),\n",
              " ('bathrooms_text', 'string'),\n",
              " ('bedrooms', 'double'),\n",
              " ('beds', 'double'),\n",
              " ('amenities', 'string'),\n",
              " ('minimum_nights', 'int'),\n",
              " ('maximum_nights', 'int'),\n",
              " ('number_of_reviews', 'int'),\n",
              " ('review_scores_rating', 'double'),\n",
              " ('reviews_per_month', 'double'),\n",
              " ('property_area', 'string')]"
            ]
          },
          "metadata": {
            "tags": []
          },
          "execution_count": 42
        }
      ]
    },
    {
      "cell_type": "code",
      "metadata": {
        "colab": {
          "base_uri": "https://localhost:8080/"
        },
        "id": "N95XZRdkc9KG",
        "outputId": "87035f47-89e5-438d-88eb-16cc7cafdcb0"
      },
      "source": [
        "aust_la_listing_df_cleaned = austin_listing_cleaned_df.union(la_listing_cleaned_df)\n",
        "aust_la_listing_df_cleaned.show()"
      ],
      "execution_count": null,
      "outputs": [
        {
          "output_type": "stream",
          "text": [
            "+----------+-------+--------------------+---------+----------+--------------------+-----------------+------------------+------------------+--------------------+--------------------+----------------------+--------------------+-------------------------+-----------------+--------------------+---------------+------------+--------------+--------+----+--------------------+--------------+--------------+-----------------+--------------------+-----------------+-------------+\n",
            "|listing_id|host_id|            host_url|host_name|host_since|       host_location|host_is_superhost|host_response_time|host_response_rate|host_acceptance_rate|  host_verifications|host_identity_verified|host_has_profile_pic|host_total_listings_count|neighbourhood_pin|       property_type|      room_type|accommodates|bathrooms_text|bedrooms|beds|           amenities|minimum_nights|maximum_nights|number_of_reviews|review_scores_rating|reviews_per_month|property_area|\n",
            "+----------+-------+--------------------+---------+----------+--------------------+-----------------+------------------+------------------+--------------------+--------------------+----------------------+--------------------+-------------------------+-----------------+--------------------+---------------+------------+--------------+--------+----+--------------------+--------------+--------------+-----------------+--------------------+-----------------+-------------+\n",
            "|      2265|   2466|https://www.airbn...|    Paddy|2008-08-23|Austin, Texas, Un...|                f|within a few hours|              100%|                 90%|['email', 'phone'...|                     t|                   t|                      3.0|            78702|        Entire house|Entire home/apt|           4|       2 baths|     2.0| 2.0|[\"Free parking on...|             7|           180|               24|                93.0|             0.17|        Texas|\n",
            "|      5245|   2466|https://www.airbn...|    Paddy|2008-08-23|Austin, Texas, Un...|                f|within a few hours|              100%|                 90%|['email', 'phone'...|                     t|                   t|                      3.0|            78702|Private room in h...|   Private room|           2|1 private bath|     1.0| 2.0|[\"Free parking on...|            30|            60|                9|                91.0|             0.06|        Texas|\n",
            "|      5456|   8028|https://www.airbn...|   Sylvia|2009-02-16|Austin, Texas, Un...|                t|within a few hours|              100%|                 91%|['email', 'phone'...|                     t|                   t|                      1.0|            78702|   Entire guesthouse|Entire home/apt|           3|        1 bath|     1.0| 2.0|[\"Hair dryer\", \"D...|             2|            90|              543|                97.0|             3.74|        Texas|\n",
            "|      5636|   7148|https://www.airbn...|    Peggy|2009-01-27|Austin, Texas, Un...|                f|within a few hours|              100%|                100%|['email', 'phone'...|                     f|                   t|                      1.0|            78704|   Entire guesthouse|Entire home/apt|           2|        1 bath|     1.0| 4.0|[\"Free parking on...|            30|            90|               21|                95.0|             0.15|        Texas|\n",
            "|      5769|   8186|https://www.airbn...|Elizabeth|2009-02-19|Austin, Texas, Un...|                t|    within an hour|              100%|                100%|['email', 'phone'...|                     t|                   t|                      1.0|            78729|Private room in h...|   Private room|           2| 1 shared bath|     1.0| 1.0|[\"Shampoo\", \"Indo...|             1|            14|              259|                98.0|             1.96|        Texas|\n",
            "|      6413|  13879|https://www.airbn...|     Todd|2009-04-17|Austin, Texas, Un...|                t|    within an hour|              100%|                100%|['email', 'phone'...|                     t|                   t|                      1.0|            78704|   Entire guesthouse|Entire home/apt|           2|        1 bath|    null| 1.0|[\"Free parking on...|            30|           365|              115|                99.0|             0.85|        Texas|\n",
            "|      6448|  14156|https://www.airbn...|      Amy|2009-04-20|Austin, Texas, Un...|                t|    within an hour|              100%|                100%|['email', 'phone'...|                     t|                   t|                      2.0|            78704|   Entire guesthouse|Entire home/apt|           3|        1 bath|     1.0| 2.0|[\"Free parking on...|             3|           365|              235|                99.0|             2.04|        Texas|\n",
            "|     13035|  50793|https://www.airbn...|    Molly|2009-11-02|Austin, Texas, Un...|                t|    within an hour|              100%|                100%|['email', 'phone'...|                     t|                   t|                      1.0|            78702|        Entire house|Entire home/apt|           4|       2 baths|     2.0| 2.0|[\"Free parking on...|             2|            12|               12|               100.0|              0.1|        Texas|\n",
            "|     21126|  80406|https://www.airbn...|     Dani|2010-02-11|Austin, Texas, Un...|                t|    within an hour|              100%|                100%|['email', 'phone'...|                     t|                   t|                     10.0|            78704|        Entire house|Entire home/apt|           4|        1 bath|     2.0| 2.0|[\"Free parking on...|             1|           365|              113|                98.0|             1.16|        Texas|\n",
            "|     22166|  84906|https://www.airbn...|   Stacey|2010-02-24|Austin, Texas, Un...|                t|within a few hours|              100%|                 83%|['email', 'phone'...|                     t|                   t|                      2.0|            78759|  Entire condominium|Entire home/apt|           4|     2.5 baths|     2.0| 2.0|[\"Indoor fireplac...|            30|           365|               11|                96.0|             0.08|        Texas|\n",
            "|     22828|  56488|https://www.airbn...|    David|2009-11-22|Austin, Texas, Un...|                t|    within an hour|              100%|                 75%|['email', 'phone'...|                     t|                   t|                      1.0|            78741|   Entire guesthouse|Entire home/apt|           2|        1 bath|     1.0| 1.0|[\"Hair dryer\", \"O...|            31|           365|               39|                98.0|             0.29|        Texas|\n",
            "|     22982|  89031|https://www.airbn...|     Gina|2010-03-06|Austin, Texas, Un...|                t|within a few hours|              100%|                 97%|['email', 'phone'...|                     t|                   t|                      1.0|            78703|   Entire guesthouse|Entire home/apt|           4|        1 bath|     2.0| 2.0|[\"Free parking on...|            30|           730|              164|                98.0|             1.23|        Texas|\n",
            "|     25028| 102862|https://www.airbn...|    Elana|2010-04-03|Austin, Texas, Un...|                t|               N/A|               N/A|                 33%|['email', 'phone'...|                     t|                   t|                      1.0|            78757|        Entire house|Entire home/apt|           6|       2 baths|     3.0| 3.0|[\"Free parking on...|             7|           365|               34|                99.0|             0.26|        Texas|\n",
            "|     37324| 161189|https://www.airbn...|     null|      null|                null|             null|              null|              null|                null|                None|                  null|                null|                     null|            78727|Private room in h...|   Private room|           1|        1 bath|     1.0| 1.0|[\"Free parking on...|            30|           730|               38|                97.0|             0.55|        Texas|\n",
            "|     40285| 170787|https://www.airbn...|   Robbie|2010-07-18|Austin, Texas, Un...|                f|    within an hour|              100%|                 29%|['phone', 'review...|                     f|                   t|                      1.0|            78731|        Entire house|Entire home/apt|           4|       2 baths|     2.0| 2.0|[\"Shampoo\", \"Indo...|             2|            30|               30|                98.0|             0.25|        Texas|\n",
            "|     47572| 215917|https://www.airbn...|  Belinda|2010-08-28|Austin, Texas, Un...|                t|within a few hours|              100%|                100%|['email', 'phone'...|                     t|                   t|                      1.0|            78758|Private room in h...|   Private room|           1|1 private bath|     1.0| 0.0|[\"Free parking on...|            30|           180|                4|               100.0|             0.17|        Texas|\n",
            "|     50310| 230553|https://www.airbn...|  Sevylla|2010-09-10|Austin, Texas, Un...|                t|within a few hours|              100%|                100%|['email', 'phone'...|                     t|                   t|                      2.0|            78744|  Entire guest suite|Entire home/apt|           2|        1 bath|     1.0| 1.0|[\"Free parking on...|            14|            60|              269|                96.0|             2.13|        Texas|\n",
            "|     50318|  12409|https://www.airbn...|     Flip|2009-04-06|Austin, Texas, Un...|                f|      within a day|               88%|                 40%|['email', 'phone'...|                     t|                   t|                      2.0|            78705|  Entire condominium|Entire home/apt|           2|        1 bath|     2.0| 0.0|[\"Free parking on...|            30|          1125|               30|                97.0|             0.24|        Texas|\n",
            "|     56690| 268988|https://www.airbn...|Stephanie|2010-10-23|Austin, Texas, Un...|                t|    within an hour|              100%|                 91%|['email', 'phone'...|                     t|                   t|                      2.0|            78704|    Entire apartment|Entire home/apt|           2|        1 bath|    null| 0.0|[\"Hair dryer\", \"S...|             2|            30|              176|                99.0|             1.46|        Texas|\n",
            "|     57187| 272156|https://www.airbn...|     Lois|2010-10-27|Austin, Texas, Un...|                t|    within an hour|              100%|                100%|['email', 'phone'...|                     f|                   t|                      2.0|            78704|   Entire guesthouse|Entire home/apt|           6|        1 bath|     1.0| 3.0|[\"Shampoo\", \"Hair...|             1|            15|              722|                98.0|             5.86|        Texas|\n",
            "+----------+-------+--------------------+---------+----------+--------------------+-----------------+------------------+------------------+--------------------+--------------------+----------------------+--------------------+-------------------------+-----------------+--------------------+---------------+------------+--------------+--------+----+--------------------+--------------+--------------+-----------------+--------------------+-----------------+-------------+\n",
            "only showing top 20 rows\n",
            "\n"
          ],
          "name": "stdout"
        }
      ]
    },
    {
      "cell_type": "code",
      "metadata": {
        "colab": {
          "base_uri": "https://localhost:8080/"
        },
        "id": "rcZViUkPd3mT",
        "outputId": "a2a396c4-46fb-4178-e399-d2ffb84508d0"
      },
      "source": [
        "aust_la_listing_df_cleaned.count()"
      ],
      "execution_count": null,
      "outputs": [
        {
          "output_type": "execute_result",
          "data": {
            "text/plain": [
              "42172"
            ]
          },
          "metadata": {
            "tags": []
          },
          "execution_count": 59
        }
      ]
    },
    {
      "cell_type": "code",
      "metadata": {
        "colab": {
          "base_uri": "https://localhost:8080/"
        },
        "id": "cx49lZAseVSv",
        "outputId": "f78dd429-277a-410b-fe8c-6ce27883e88a"
      },
      "source": [
        "aust_la_listing_df_cleaned.distinct().count()"
      ],
      "execution_count": null,
      "outputs": [
        {
          "output_type": "execute_result",
          "data": {
            "text/plain": [
              "42172"
            ]
          },
          "metadata": {
            "tags": []
          },
          "execution_count": 60
        }
      ]
    },
    {
      "cell_type": "code",
      "metadata": {
        "id": "Hc1XucatfXUZ"
      },
      "source": [
        "aust_la_listing_df_cleaned.coalesce(1).write.format('csv').option('header',True).mode('overwrite').save('/content/drive/MyDrive/Udacity Data Engineering/airbnb_listing_austin_la_cleaned_output.csv')"
      ],
      "execution_count": null,
      "outputs": []
    },
    {
      "cell_type": "code",
      "metadata": {
        "colab": {
          "base_uri": "https://localhost:8080/"
        },
        "id": "9CyW6m8OAyqi",
        "outputId": "d2d290ed-a48d-4a7b-aee1-9cb85ac0c073"
      },
      "source": [
        "dfcsv = spark.read.csv(\"/content/drive/MyDrive/Udacity Data Engineering/austin_la_output_files_final/airbnb_listing_austin_la_cleaned_output.csv\")\n",
        "dfcsv.show()"
      ],
      "execution_count": null,
      "outputs": [
        {
          "output_type": "stream",
          "text": [
            "+----------+-------+--------------------+---------+----------+--------------------+-----------------+------------------+------------------+--------------------+--------------------+--------------------+--------------------+--------------------+-----------------+--------------------+---------------+------------+--------------+--------+----+--------------------+--------------+--------------+-----------------+--------------------+-----------------+-------------+\n",
            "|       _c0|    _c1|                 _c2|      _c3|       _c4|                 _c5|              _c6|               _c7|               _c8|                 _c9|                _c10|                _c11|                _c12|                _c13|             _c14|                _c15|           _c16|        _c17|          _c18|    _c19|_c20|                _c21|          _c22|          _c23|             _c24|                _c25|             _c26|         _c27|\n",
            "+----------+-------+--------------------+---------+----------+--------------------+-----------------+------------------+------------------+--------------------+--------------------+--------------------+--------------------+--------------------+-----------------+--------------------+---------------+------------+--------------+--------+----+--------------------+--------------+--------------+-----------------+--------------------+-----------------+-------------+\n",
            "|listing_id|host_id|            host_url|host_name|host_since|       host_location|host_is_superhost|host_response_time|host_response_rate|host_acceptance_rate|  host_verifications|host_identity_ver...|host_has_profile_pic|host_total_listin...|neighbourhood_pin|       property_type|      room_type|accommodates|bathrooms_text|bedrooms|beds|           amenities|minimum_nights|maximum_nights|number_of_reviews|review_scores_rating|reviews_per_month|property_area|\n",
            "|      2265|   2466|https://www.airbn...|    Paddy|2008-08-23|Austin, Texas, Un...|                f|within a few hours|              100%|                 90%|['email', 'phone'...|                   t|                   t|                 3.0|            78702|        Entire house|Entire home/apt|           4|       2 baths|     2.0| 2.0|[\"Free parking on...|             7|           180|               24|                93.0|             0.17|        Texas|\n",
            "|      5245|   2466|https://www.airbn...|    Paddy|2008-08-23|Austin, Texas, Un...|                f|within a few hours|              100%|                 90%|['email', 'phone'...|                   t|                   t|                 3.0|            78702|Private room in h...|   Private room|           2|1 private bath|     1.0| 2.0|[\"Free parking on...|            30|            60|                9|                91.0|             0.06|        Texas|\n",
            "|      5456|   8028|https://www.airbn...|   Sylvia|2009-02-16|Austin, Texas, Un...|                t|within a few hours|              100%|                 91%|['email', 'phone'...|                   t|                   t|                 1.0|            78702|   Entire guesthouse|Entire home/apt|           3|        1 bath|     1.0| 2.0|[\"Hair dryer\", \"D...|             2|            90|              543|                97.0|             3.74|        Texas|\n",
            "|      5636|   7148|https://www.airbn...|    Peggy|2009-01-27|Austin, Texas, Un...|                f|within a few hours|              100%|                100%|['email', 'phone'...|                   f|                   t|                 1.0|            78704|   Entire guesthouse|Entire home/apt|           2|        1 bath|     1.0| 4.0|[\"Free parking on...|            30|            90|               21|                95.0|             0.15|        Texas|\n",
            "|      5769|   8186|https://www.airbn...|Elizabeth|2009-02-19|Austin, Texas, Un...|                t|    within an hour|              100%|                100%|['email', 'phone'...|                   t|                   t|                 1.0|            78729|Private room in h...|   Private room|           2| 1 shared bath|     1.0| 1.0|[\"Shampoo\", \"Indo...|             1|            14|              259|                98.0|             1.96|        Texas|\n",
            "|      6413|  13879|https://www.airbn...|     Todd|2009-04-17|Austin, Texas, Un...|                t|    within an hour|              100%|                100%|['email', 'phone'...|                   t|                   t|                 1.0|            78704|   Entire guesthouse|Entire home/apt|           2|        1 bath|    null| 1.0|[\"Free parking on...|            30|           365|              115|                99.0|             0.85|        Texas|\n",
            "|      6448|  14156|https://www.airbn...|      Amy|2009-04-20|Austin, Texas, Un...|                t|    within an hour|              100%|                100%|['email', 'phone'...|                   t|                   t|                 2.0|            78704|   Entire guesthouse|Entire home/apt|           3|        1 bath|     1.0| 2.0|[\"Free parking on...|             3|           365|              235|                99.0|             2.04|        Texas|\n",
            "|     13035|  50793|https://www.airbn...|    Molly|2009-11-02|Austin, Texas, Un...|                t|    within an hour|              100%|                100%|['email', 'phone'...|                   t|                   t|                 1.0|            78702|        Entire house|Entire home/apt|           4|       2 baths|     2.0| 2.0|[\"Free parking on...|             2|            12|               12|               100.0|              0.1|        Texas|\n",
            "|     21126|  80406|https://www.airbn...|     Dani|2010-02-11|Austin, Texas, Un...|                t|    within an hour|              100%|                100%|['email', 'phone'...|                   t|                   t|                10.0|            78704|        Entire house|Entire home/apt|           4|        1 bath|     2.0| 2.0|[\"Free parking on...|             1|           365|              113|                98.0|             1.16|        Texas|\n",
            "|     22166|  84906|https://www.airbn...|   Stacey|2010-02-24|Austin, Texas, Un...|                t|within a few hours|              100%|                 83%|['email', 'phone'...|                   t|                   t|                 2.0|            78759|  Entire condominium|Entire home/apt|           4|     2.5 baths|     2.0| 2.0|[\"Indoor fireplac...|            30|           365|               11|                96.0|             0.08|        Texas|\n",
            "|     22828|  56488|https://www.airbn...|    David|2009-11-22|Austin, Texas, Un...|                t|    within an hour|              100%|                 75%|['email', 'phone'...|                   t|                   t|                 1.0|            78741|   Entire guesthouse|Entire home/apt|           2|        1 bath|     1.0| 1.0|[\"Hair dryer\", \"O...|            31|           365|               39|                98.0|             0.29|        Texas|\n",
            "|     22982|  89031|https://www.airbn...|     Gina|2010-03-06|Austin, Texas, Un...|                t|within a few hours|              100%|                 97%|['email', 'phone'...|                   t|                   t|                 1.0|            78703|   Entire guesthouse|Entire home/apt|           4|        1 bath|     2.0| 2.0|[\"Free parking on...|            30|           730|              164|                98.0|             1.23|        Texas|\n",
            "|     25028| 102862|https://www.airbn...|    Elana|2010-04-03|Austin, Texas, Un...|                t|               N/A|               N/A|                 33%|['email', 'phone'...|                   t|                   t|                 1.0|            78757|        Entire house|Entire home/apt|           6|       2 baths|     3.0| 3.0|[\"Free parking on...|             7|           365|               34|                99.0|             0.26|        Texas|\n",
            "|     37324| 161189|https://www.airbn...|     null|      null|                null|             null|              null|              null|                null|                None|                null|                null|                null|            78727|Private room in h...|   Private room|           1|        1 bath|     1.0| 1.0|[\"Free parking on...|            30|           730|               38|                97.0|             0.55|        Texas|\n",
            "|     40285| 170787|https://www.airbn...|   Robbie|2010-07-18|Austin, Texas, Un...|                f|    within an hour|              100%|                 29%|['phone', 'review...|                   f|                   t|                 1.0|            78731|        Entire house|Entire home/apt|           4|       2 baths|     2.0| 2.0|[\"Shampoo\", \"Indo...|             2|            30|               30|                98.0|             0.25|        Texas|\n",
            "|     47572| 215917|https://www.airbn...|  Belinda|2010-08-28|Austin, Texas, Un...|                t|within a few hours|              100%|                100%|['email', 'phone'...|                   t|                   t|                 1.0|            78758|Private room in h...|   Private room|           1|1 private bath|     1.0| 0.0|[\"Free parking on...|            30|           180|                4|               100.0|             0.17|        Texas|\n",
            "|     50310| 230553|https://www.airbn...|  Sevylla|2010-09-10|Austin, Texas, Un...|                t|within a few hours|              100%|                100%|['email', 'phone'...|                   t|                   t|                 2.0|            78744|  Entire guest suite|Entire home/apt|           2|        1 bath|     1.0| 1.0|[\"Free parking on...|            14|            60|              269|                96.0|             2.13|        Texas|\n",
            "|     50318|  12409|https://www.airbn...|     Flip|2009-04-06|Austin, Texas, Un...|                f|      within a day|               88%|                 40%|['email', 'phone'...|                   t|                   t|                 2.0|            78705|  Entire condominium|Entire home/apt|           2|        1 bath|     2.0| 0.0|[\"Free parking on...|            30|          1125|               30|                97.0|             0.24|        Texas|\n",
            "|     56690| 268988|https://www.airbn...|Stephanie|2010-10-23|Austin, Texas, Un...|                t|    within an hour|              100%|                 91%|['email', 'phone'...|                   t|                   t|                 2.0|            78704|    Entire apartment|Entire home/apt|           2|        1 bath|    null| 0.0|[\"Hair dryer\", \"S...|             2|            30|              176|                99.0|             1.46|        Texas|\n",
            "+----------+-------+--------------------+---------+----------+--------------------+-----------------+------------------+------------------+--------------------+--------------------+--------------------+--------------------+--------------------+-----------------+--------------------+---------------+------------+--------------+--------+----+--------------------+--------------+--------------+-----------------+--------------------+-----------------+-------------+\n",
            "only showing top 20 rows\n",
            "\n"
          ],
          "name": "stdout"
        }
      ]
    },
    {
      "cell_type": "code",
      "metadata": {
        "id": "hRRqxEHYABhw"
      },
      "source": [
        "aust_la_listing_df_cleaned\\\n",
        "            .coalesce(1)\\\n",
        "            .write\\\n",
        "            .mode('overwrite')\\\n",
        "            .csv('/content/drive/MyDrive/Udacity Data Engineering/listing_austin_la_cleaned_output.csv', header = 'true')"
      ],
      "execution_count": null,
      "outputs": []
    },
    {
      "cell_type": "code",
      "metadata": {
        "colab": {
          "base_uri": "https://localhost:8080/"
        },
        "id": "JAzjEBYgIvwe",
        "outputId": "7a67de62-07ad-4cdd-d690-6c81d2cf1066"
      },
      "source": [
        "f = \"/content/drive/MyDrive/Udacity Data Engineering/austin_la_output_files_final/airbnb_listing_austin_la_cleaned_output.csv\"\n",
        "\n",
        "\n",
        "dfcsv1 = spark.read.format('csv').options(header='true').load(f)\n",
        "                  \n",
        "dfcsv1.show()"
      ],
      "execution_count": null,
      "outputs": [
        {
          "output_type": "stream",
          "text": [
            "+----------+-------+--------------------+---------+----------+--------------------+-----------------+------------------+------------------+--------------------+--------------------+----------------------+--------------------+-------------------------+-----------------+--------------------+---------------+------------+--------------+--------+----+--------------------+--------------+--------------+-----------------+--------------------+-----------------+-------------+\n",
            "|listing_id|host_id|            host_url|host_name|host_since|       host_location|host_is_superhost|host_response_time|host_response_rate|host_acceptance_rate|  host_verifications|host_identity_verified|host_has_profile_pic|host_total_listings_count|neighbourhood_pin|       property_type|      room_type|accommodates|bathrooms_text|bedrooms|beds|           amenities|minimum_nights|maximum_nights|number_of_reviews|review_scores_rating|reviews_per_month|property_area|\n",
            "+----------+-------+--------------------+---------+----------+--------------------+-----------------+------------------+------------------+--------------------+--------------------+----------------------+--------------------+-------------------------+-----------------+--------------------+---------------+------------+--------------+--------+----+--------------------+--------------+--------------+-----------------+--------------------+-----------------+-------------+\n",
            "|      2265|   2466|https://www.airbn...|    Paddy|2008-08-23|Austin, Texas, Un...|                f|within a few hours|              100%|                 90%|['email', 'phone'...|                     t|                   t|                      3.0|            78702|        Entire house|Entire home/apt|           4|       2 baths|     2.0| 2.0|[\"Free parking on...|             7|           180|               24|                93.0|             0.17|        Texas|\n",
            "|      5245|   2466|https://www.airbn...|    Paddy|2008-08-23|Austin, Texas, Un...|                f|within a few hours|              100%|                 90%|['email', 'phone'...|                     t|                   t|                      3.0|            78702|Private room in h...|   Private room|           2|1 private bath|     1.0| 2.0|[\"Free parking on...|            30|            60|                9|                91.0|             0.06|        Texas|\n",
            "|      5456|   8028|https://www.airbn...|   Sylvia|2009-02-16|Austin, Texas, Un...|                t|within a few hours|              100%|                 91%|['email', 'phone'...|                     t|                   t|                      1.0|            78702|   Entire guesthouse|Entire home/apt|           3|        1 bath|     1.0| 2.0|[\"Hair dryer\", \"D...|             2|            90|              543|                97.0|             3.74|        Texas|\n",
            "|      5636|   7148|https://www.airbn...|    Peggy|2009-01-27|Austin, Texas, Un...|                f|within a few hours|              100%|                100%|['email', 'phone'...|                     f|                   t|                      1.0|            78704|   Entire guesthouse|Entire home/apt|           2|        1 bath|     1.0| 4.0|[\"Free parking on...|            30|            90|               21|                95.0|             0.15|        Texas|\n",
            "|      5769|   8186|https://www.airbn...|Elizabeth|2009-02-19|Austin, Texas, Un...|                t|    within an hour|              100%|                100%|['email', 'phone'...|                     t|                   t|                      1.0|            78729|Private room in h...|   Private room|           2| 1 shared bath|     1.0| 1.0|[\"Shampoo\", \"Indo...|             1|            14|              259|                98.0|             1.96|        Texas|\n",
            "|      6413|  13879|https://www.airbn...|     Todd|2009-04-17|Austin, Texas, Un...|                t|    within an hour|              100%|                100%|['email', 'phone'...|                     t|                   t|                      1.0|            78704|   Entire guesthouse|Entire home/apt|           2|        1 bath|    null| 1.0|[\"Free parking on...|            30|           365|              115|                99.0|             0.85|        Texas|\n",
            "|      6448|  14156|https://www.airbn...|      Amy|2009-04-20|Austin, Texas, Un...|                t|    within an hour|              100%|                100%|['email', 'phone'...|                     t|                   t|                      2.0|            78704|   Entire guesthouse|Entire home/apt|           3|        1 bath|     1.0| 2.0|[\"Free parking on...|             3|           365|              235|                99.0|             2.04|        Texas|\n",
            "|     13035|  50793|https://www.airbn...|    Molly|2009-11-02|Austin, Texas, Un...|                t|    within an hour|              100%|                100%|['email', 'phone'...|                     t|                   t|                      1.0|            78702|        Entire house|Entire home/apt|           4|       2 baths|     2.0| 2.0|[\"Free parking on...|             2|            12|               12|               100.0|              0.1|        Texas|\n",
            "|     21126|  80406|https://www.airbn...|     Dani|2010-02-11|Austin, Texas, Un...|                t|    within an hour|              100%|                100%|['email', 'phone'...|                     t|                   t|                     10.0|            78704|        Entire house|Entire home/apt|           4|        1 bath|     2.0| 2.0|[\"Free parking on...|             1|           365|              113|                98.0|             1.16|        Texas|\n",
            "|     22166|  84906|https://www.airbn...|   Stacey|2010-02-24|Austin, Texas, Un...|                t|within a few hours|              100%|                 83%|['email', 'phone'...|                     t|                   t|                      2.0|            78759|  Entire condominium|Entire home/apt|           4|     2.5 baths|     2.0| 2.0|[\"Indoor fireplac...|            30|           365|               11|                96.0|             0.08|        Texas|\n",
            "|     22828|  56488|https://www.airbn...|    David|2009-11-22|Austin, Texas, Un...|                t|    within an hour|              100%|                 75%|['email', 'phone'...|                     t|                   t|                      1.0|            78741|   Entire guesthouse|Entire home/apt|           2|        1 bath|     1.0| 1.0|[\"Hair dryer\", \"O...|            31|           365|               39|                98.0|             0.29|        Texas|\n",
            "|     22982|  89031|https://www.airbn...|     Gina|2010-03-06|Austin, Texas, Un...|                t|within a few hours|              100%|                 97%|['email', 'phone'...|                     t|                   t|                      1.0|            78703|   Entire guesthouse|Entire home/apt|           4|        1 bath|     2.0| 2.0|[\"Free parking on...|            30|           730|              164|                98.0|             1.23|        Texas|\n",
            "|     25028| 102862|https://www.airbn...|    Elana|2010-04-03|Austin, Texas, Un...|                t|               N/A|               N/A|                 33%|['email', 'phone'...|                     t|                   t|                      1.0|            78757|        Entire house|Entire home/apt|           6|       2 baths|     3.0| 3.0|[\"Free parking on...|             7|           365|               34|                99.0|             0.26|        Texas|\n",
            "|     37324| 161189|https://www.airbn...|     null|      null|                null|             null|              null|              null|                null|                None|                  null|                null|                     null|            78727|Private room in h...|   Private room|           1|        1 bath|     1.0| 1.0|[\"Free parking on...|            30|           730|               38|                97.0|             0.55|        Texas|\n",
            "|     40285| 170787|https://www.airbn...|   Robbie|2010-07-18|Austin, Texas, Un...|                f|    within an hour|              100%|                 29%|['phone', 'review...|                     f|                   t|                      1.0|            78731|        Entire house|Entire home/apt|           4|       2 baths|     2.0| 2.0|[\"Shampoo\", \"Indo...|             2|            30|               30|                98.0|             0.25|        Texas|\n",
            "|     47572| 215917|https://www.airbn...|  Belinda|2010-08-28|Austin, Texas, Un...|                t|within a few hours|              100%|                100%|['email', 'phone'...|                     t|                   t|                      1.0|            78758|Private room in h...|   Private room|           1|1 private bath|     1.0| 0.0|[\"Free parking on...|            30|           180|                4|               100.0|             0.17|        Texas|\n",
            "|     50310| 230553|https://www.airbn...|  Sevylla|2010-09-10|Austin, Texas, Un...|                t|within a few hours|              100%|                100%|['email', 'phone'...|                     t|                   t|                      2.0|            78744|  Entire guest suite|Entire home/apt|           2|        1 bath|     1.0| 1.0|[\"Free parking on...|            14|            60|              269|                96.0|             2.13|        Texas|\n",
            "|     50318|  12409|https://www.airbn...|     Flip|2009-04-06|Austin, Texas, Un...|                f|      within a day|               88%|                 40%|['email', 'phone'...|                     t|                   t|                      2.0|            78705|  Entire condominium|Entire home/apt|           2|        1 bath|     2.0| 0.0|[\"Free parking on...|            30|          1125|               30|                97.0|             0.24|        Texas|\n",
            "|     56690| 268988|https://www.airbn...|Stephanie|2010-10-23|Austin, Texas, Un...|                t|    within an hour|              100%|                 91%|['email', 'phone'...|                     t|                   t|                      2.0|            78704|    Entire apartment|Entire home/apt|           2|        1 bath|    null| 0.0|[\"Hair dryer\", \"S...|             2|            30|              176|                99.0|             1.46|        Texas|\n",
            "|     57187| 272156|https://www.airbn...|     Lois|2010-10-27|Austin, Texas, Un...|                t|    within an hour|              100%|                100%|['email', 'phone'...|                     f|                   t|                      2.0|            78704|   Entire guesthouse|Entire home/apt|           6|        1 bath|     1.0| 3.0|[\"Shampoo\", \"Hair...|             1|            15|              722|                98.0|             5.86|        Texas|\n",
            "+----------+-------+--------------------+---------+----------+--------------------+-----------------+------------------+------------------+--------------------+--------------------+----------------------+--------------------+-------------------------+-----------------+--------------------+---------------+------------+--------------+--------+----+--------------------+--------------+--------------+-----------------+--------------------+-----------------+-------------+\n",
            "only showing top 20 rows\n",
            "\n"
          ],
          "name": "stdout"
        }
      ]
    },
    {
      "cell_type": "code",
      "metadata": {
        "colab": {
          "base_uri": "https://localhost:8080/"
        },
        "id": "8AUVWzRdAn8Z",
        "outputId": "bb15283b-66b2-47ac-dde3-1ecad981cfe1"
      },
      "source": [
        "df2 = spark.read.parquet(\"/content/drive/MyDrive/Udacity Data Engineering/listing_austin_la_cleaned_output.csv/part-00000-a6046ebe-a494-4429-bcfa-6526d09fa429-c000.snappy.parquet\")\n",
        "df2.show()"
      ],
      "execution_count": null,
      "outputs": [
        {
          "output_type": "stream",
          "text": [
            "+----------+-------+--------------------+---------+----------+--------------------+-----------------+------------------+------------------+--------------------+--------------------+----------------------+--------------------+-------------------------+-----------------+--------------------+---------------+------------+--------------+--------+----+--------------------+--------------+--------------+-----------------+--------------------+-----------------+-------------+\n",
            "|listing_id|host_id|            host_url|host_name|host_since|       host_location|host_is_superhost|host_response_time|host_response_rate|host_acceptance_rate|  host_verifications|host_identity_verified|host_has_profile_pic|host_total_listings_count|neighbourhood_pin|       property_type|      room_type|accommodates|bathrooms_text|bedrooms|beds|           amenities|minimum_nights|maximum_nights|number_of_reviews|review_scores_rating|reviews_per_month|property_area|\n",
            "+----------+-------+--------------------+---------+----------+--------------------+-----------------+------------------+------------------+--------------------+--------------------+----------------------+--------------------+-------------------------+-----------------+--------------------+---------------+------------+--------------+--------+----+--------------------+--------------+--------------+-----------------+--------------------+-----------------+-------------+\n",
            "|      2265|   2466|https://www.airbn...|    Paddy|2008-08-23|Austin, Texas, Un...|                f|within a few hours|              100%|                 90%|['email', 'phone'...|                     t|                   t|                      3.0|            78702|        Entire house|Entire home/apt|           4|       2 baths|     2.0| 2.0|[\"Free parking on...|             7|           180|               24|                93.0|             0.17|        Texas|\n",
            "|      5245|   2466|https://www.airbn...|    Paddy|2008-08-23|Austin, Texas, Un...|                f|within a few hours|              100%|                 90%|['email', 'phone'...|                     t|                   t|                      3.0|            78702|Private room in h...|   Private room|           2|1 private bath|     1.0| 2.0|[\"Free parking on...|            30|            60|                9|                91.0|             0.06|        Texas|\n",
            "|      5456|   8028|https://www.airbn...|   Sylvia|2009-02-16|Austin, Texas, Un...|                t|within a few hours|              100%|                 91%|['email', 'phone'...|                     t|                   t|                      1.0|            78702|   Entire guesthouse|Entire home/apt|           3|        1 bath|     1.0| 2.0|[\"Hair dryer\", \"D...|             2|            90|              543|                97.0|             3.74|        Texas|\n",
            "|      5636|   7148|https://www.airbn...|    Peggy|2009-01-27|Austin, Texas, Un...|                f|within a few hours|              100%|                100%|['email', 'phone'...|                     f|                   t|                      1.0|            78704|   Entire guesthouse|Entire home/apt|           2|        1 bath|     1.0| 4.0|[\"Free parking on...|            30|            90|               21|                95.0|             0.15|        Texas|\n",
            "|      5769|   8186|https://www.airbn...|Elizabeth|2009-02-19|Austin, Texas, Un...|                t|    within an hour|              100%|                100%|['email', 'phone'...|                     t|                   t|                      1.0|            78729|Private room in h...|   Private room|           2| 1 shared bath|     1.0| 1.0|[\"Shampoo\", \"Indo...|             1|            14|              259|                98.0|             1.96|        Texas|\n",
            "|      6413|  13879|https://www.airbn...|     Todd|2009-04-17|Austin, Texas, Un...|                t|    within an hour|              100%|                100%|['email', 'phone'...|                     t|                   t|                      1.0|            78704|   Entire guesthouse|Entire home/apt|           2|        1 bath|    null| 1.0|[\"Free parking on...|            30|           365|              115|                99.0|             0.85|        Texas|\n",
            "|      6448|  14156|https://www.airbn...|      Amy|2009-04-20|Austin, Texas, Un...|                t|    within an hour|              100%|                100%|['email', 'phone'...|                     t|                   t|                      2.0|            78704|   Entire guesthouse|Entire home/apt|           3|        1 bath|     1.0| 2.0|[\"Free parking on...|             3|           365|              235|                99.0|             2.04|        Texas|\n",
            "|     13035|  50793|https://www.airbn...|    Molly|2009-11-02|Austin, Texas, Un...|                t|    within an hour|              100%|                100%|['email', 'phone'...|                     t|                   t|                      1.0|            78702|        Entire house|Entire home/apt|           4|       2 baths|     2.0| 2.0|[\"Free parking on...|             2|            12|               12|               100.0|              0.1|        Texas|\n",
            "|     21126|  80406|https://www.airbn...|     Dani|2010-02-11|Austin, Texas, Un...|                t|    within an hour|              100%|                100%|['email', 'phone'...|                     t|                   t|                     10.0|            78704|        Entire house|Entire home/apt|           4|        1 bath|     2.0| 2.0|[\"Free parking on...|             1|           365|              113|                98.0|             1.16|        Texas|\n",
            "|     22166|  84906|https://www.airbn...|   Stacey|2010-02-24|Austin, Texas, Un...|                t|within a few hours|              100%|                 83%|['email', 'phone'...|                     t|                   t|                      2.0|            78759|  Entire condominium|Entire home/apt|           4|     2.5 baths|     2.0| 2.0|[\"Indoor fireplac...|            30|           365|               11|                96.0|             0.08|        Texas|\n",
            "|     22828|  56488|https://www.airbn...|    David|2009-11-22|Austin, Texas, Un...|                t|    within an hour|              100%|                 75%|['email', 'phone'...|                     t|                   t|                      1.0|            78741|   Entire guesthouse|Entire home/apt|           2|        1 bath|     1.0| 1.0|[\"Hair dryer\", \"O...|            31|           365|               39|                98.0|             0.29|        Texas|\n",
            "|     22982|  89031|https://www.airbn...|     Gina|2010-03-06|Austin, Texas, Un...|                t|within a few hours|              100%|                 97%|['email', 'phone'...|                     t|                   t|                      1.0|            78703|   Entire guesthouse|Entire home/apt|           4|        1 bath|     2.0| 2.0|[\"Free parking on...|            30|           730|              164|                98.0|             1.23|        Texas|\n",
            "|     25028| 102862|https://www.airbn...|    Elana|2010-04-03|Austin, Texas, Un...|                t|               N/A|               N/A|                 33%|['email', 'phone'...|                     t|                   t|                      1.0|            78757|        Entire house|Entire home/apt|           6|       2 baths|     3.0| 3.0|[\"Free parking on...|             7|           365|               34|                99.0|             0.26|        Texas|\n",
            "|     37324| 161189|https://www.airbn...|     null|      null|                null|             null|              null|              null|                null|                None|                  null|                null|                     null|            78727|Private room in h...|   Private room|           1|        1 bath|     1.0| 1.0|[\"Free parking on...|            30|           730|               38|                97.0|             0.55|        Texas|\n",
            "|     40285| 170787|https://www.airbn...|   Robbie|2010-07-18|Austin, Texas, Un...|                f|    within an hour|              100%|                 29%|['phone', 'review...|                     f|                   t|                      1.0|            78731|        Entire house|Entire home/apt|           4|       2 baths|     2.0| 2.0|[\"Shampoo\", \"Indo...|             2|            30|               30|                98.0|             0.25|        Texas|\n",
            "|     47572| 215917|https://www.airbn...|  Belinda|2010-08-28|Austin, Texas, Un...|                t|within a few hours|              100%|                100%|['email', 'phone'...|                     t|                   t|                      1.0|            78758|Private room in h...|   Private room|           1|1 private bath|     1.0| 0.0|[\"Free parking on...|            30|           180|                4|               100.0|             0.17|        Texas|\n",
            "|     50310| 230553|https://www.airbn...|  Sevylla|2010-09-10|Austin, Texas, Un...|                t|within a few hours|              100%|                100%|['email', 'phone'...|                     t|                   t|                      2.0|            78744|  Entire guest suite|Entire home/apt|           2|        1 bath|     1.0| 1.0|[\"Free parking on...|            14|            60|              269|                96.0|             2.13|        Texas|\n",
            "|     50318|  12409|https://www.airbn...|     Flip|2009-04-06|Austin, Texas, Un...|                f|      within a day|               88%|                 40%|['email', 'phone'...|                     t|                   t|                      2.0|            78705|  Entire condominium|Entire home/apt|           2|        1 bath|     2.0| 0.0|[\"Free parking on...|            30|          1125|               30|                97.0|             0.24|        Texas|\n",
            "|     56690| 268988|https://www.airbn...|Stephanie|2010-10-23|Austin, Texas, Un...|                t|    within an hour|              100%|                 91%|['email', 'phone'...|                     t|                   t|                      2.0|            78704|    Entire apartment|Entire home/apt|           2|        1 bath|    null| 0.0|[\"Hair dryer\", \"S...|             2|            30|              176|                99.0|             1.46|        Texas|\n",
            "|     57187| 272156|https://www.airbn...|     Lois|2010-10-27|Austin, Texas, Un...|                t|    within an hour|              100%|                100%|['email', 'phone'...|                     f|                   t|                      2.0|            78704|   Entire guesthouse|Entire home/apt|           6|        1 bath|     1.0| 3.0|[\"Shampoo\", \"Hair...|             1|            15|              722|                98.0|             5.86|        Texas|\n",
            "+----------+-------+--------------------+---------+----------+--------------------+-----------------+------------------+------------------+--------------------+--------------------+----------------------+--------------------+-------------------------+-----------------+--------------------+---------------+------------+--------------+--------+----+--------------------+--------------+--------------+-----------------+--------------------+-----------------+-------------+\n",
            "only showing top 20 rows\n",
            "\n"
          ],
          "name": "stdout"
        }
      ]
    },
    {
      "cell_type": "markdown",
      "metadata": {
        "id": "gbis8z1TMlW5"
      },
      "source": [
        "### CALENDER TABLE"
      ]
    },
    {
      "cell_type": "code",
      "metadata": {
        "colab": {
          "base_uri": "https://localhost:8080/"
        },
        "id": "sbg4kSP_K2mK",
        "outputId": "aae9d26e-3a3d-4429-cf24-2c54b270a3a3"
      },
      "source": [
        "cal_customSchema = StructType([\n",
        "    T.StructField(\"listing_id\", T.IntegerType(), True),\n",
        "    T.StructField(\"date\", T.DateType(), True),\n",
        "    T.StructField(\"available\", T.StringType(), True),\n",
        "    T.StructField(\"price\", T.StringType(), True),\n",
        "    T.StructField(\"adjusted_price\", T.StringType(), True),\n",
        "    T.StructField(\"minimum_nights\", T.IntegerType(), True),\n",
        "    T.StructField(\"maximum_nights\", T.IntegerType(), True),\n",
        "])\n",
        "\n",
        "\n",
        "aust_cal_df = spark.read.format(\"csv\").schema(cal_customSchema).option(\"header\", \"true\").load('AUSTIN/austin_calender.csv')\n",
        "\n",
        "#aust_cal_df = spark.read.csv('/content/drive/MyDrive/Udacity Data Engineering/airbnb/AUSTIN/austin_calender.csv', header=True)\n",
        "aust_cal_df = aust_cal_df.withColumn('price', translate('price', '$', '')).withColumn('price', col('price').cast('float'))\\\n",
        "                          .withColumn('adjusted_price', translate('adjusted_price', '$', '')).withColumn('adjusted_price', col('adjusted_price').cast('float'))\n",
        "#aust_cal_df = aust_cal_df.withColumn('adjusted_price', translate('adjusted_price', '$', '')).withColumn('adjusted_price', col('adjusted_price').cast('float'))\n",
        "aust_cal_df.show(5)\n"
      ],
      "execution_count": null,
      "outputs": [
        {
          "output_type": "stream",
          "text": [
            "+----------+----------+---------+-----+--------------+--------------+--------------+\n",
            "|listing_id|      date|available|price|adjusted_price|minimum_nights|maximum_nights|\n",
            "+----------+----------+---------+-----+--------------+--------------+--------------+\n",
            "|     77635|2021-02-12|        f|175.0|         175.0|             2|          1125|\n",
            "|     76925|2021-02-12|        f|400.0|         400.0|             2|             8|\n",
            "|     76925|2021-02-13|        f|400.0|         400.0|             2|             8|\n",
            "|     76925|2021-02-14|        f|400.0|         400.0|             2|             8|\n",
            "|     76925|2021-02-15|        f|400.0|         400.0|             2|             8|\n",
            "+----------+----------+---------+-----+--------------+--------------+--------------+\n",
            "only showing top 5 rows\n",
            "\n"
          ],
          "name": "stdout"
        }
      ]
    },
    {
      "cell_type": "code",
      "metadata": {
        "colab": {
          "base_uri": "https://localhost:8080/"
        },
        "id": "C4gJvEBPK4S7",
        "outputId": "0bd56a95-3d8b-4ea7-9d16-73f079011ab2"
      },
      "source": [
        "la_cal_df = spark.read.format(\"csv\").schema(cal_customSchema).option(\"header\", \"true\").load('LA/la_calendar.csv')\n",
        "la_cal_df = la_cal_df.withColumn('price', translate('price', '$', '')).withColumn('price', col('price').cast('float'))\n",
        "la_cal_df = la_cal_df.withColumn('adjusted_price', translate('adjusted_price', '$', '')).withColumn('adjusted_price', col('adjusted_price').cast('float'))\n",
        "la_cal_df.show(5)"
      ],
      "execution_count": null,
      "outputs": [
        {
          "output_type": "stream",
          "text": [
            "+----------+----------+---------+-----+--------------+--------------+--------------+\n",
            "|listing_id|      date|available|price|adjusted_price|minimum_nights|maximum_nights|\n",
            "+----------+----------+---------+-----+--------------+--------------+--------------+\n",
            "|     85246|2021-02-09|        t| 95.0|          95.0|            30|           190|\n",
            "|       109|2021-02-09|        f|115.0|         115.0|            30|           730|\n",
            "|       109|2021-02-10|        f|115.0|         115.0|            30|           730|\n",
            "|       109|2021-02-11|        f|115.0|         115.0|            30|           730|\n",
            "|       109|2021-02-12|        f|115.0|         115.0|            30|           730|\n",
            "+----------+----------+---------+-----+--------------+--------------+--------------+\n",
            "only showing top 5 rows\n",
            "\n"
          ],
          "name": "stdout"
        }
      ]
    },
    {
      "cell_type": "code",
      "metadata": {
        "id": "EnSMPXKYby8B"
      },
      "source": [
        "la_cal_df_cleaned = la_cal_df.na.drop(how='all').where(col('listing_id').isNotNull())\n",
        "aust_cal_df_cleaned = aust_cal_df.na.drop(how='all').where(col('listing_id').isNotNull())"
      ],
      "execution_count": null,
      "outputs": []
    },
    {
      "cell_type": "code",
      "metadata": {
        "colab": {
          "base_uri": "https://localhost:8080/"
        },
        "id": "4VnxEpZ9MGDW",
        "outputId": "d6117a5f-e1b4-4abd-e9ca-a2f2220a701b"
      },
      "source": [
        "la_cal_df.schema"
      ],
      "execution_count": null,
      "outputs": [
        {
          "output_type": "execute_result",
          "data": {
            "text/plain": [
              "StructType(List(StructField(listing_id,IntegerType,true),StructField(date,DateType,true),StructField(available,StringType,true),StructField(price,FloatType,true),StructField(adjusted_price,FloatType,true),StructField(minimum_nights,IntegerType,true),StructField(maximum_nights,IntegerType,true)))"
            ]
          },
          "metadata": {
            "tags": []
          },
          "execution_count": 60
        }
      ]
    },
    {
      "cell_type": "code",
      "metadata": {
        "colab": {
          "base_uri": "https://localhost:8080/"
        },
        "id": "kH6hSEoEdYLd",
        "outputId": "c03f1027-67fd-4ac0-dbed-087f1ae34c1f"
      },
      "source": [
        "aust_la_cal_df_cleaned = aust_cal_df_cleaned.union(la_cal_df_cleaned)\n",
        "aust_la_cal_df_cleaned.show()"
      ],
      "execution_count": null,
      "outputs": [
        {
          "output_type": "stream",
          "text": [
            "+----------+----------+---------+-----+--------------+--------------+--------------+\n",
            "|listing_id|      date|available|price|adjusted_price|minimum_nights|maximum_nights|\n",
            "+----------+----------+---------+-----+--------------+--------------+--------------+\n",
            "|     77635|2021-02-12|        f|175.0|         175.0|             2|          1125|\n",
            "|     76925|2021-02-12|        f|400.0|         400.0|             2|             8|\n",
            "|     76925|2021-02-13|        f|400.0|         400.0|             2|             8|\n",
            "|     76925|2021-02-14|        f|400.0|         400.0|             2|             8|\n",
            "|     76925|2021-02-15|        f|400.0|         400.0|             2|             8|\n",
            "|     76925|2021-02-16|        f|400.0|         400.0|             2|             8|\n",
            "|     76925|2021-02-17|        f|400.0|         400.0|             2|             8|\n",
            "|     76925|2021-02-18|        f|400.0|         400.0|             2|             8|\n",
            "|     76925|2021-02-19|        f|400.0|         400.0|             2|             8|\n",
            "|     76925|2021-02-20|        f|400.0|         400.0|             2|             8|\n",
            "|     76925|2021-02-21|        f|400.0|         400.0|             2|             8|\n",
            "|     76925|2021-02-22|        f|400.0|         400.0|             2|             8|\n",
            "|     76925|2021-02-23|        f|400.0|         400.0|             2|             8|\n",
            "|     76925|2021-02-24|        f|400.0|         400.0|             2|             8|\n",
            "|     76925|2021-02-25|        f|400.0|         400.0|             2|             8|\n",
            "|     76925|2021-02-26|        f|400.0|         400.0|             2|             8|\n",
            "|     76925|2021-02-27|        f|400.0|         400.0|             2|             8|\n",
            "|     76925|2021-02-28|        f|400.0|         400.0|             2|             8|\n",
            "|     76925|2021-03-01|        f|400.0|         400.0|             2|             8|\n",
            "|     76925|2021-03-02|        f|400.0|         400.0|             2|             8|\n",
            "+----------+----------+---------+-----+--------------+--------------+--------------+\n",
            "only showing top 20 rows\n",
            "\n"
          ],
          "name": "stdout"
        }
      ]
    },
    {
      "cell_type": "code",
      "metadata": {
        "colab": {
          "base_uri": "https://localhost:8080/"
        },
        "id": "q2yn3cFzSR7n",
        "outputId": "e7bf4db8-a55f-4178-f540-bb275e0244c9"
      },
      "source": [
        "aust_la_cal_df_cleaned.printSchema()"
      ],
      "execution_count": null,
      "outputs": [
        {
          "output_type": "stream",
          "text": [
            "root\n",
            " |-- listing_id: integer (nullable = true)\n",
            " |-- date: date (nullable = true)\n",
            " |-- available: string (nullable = true)\n",
            " |-- price: float (nullable = true)\n",
            " |-- adjusted_price: float (nullable = true)\n",
            " |-- minimum_nights: integer (nullable = true)\n",
            " |-- maximum_nights: integer (nullable = true)\n",
            "\n"
          ],
          "name": "stdout"
        }
      ]
    },
    {
      "cell_type": "code",
      "metadata": {
        "colab": {
          "base_uri": "https://localhost:8080/"
        },
        "id": "YtOgGtFHdyDV",
        "outputId": "2554d888-37f5-4835-d48f-f39ca5b74f71"
      },
      "source": [
        "aust_la_cal_df_cleaned.count()"
      ],
      "execution_count": null,
      "outputs": [
        {
          "output_type": "execute_result",
          "data": {
            "text/plain": [
              "13314612"
            ]
          },
          "metadata": {
            "tags": []
          },
          "execution_count": 63
        }
      ]
    },
    {
      "cell_type": "code",
      "metadata": {
        "id": "5XAK2Gm3aNmN"
      },
      "source": [
        "write_folder = '/content/drive/MyDrive/Udacity Data Engineering/airbnb_calender_austin_la'\n",
        "aust_la_cal_df_cleaned.coalesce(1).write.option(\"header\", \"true\").mode(\"overwrite\").parquet(write_folder)"
      ],
      "execution_count": null,
      "outputs": []
    },
    {
      "cell_type": "code",
      "metadata": {
        "id": "5fQi60m5fksy"
      },
      "source": [
        "aust_la_cal_df_cleaned.coalesce(1).write.format('csv').option('header',True).mode('overwrite').save('/content/drive/MyDrive/Udacity Data Engineering/airbnb_calender_austin_la_cleaned_output.csv')"
      ],
      "execution_count": null,
      "outputs": []
    },
    {
      "cell_type": "markdown",
      "metadata": {
        "id": "OE47xgZPMrYj"
      },
      "source": [
        "### REVIEW TABLE"
      ]
    },
    {
      "cell_type": "code",
      "metadata": {
        "id": "9Ea3G0JZMqaG"
      },
      "source": [
        "#### "
      ],
      "execution_count": null,
      "outputs": []
    },
    {
      "cell_type": "code",
      "metadata": {
        "colab": {
          "base_uri": "https://localhost:8080/"
        },
        "id": "_dzc7STfK5zs",
        "outputId": "1553826c-0546-4435-f1e8-e7ee52147c29"
      },
      "source": [
        "rev_customSchema = StructType([\n",
        "    T.StructField(\"listing_id\", T.IntegerType(), True),\n",
        "    T.StructField(\"id\", T.DecimalType(20), True),\n",
        "    T.StructField(\"date\", T.DateType(), True),\n",
        "    T.StructField(\"reviewer_id\", T.DecimalType(20), True),\n",
        "    T.StructField(\"reviewer_name\", T.StringType(), True),\n",
        "    T.StructField(\"comments\", T.StringType(), True),\n",
        "])\n",
        "\n",
        "aust_review_df = spark.read.format(\"csv\").schema(rev_customSchema).option(\"header\", \"true\").load('AUSTIN/austin_reviews.csv')\n",
        "#aust_review_df = spark.read.csv('/content/drive/MyDrive/Udacity Data Engineering/airbnb/AUSTIN/austin_reviews.csv', header=True)\n",
        "aust_review_df.show(5)"
      ],
      "execution_count": null,
      "outputs": [
        {
          "output_type": "stream",
          "text": [
            "+----------+-------+----------+-----------+-------------+--------------------+\n",
            "|listing_id|     id|      date|reviewer_id|reviewer_name|            comments|\n",
            "+----------+-------+----------+-----------+-------------+--------------------+\n",
            "|      2265|    963|2009-03-17|       7538|        Niall|I stayed here dur...|\n",
            "|      2265|   1057|2009-03-22|      10029|      Michael|Great place, clos...|\n",
            "|      2265| 200418|2011-03-16|      61677|       Gustaf|We had a great ti...|\n",
            "|      2265|1001630|2012-03-15|    1523753|         Noah|We had a great st...|\n",
            "|      2265|1016390|2012-03-19|    1547660|      Melissa|I arrived late in...|\n",
            "+----------+-------+----------+-----------+-------------+--------------------+\n",
            "only showing top 5 rows\n",
            "\n"
          ],
          "name": "stdout"
        }
      ]
    },
    {
      "cell_type": "code",
      "metadata": {
        "colab": {
          "base_uri": "https://localhost:8080/"
        },
        "id": "tbIPZGtuK7DK",
        "outputId": "4ee5f820-d5cd-4a46-813f-74399532a12f"
      },
      "source": [
        "la_review_df = spark.read.format(\"csv\").schema(rev_customSchema)\\\n",
        ".option(\"quote\", \"\\\"\")\\\n",
        ".option(\"escape\", \"\\\"\")\\\n",
        ".option(\"ignoreTrailingWhiteSpace\", True)\\\n",
        ".option(\"ignoreLeadingWhiteSpace\",True)\\\n",
        ".option(\"header\", \"true\").load('LA/la_reviews.csv')\n",
        "la_review_df.show(5)"
      ],
      "execution_count": null,
      "outputs": [
        {
          "output_type": "stream",
          "text": [
            "+----------+--------+----------+-----------+-------------+--------------------+\n",
            "|listing_id|      id|      date|reviewer_id|reviewer_name|            comments|\n",
            "+----------+--------+----------+-----------+-------------+--------------------+\n",
            "|       109|  449036|2011-08-15|     927861|        Edwin|The host canceled...|\n",
            "|       109|74506539|2016-05-15|   22509885|         Jenn|Me and two friend...|\n",
            "|      2708|13994902|2014-06-09|   10905424|      Kuberan|i had a wonderful...|\n",
            "|      null|    null|      null|       null|         null|                null|\n",
            "|      2708|14606598|2014-06-23|    2247288|      Camilla|Charles is just a...|\n",
            "+----------+--------+----------+-----------+-------------+--------------------+\n",
            "only showing top 5 rows\n",
            "\n"
          ],
          "name": "stdout"
        }
      ]
    },
    {
      "cell_type": "code",
      "metadata": {
        "id": "LTpc8iPjb_KV"
      },
      "source": [
        "la_review_df_cleaned = la_review_df.na.drop(how='all').where(col('listing_id').isNotNull()).withColumn('Area', lit('California'))\n",
        "\n",
        "aust_review_df_cleaned = aust_review_df.na.drop(how='all').where(col('listing_id').isNotNull()).withColumn('Area', lit('Texas'))"
      ],
      "execution_count": null,
      "outputs": []
    },
    {
      "cell_type": "code",
      "metadata": {
        "colab": {
          "base_uri": "https://localhost:8080/"
        },
        "id": "ZooSpYEGnGA9",
        "outputId": "7db31e3c-c47e-4dad-d4ad-e841b0ca94a9"
      },
      "source": [
        "la_review_df_cleaned.show()"
      ],
      "execution_count": null,
      "outputs": [
        {
          "output_type": "stream",
          "text": [
            "+----------+---------+----------+-----------+----------------+----------------------------------+----------+\n",
            "|listing_id|       id|      date|reviewer_id|   reviewer_name|                          comments|      Area|\n",
            "+----------+---------+----------+-----------+----------------+----------------------------------+----------+\n",
            "|       109|   449036|2011-08-15|     927861|           Edwin|              The host canceled...|California|\n",
            "|       109| 74506539|2016-05-15|   22509885|            Jenn|              Me and two friend...|California|\n",
            "|      2708| 13994902|2014-06-09|   10905424|         Kuberan|              i had a wonderful...|California|\n",
            "|      2708| 14606598|2014-06-23|    2247288|         Camilla|              Charles is just a...|California|\n",
            "|      2708| 39597339|2015-07-25|   27974696|          Fallon|              Staying with Chas...|California|\n",
            "|      2708| 61157407|2016-02-01|   33226412|          Haroon|              Charles is a most...|California|\n",
            "|      2708| 66196280|2016-03-20|   23408691|Massimo Litterio|              Chas is a really ...|California|\n",
            "|      2708|222420570|2017-12-29|  155985882|          Manami|ﾎｽﾄはとても親切で英語の発音の仕...|California|\n",
            "|      2708|225209928|2018-01-05|    6840784|           Diego|              Chas house feels ...|California|\n",
            "|      2708|227042674|2018-01-13|  162469426|          Hanbin|              1. Clean 2. Host ...|California|\n",
            "|      2708|284617908|2018-07-01|   93292025|       Harjinder|              Wow; Charles was ...|California|\n",
            "|      2708|291375787|2018-07-15|  183639942|          Taylor|              Chas. has a great...|California|\n",
            "|      2708|296879491|2018-07-26|   37846734|            John|              Chas is a great h...|California|\n",
            "|      2708|306500549|2018-08-12|   48408491|          Andrew|              Charles place is ...|California|\n",
            "|      2708|319965969|2018-09-07|   51146446|       Stephanie|              Charles's place i...|California|\n",
            "|      2708|358265929|2018-12-13|  118296038|    Aziz Ibrahim|              Charles place wil...|California|\n",
            "|      2708|417933068|2019-02-28|  153706631|          Andrea|              Chas is an amazin...|California|\n",
            "|      2708|425630420|2019-03-18|   13903098|            Tami|              Chas. is an excel...|California|\n",
            "|      2708|443320279|2019-04-25|  228846650|        Stefanie|              I had an amazing ...|California|\n",
            "|      2708|448958815|2019-05-05|    2126071|              Kj|              Chas was very hos...|California|\n",
            "+----------+---------+----------+-----------+----------------+----------------------------------+----------+\n",
            "only showing top 20 rows\n",
            "\n"
          ],
          "name": "stdout"
        }
      ]
    },
    {
      "cell_type": "code",
      "metadata": {
        "id": "OgAlEHz_dfvy"
      },
      "source": [
        "aust_la_review_df_cleaned = aust_review_df_cleaned.union(la_review_df_cleaned)"
      ],
      "execution_count": null,
      "outputs": []
    },
    {
      "cell_type": "code",
      "metadata": {
        "colab": {
          "base_uri": "https://localhost:8080/"
        },
        "id": "cqvQnmfXSblQ",
        "outputId": "dca08992-f5e9-4daf-bea7-98bc620a312a"
      },
      "source": [
        "aust_la_review_df_cleaned.printSchema()"
      ],
      "execution_count": null,
      "outputs": [
        {
          "output_type": "stream",
          "text": [
            "root\n",
            " |-- listing_id: integer (nullable = true)\n",
            " |-- id: decimal(20,0) (nullable = true)\n",
            " |-- date: date (nullable = true)\n",
            " |-- reviewer_id: decimal(20,0) (nullable = true)\n",
            " |-- reviewer_name: string (nullable = true)\n",
            " |-- comments: string (nullable = true)\n",
            " |-- Area: string (nullable = false)\n",
            "\n"
          ],
          "name": "stdout"
        }
      ]
    },
    {
      "cell_type": "code",
      "metadata": {
        "colab": {
          "base_uri": "https://localhost:8080/"
        },
        "id": "KdZfPcK3K86f",
        "outputId": "ff3feafc-98ef-4c23-a845-8cde3428c30b"
      },
      "source": [
        "aust_la_review_df_cleaned.show()"
      ],
      "execution_count": null,
      "outputs": [
        {
          "output_type": "stream",
          "text": [
            "+----------+---------+----------+-----------+-------------+--------------------+-----+\n",
            "|listing_id|       id|      date|reviewer_id|reviewer_name|            comments| Area|\n",
            "+----------+---------+----------+-----------+-------------+--------------------+-----+\n",
            "|      2265|      963|2009-03-17|       7538|        Niall|I stayed here dur...|Texas|\n",
            "|      2265|     1057|2009-03-22|      10029|      Michael|Great place, clos...|Texas|\n",
            "|      2265|   200418|2011-03-16|      61677|       Gustaf|We had a great ti...|Texas|\n",
            "|      2265|  1001630|2012-03-15|    1523753|         Noah|We had a great st...|Texas|\n",
            "|      2265|  1016390|2012-03-19|    1547660|      Melissa|I arrived late in...|Texas|\n",
            "|      2265|  2707758|2012-10-24|    2449913|         Nick|a really welcomin...|Texas|\n",
            "|      2265|  2926194|2012-11-20|    3362054|      Chrysta|We stayed here fo...|Texas|\n",
            "|      2265|  3813128|2013-03-18|    4025558|         John|Paddy's place was...|Texas|\n",
            "|      2265| 11005865|2014-03-17|   11604963|        Safia|I stayed at Zen-E...|Texas|\n",
            "|      2265| 33015130|2015-05-24|   25409641|        Jenna|Paddy was extreme...|Texas|\n",
            "|      2265| 49538776|2015-10-04|   31555633|       Darryl|Paddy was helpful...|Texas|\n",
            "|      2265| 50454288|2015-10-12|   38407277|       Savino|We stayed at Padd...|Texas|\n",
            "|      2265| 53575188|2015-11-09|    5069660|      Jacklyn|We loved staying ...|Texas|\n",
            "|      2265| 62467182|2016-02-14|   58247735|     Patricia|Great place- clos...|Texas|\n",
            "|      2265| 65467783|2016-03-13|    1278055|         Kori|Paddy's home is l...|Texas|\n",
            "|      2265| 76947459|2016-05-29|   55830691|      Richard|Paddy was great, ...|Texas|\n",
            "|      2265| 99723502|2016-09-05|   37943664|    Christine|Paddy's home was ...|Texas|\n",
            "|      2265|136951361|2017-03-12|   35902653|       Ludwig|It was awesome st...|Texas|\n",
            "|      2265|146811516|2017-04-23|   32371821|        Billy|This is a cute ho...|Texas|\n",
            "|      2265|205798959|2017-10-22|   19474523|         Hali|Cute house in Eas...|Texas|\n",
            "+----------+---------+----------+-----------+-------------+--------------------+-----+\n",
            "only showing top 20 rows\n",
            "\n"
          ],
          "name": "stdout"
        }
      ]
    },
    {
      "cell_type": "code",
      "metadata": {
        "colab": {
          "base_uri": "https://localhost:8080/"
        },
        "id": "fvuUSwQiwOZv",
        "outputId": "5701200a-987f-4544-f20e-27cf128a928c"
      },
      "source": [
        "aust_la_review_df_cleaned = aust_la_review_df_cleaned.withColumnRenamed('id', 'review_id').withColumnRenamed('date', 'review_date')\n",
        "aust_la_review_df_cleaned.show()"
      ],
      "execution_count": null,
      "outputs": [
        {
          "output_type": "stream",
          "text": [
            "+----------+---------+-----------+-----------+-------------+--------------------+-----+\n",
            "|listing_id|review_id|review_date|reviewer_id|reviewer_name|            comments| Area|\n",
            "+----------+---------+-----------+-----------+-------------+--------------------+-----+\n",
            "|      2265|      963| 2009-03-17|       7538|        Niall|I stayed here dur...|Texas|\n",
            "|      2265|     1057| 2009-03-22|      10029|      Michael|Great place, clos...|Texas|\n",
            "|      2265|   200418| 2011-03-16|      61677|       Gustaf|We had a great ti...|Texas|\n",
            "|      2265|  1001630| 2012-03-15|    1523753|         Noah|We had a great st...|Texas|\n",
            "|      2265|  1016390| 2012-03-19|    1547660|      Melissa|I arrived late in...|Texas|\n",
            "|      2265|  2707758| 2012-10-24|    2449913|         Nick|a really welcomin...|Texas|\n",
            "|      2265|  2926194| 2012-11-20|    3362054|      Chrysta|We stayed here fo...|Texas|\n",
            "|      2265|  3813128| 2013-03-18|    4025558|         John|Paddy's place was...|Texas|\n",
            "|      2265| 11005865| 2014-03-17|   11604963|        Safia|I stayed at Zen-E...|Texas|\n",
            "|      2265| 33015130| 2015-05-24|   25409641|        Jenna|Paddy was extreme...|Texas|\n",
            "|      2265| 49538776| 2015-10-04|   31555633|       Darryl|Paddy was helpful...|Texas|\n",
            "|      2265| 50454288| 2015-10-12|   38407277|       Savino|We stayed at Padd...|Texas|\n",
            "|      2265| 53575188| 2015-11-09|    5069660|      Jacklyn|We loved staying ...|Texas|\n",
            "|      2265| 62467182| 2016-02-14|   58247735|     Patricia|Great place- clos...|Texas|\n",
            "|      2265| 65467783| 2016-03-13|    1278055|         Kori|Paddy's home is l...|Texas|\n",
            "|      2265| 76947459| 2016-05-29|   55830691|      Richard|Paddy was great, ...|Texas|\n",
            "|      2265| 99723502| 2016-09-05|   37943664|    Christine|Paddy's home was ...|Texas|\n",
            "|      2265|136951361| 2017-03-12|   35902653|       Ludwig|It was awesome st...|Texas|\n",
            "|      2265|146811516| 2017-04-23|   32371821|        Billy|This is a cute ho...|Texas|\n",
            "|      2265|205798959| 2017-10-22|   19474523|         Hali|Cute house in Eas...|Texas|\n",
            "+----------+---------+-----------+-----------+-------------+--------------------+-----+\n",
            "only showing top 20 rows\n",
            "\n"
          ],
          "name": "stdout"
        }
      ]
    },
    {
      "cell_type": "code",
      "metadata": {
        "colab": {
          "base_uri": "https://localhost:8080/"
        },
        "id": "N3aZvz8Sb-8V",
        "outputId": "d334189f-641d-45cb-af3e-adc720c0d4bf"
      },
      "source": [
        "aust_la_review_df_cleaned.count()"
      ],
      "execution_count": null,
      "outputs": [
        {
          "output_type": "execute_result",
          "data": {
            "text/plain": [
              "1395707"
            ]
          },
          "metadata": {
            "tags": []
          },
          "execution_count": 77
        }
      ]
    },
    {
      "cell_type": "code",
      "metadata": {
        "id": "PNM3y08ZlJux"
      },
      "source": [
        "aust_la_review_df_cleaned.coalesce(1).write.format('parquet').option('header',True).mode('overwrite').save('/content/drive/MyDrive/Udacity Data Engineering/airbnb_reviews_austin_la.parquet')"
      ],
      "execution_count": null,
      "outputs": []
    },
    {
      "cell_type": "code",
      "metadata": {
        "id": "K8EN0Xk0cQNH"
      },
      "source": [
        "write_folder = '/content/drive/MyDrive/Udacity Data Engineering/airbnb_reviews_austin_la_pp'\n",
        "aust_la_review_df_cleaned.coalesce(1).write.option(\"header\", \"true\").mode(\"overwrite\").parquet(write_folder)"
      ],
      "execution_count": null,
      "outputs": []
    },
    {
      "cell_type": "code",
      "metadata": {
        "id": "o-wKfziFxTx3"
      },
      "source": [
        "aust_la_review_df_cleaned.coalesce(1).write.format('json').option('header',True).mode('overwrite').save('/content/drive/MyDrive/Udacity Data Engineering/airbnb_reviews_austin_la_cleaned_output.json')"
      ],
      "execution_count": null,
      "outputs": []
    },
    {
      "cell_type": "code",
      "metadata": {
        "id": "Ornhhc-Xipho"
      },
      "source": [
        "aust_la_review_df_cleaned.coalesce(1).write.format('csv').option('header',True).mode('overwrite').save('/content/drive/MyDrive/Udacity Data Engineering/airbnb_reviews_austin_la_cleaned_output.csv')"
      ],
      "execution_count": null,
      "outputs": []
    },
    {
      "cell_type": "code",
      "metadata": {
        "id": "Nd57oyX4fwv4"
      },
      "source": [
        "#aust_la_review_df_cleaned.write.format('csv').option('header',True).mode('overwrite').option('sep','|').save('/content/drive/MyDrive/Udacity Data Engineering/austin_la_review_cleaned_output.csv')"
      ],
      "execution_count": null,
      "outputs": []
    },
    {
      "cell_type": "code",
      "metadata": {
        "id": "2XTLI4FehcgA"
      },
      "source": [
        "aust_la_review_df_cleaned.coalesce(1).write.format('csv').option('header',True).mode('overwrite').save('/content/drive/MyDrive/Udacity Data Engineering/austin_la_review_cleaned_output.csv')"
      ],
      "execution_count": null,
      "outputs": []
    },
    {
      "cell_type": "code",
      "metadata": {
        "id": "mLae48Puf1GB"
      },
      "source": [
        "csv_la_austin_review = '/content/drive/MyDrive/Udacity Data Engineering/austin_la_review_cleaned_output.csv/part-00000-09c120eb-5f32-48f3-bd0d-4a4c44704222-c000.csv'\n",
        "json_la_austin_review = '/content/drive/MyDrive/Udacity Data Engineering/airbnb/new_review_cleaned.csv/austin_la_review.json'\n",
        "\n",
        "\n",
        "make_json(csv_la_austin_review, json_la_austin_review)"
      ],
      "execution_count": null,
      "outputs": []
    },
    {
      "cell_type": "markdown",
      "metadata": {
        "id": "cEhpMHryMybH"
      },
      "source": [
        "### Rough"
      ]
    },
    {
      "cell_type": "code",
      "metadata": {
        "id": "Gtp0xXOy1dsM"
      },
      "source": [
        "aust_la_cal_df_cleaned\n",
        "aust_la_listing_df_cleaned\n",
        "aust_la_review_df_cleaned\n",
        "\n",
        "aust_la_review_df_cleaned.createOrReplaceTempView(\"temp\")"
      ],
      "execution_count": null,
      "outputs": []
    },
    {
      "cell_type": "code",
      "metadata": {
        "id": "myx-jLvi104t"
      },
      "source": [
        "aust_la_listing_df_cleaned.createOrReplaceTempView(\"stg_listing\")\n",
        "#spark.sql(\"  FROM stg_listing \").show()"
      ],
      "execution_count": null,
      "outputs": []
    },
    {
      "cell_type": "code",
      "metadata": {
        "id": "wE_zcdxj5AQC"
      },
      "source": [
        "spark.sql(\"SELECT DISTINCT HOST_ID, HOST_NAME, HOST_URL, \\\n",
        "HOST_SINCE, HOST_IDENTITY_VERIFIED, HOST_IS_SUPERHOST, HOST_RESPONSE_TIME, HOST_RESPONSE_RATE, HOST_ACCEPTANCE_RATE, \\\n",
        "HOST_VERIFICATIONS, HOST_HAS_PROFILE_PIC, HOST_TOTAL_LISTINGS_COUNT \\\n",
        "FROM stg_listing \\\n",
        "where HOST_NAME <> 'Not Provided' AND HOST_SINCE <> '2000-01-01'\").createOrReplaceTempView(\"stg_hosts_sql\")\n"
      ],
      "execution_count": null,
      "outputs": []
    },
    {
      "cell_type": "code",
      "metadata": {
        "colab": {
          "base_uri": "https://localhost:8080/"
        },
        "id": "WwQ9no444P0n",
        "outputId": "bfb16db5-abcf-401d-ed27-74e0c0172348"
      },
      "source": [
        "aust_la_listing_df_cleaned.select([max(\"host_total_listings_count\")]).show()\n",
        "#row1.show()"
      ],
      "execution_count": null,
      "outputs": [
        {
          "output_type": "stream",
          "text": [
            "+------------------------------+\n",
            "|max(host_total_listings_count)|\n",
            "+------------------------------+\n",
            "|                        7421.0|\n",
            "+------------------------------+\n",
            "\n"
          ],
          "name": "stdout"
        }
      ]
    },
    {
      "cell_type": "code",
      "metadata": {
        "id": "Jo0b7Tz73y6z"
      },
      "source": [
        "aust_la_listing_df_cleaned.filter(aust_la_listing_df_cleaned['host_total_listings_count'])"
      ],
      "execution_count": null,
      "outputs": []
    },
    {
      "cell_type": "code",
      "metadata": {
        "colab": {
          "base_uri": "https://localhost:8080/",
          "height": 65
        },
        "id": "-jfwW43Y2yBm",
        "outputId": "658e05af-567b-491c-e5ed-84637a9c8438"
      },
      "source": [
        "spark.sql(\"SELECT COUNT(*) FROM stg_listing\")\n",
        "#spark.sql(\"SELECT * FROM stg_listing order by host_total_listings_count desc\").show()"
      ],
      "execution_count": null,
      "outputs": [
        {
          "output_type": "execute_result",
          "data": {
            "text/html": [
              "<table border='1'>\n",
              "<tr><th>count(1)</th></tr>\n",
              "<tr><td>42172</td></tr>\n",
              "</table>\n"
            ],
            "text/plain": [
              "+--------+\n",
              "|count(1)|\n",
              "+--------+\n",
              "|   42172|\n",
              "+--------+"
            ]
          },
          "metadata": {
            "tags": []
          },
          "execution_count": 42
        }
      ]
    },
    {
      "cell_type": "code",
      "metadata": {
        "colab": {
          "base_uri": "https://localhost:8080/",
          "height": 65
        },
        "id": "LoOkdQzF2nNL",
        "outputId": "08e5142a-20bf-436a-d9e6-7d4baecc8a21"
      },
      "source": [
        "spark.sql(\"SELECT COUNT(*) FROM stg_hosts_sql\")"
      ],
      "execution_count": null,
      "outputs": [
        {
          "output_type": "execute_result",
          "data": {
            "text/html": [
              "<table border='1'>\n",
              "<tr><th>count(1)</th></tr>\n",
              "<tr><td>3444</td></tr>\n",
              "</table>\n"
            ],
            "text/plain": [
              "+--------+\n",
              "|count(1)|\n",
              "+--------+\n",
              "|    3444|\n",
              "+--------+"
            ]
          },
          "metadata": {
            "tags": []
          },
          "execution_count": 81
        }
      ]
    },
    {
      "cell_type": "code",
      "metadata": {
        "colab": {
          "base_uri": "https://localhost:8080/",
          "height": 65
        },
        "id": "jX36CNHU64CT",
        "outputId": "2571f862-8747-407d-a6d4-405b2119a45c"
      },
      "source": [
        "spark.sql(\"Select count(*) from stg_properties\")"
      ],
      "execution_count": null,
      "outputs": [
        {
          "output_type": "execute_result",
          "data": {
            "text/html": [
              "<table border='1'>\n",
              "<tr><th>count(1)</th></tr>\n",
              "<tr><td>42172</td></tr>\n",
              "</table>\n"
            ],
            "text/plain": [
              "+--------+\n",
              "|count(1)|\n",
              "+--------+\n",
              "|   42172|\n",
              "+--------+"
            ]
          },
          "metadata": {
            "tags": []
          },
          "execution_count": 74
        }
      ]
    },
    {
      "cell_type": "code",
      "metadata": {
        "colab": {
          "base_uri": "https://localhost:8080/"
        },
        "id": "0B1dOUTi5faB",
        "outputId": "a803745f-12dc-458b-ad60-8e01f6e7c8ed"
      },
      "source": [
        "spark.sql(\"SELECT DISTINCT LISTING_ID, HOST_ID, PROPERTY_TYPE, \\\n",
        "ROOM_TYPE, ACCOMMODATES, BEDROOMS, BEDS, BATHROOMS_TEXT, \\\n",
        "AMENITIES, NEIGHBOURHOOD_PIN, property_area \\\n",
        "FROM stg_listing \").createOrReplaceTempView(\"stg_properties\")\n",
        "\n",
        "spark.sql(\"Select * from stg_properties\").show()"
      ],
      "execution_count": null,
      "outputs": [
        {
          "output_type": "stream",
          "text": [
            "+----------+--------+--------------------+---------------+------------+--------+----+--------------+--------------------+-----------------+-------------+\n",
            "|LISTING_ID| HOST_ID|       PROPERTY_TYPE|      ROOM_TYPE|ACCOMMODATES|BEDROOMS|BEDS|BATHROOMS_TEXT|           AMENITIES|NEIGHBOURHOOD_PIN|property_area|\n",
            "+----------+--------+--------------------+---------------+------------+--------+----+--------------+--------------------+-----------------+-------------+\n",
            "|     72876|  379080|Private room in h...|   Private room|           2|    null| 0.0|0 shared baths|[\"Hair dryer\", \"S...|            78729|        Texas|\n",
            "|     83643|  456230|Private room in h...|   Private room|           2|     1.0| 1.0| 1 shared bath|[\"Free parking on...|            78752|        Texas|\n",
            "|    319759|  814883|    Entire townhouse|Entire home/apt|          16|     5.0| 9.0|     3.5 baths|[\"Hair dryer\", \"P...|            78702|        Texas|\n",
            "|    355328| 1798834|        Entire house|Entire home/apt|           2|     1.0| 1.0|        1 bath|[\"Free parking on...|            78704|        Texas|\n",
            "|    563735| 2771838|Private room in h...|   Private room|           2|     1.0| 1.0|        1 bath|[\"Indoor fireplac...|            78704|        Texas|\n",
            "|    908424| 4868171|        Entire house|Entire home/apt|          10|     5.0| 5.0|       4 baths|[\"Indoor fireplac...|            78704|        Texas|\n",
            "|    943616| 5105777|        Entire house|Entire home/apt|           6|     3.0| 4.0|       2 baths|[\"Free parking on...|            78702|        Texas|\n",
            "|    968844| 5289039|        Entire house|Entire home/apt|           6|     2.0| 2.0|       2 baths|[\"Free parking on...|            78702|        Texas|\n",
            "|   1059128|  422589|        Entire house|Entire home/apt|          12|     3.0| 6.0|       2 baths|[\"Indoor fireplac...|            78752|        Texas|\n",
            "|   1206474| 6590859|Private room in h...|   Private room|           2|     1.0| 1.0|        1 bath|[\"Shampoo\", \"Free...|            78722|        Texas|\n",
            "|   1347317| 1739801|        Entire house|Entire home/apt|          16|     3.0|12.0|     2.5 baths|[\"Free parking on...|            78702|        Texas|\n",
            "|   1826078| 9555506|Private room in h...|   Private room|           2|     1.0| 1.0|        1 bath|[\"Free parking on...|            78704|        Texas|\n",
            "|   2254482|11512921|        Entire house|Entire home/apt|           6|     3.0| 3.0|       2 baths|[\"Free parking on...|            78746|        Texas|\n",
            "|   2282208|11655380|        Entire house|Entire home/apt|           6|     3.0| 3.0|     1.5 baths|[\"Free parking on...|            78702|        Texas|\n",
            "|   2352384| 1093564|    Entire apartment|Entire home/apt|           3|     1.0| 1.0|        1 bath|[\"Shampoo\", \"Free...|            78704|        Texas|\n",
            "|   2386129| 8354530|Private room in h...|   Private room|           4|     1.0| 2.0|        1 bath|[\"Free parking on...|            78745|        Texas|\n",
            "|   2416095| 3848423|        Entire house|Entire home/apt|           8|     3.0| 4.0|        1 bath|[\"Shampoo\", \"Free...|            78721|        Texas|\n",
            "|   2639623|11897676|    Entire apartment|Entire home/apt|           2|     1.0| 1.0|        1 bath|[\"Free parking on...|            78733|        Texas|\n",
            "|   4182298|21697231|    Entire apartment|Entire home/apt|           4|     1.0| 1.0|        1 bath|[\"Free parking on...|            78746|        Texas|\n",
            "|   4207963|10466498|        Entire house|Entire home/apt|           5|     2.0| 2.0|     2.5 baths|[\"Air conditionin...|            78727|        Texas|\n",
            "+----------+--------+--------------------+---------------+------------+--------+----+--------------+--------------------+-----------------+-------------+\n",
            "only showing top 20 rows\n",
            "\n"
          ],
          "name": "stdout"
        }
      ]
    },
    {
      "cell_type": "code",
      "metadata": {
        "id": "GvUSk7qBx3vA"
      },
      "source": [
        "aust_la_review_df_cleaned.createOrReplaceTempView(\"temp\")"
      ],
      "execution_count": null,
      "outputs": []
    },
    {
      "cell_type": "code",
      "metadata": {
        "colab": {
          "base_uri": "https://localhost:8080/"
        },
        "id": "Ud44Kb2z1HFh",
        "outputId": "53e7529c-dcde-4db6-be07-717d8eaa3996"
      },
      "source": [
        "spark.sql(\"select * from temp\").show()"
      ],
      "execution_count": null,
      "outputs": [
        {
          "output_type": "stream",
          "text": [
            "+----------+---------+----------+-----------+-------------+--------------------+-----+\n",
            "|listing_id|       id|      date|reviewer_id|reviewer_name|            comments| Area|\n",
            "+----------+---------+----------+-----------+-------------+--------------------+-----+\n",
            "|      2265|      963|2009-03-17|       7538|        Niall|I stayed here dur...|Texas|\n",
            "|      2265|     1057|2009-03-22|      10029|      Michael|Great place, clos...|Texas|\n",
            "|      2265|   200418|2011-03-16|      61677|       Gustaf|We had a great ti...|Texas|\n",
            "|      2265|  1001630|2012-03-15|    1523753|         Noah|We had a great st...|Texas|\n",
            "|      2265|  1016390|2012-03-19|    1547660|      Melissa|I arrived late in...|Texas|\n",
            "|      2265|  2707758|2012-10-24|    2449913|         Nick|a really welcomin...|Texas|\n",
            "|      2265|  2926194|2012-11-20|    3362054|      Chrysta|We stayed here fo...|Texas|\n",
            "|      2265|  3813128|2013-03-18|    4025558|         John|Paddy's place was...|Texas|\n",
            "|      2265| 11005865|2014-03-17|   11604963|        Safia|I stayed at Zen-E...|Texas|\n",
            "|      2265| 33015130|2015-05-24|   25409641|        Jenna|Paddy was extreme...|Texas|\n",
            "|      2265| 49538776|2015-10-04|   31555633|       Darryl|Paddy was helpful...|Texas|\n",
            "|      2265| 50454288|2015-10-12|   38407277|       Savino|We stayed at Padd...|Texas|\n",
            "|      2265| 53575188|2015-11-09|    5069660|      Jacklyn|We loved staying ...|Texas|\n",
            "|      2265| 62467182|2016-02-14|   58247735|     Patricia|Great place- clos...|Texas|\n",
            "|      2265| 65467783|2016-03-13|    1278055|         Kori|Paddy's home is l...|Texas|\n",
            "|      2265| 76947459|2016-05-29|   55830691|      Richard|Paddy was great, ...|Texas|\n",
            "|      2265| 99723502|2016-09-05|   37943664|    Christine|Paddy's home was ...|Texas|\n",
            "|      2265|136951361|2017-03-12|   35902653|       Ludwig|It was awesome st...|Texas|\n",
            "|      2265|146811516|2017-04-23|   32371821|        Billy|This is a cute ho...|Texas|\n",
            "|      2265|205798959|2017-10-22|   19474523|         Hali|Cute house in Eas...|Texas|\n",
            "+----------+---------+----------+-----------+-------------+--------------------+-----+\n",
            "only showing top 20 rows\n",
            "\n"
          ],
          "name": "stdout"
        }
      ]
    },
    {
      "cell_type": "code",
      "metadata": {
        "colab": {
          "base_uri": "https://localhost:8080/"
        },
        "id": "-j99aP1X1I9W",
        "outputId": "8ac6c381-0129-48f4-83ac-733bf233da48"
      },
      "source": [
        "spark.sql(\"select count(*) from temp\").show()"
      ],
      "execution_count": null,
      "outputs": [
        {
          "output_type": "stream",
          "text": [
            "+--------+\n",
            "|count(1)|\n",
            "+--------+\n",
            "| 1395707|\n",
            "+--------+\n",
            "\n"
          ],
          "name": "stdout"
        }
      ]
    },
    {
      "cell_type": "code",
      "metadata": {
        "id": "pFw_jn3g1K7U"
      },
      "source": [
        ""
      ],
      "execution_count": null,
      "outputs": []
    }
  ]
}