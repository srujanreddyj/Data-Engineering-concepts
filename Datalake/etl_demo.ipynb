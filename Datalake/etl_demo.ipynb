{
 "cells": [
  {
   "cell_type": "code",
   "execution_count": 90,
   "metadata": {
    "editable": true
   },
   "outputs": [],
   "source": [
    "import configparser\n",
    "from datetime import datetime\n",
    "import os\n",
    "\n",
    "from pyspark.sql import SparkSession\n",
    "import pyspark.sql.functions as F\n",
    "from pyspark.sql.functions import udf, col\n",
    "from pyspark.sql.functions import year, month, dayofmonth, hour, weekofyear, date_format\n",
    "from pyspark.sql.types import StructType as R, StructField as fld, DoubleType as Dbl, StringType as Str, IntegerType as Int, DateType as Date, TimestampType"
   ]
  },
  {
   "cell_type": "code",
   "execution_count": 54,
   "metadata": {
    "editable": true
   },
   "outputs": [],
   "source": [
    "spark = SparkSession \\\n",
    "        .builder \\\n",
    "        .config(\"spark.jars.packages\", \"org.apache.hadoop:hadoop-aws:2.7.0\") \\\n",
    "        .getOrCreate()"
   ]
  },
  {
   "cell_type": "code",
   "execution_count": 55,
   "metadata": {
    "editable": true
   },
   "outputs": [],
   "source": [
    "song_data = 'song_data/*/*/*/*.json'"
   ]
  },
  {
   "cell_type": "code",
   "execution_count": 56,
   "metadata": {
    "editable": true
   },
   "outputs": [],
   "source": [
    "songSchema = R([\n",
    "        fld(\"artist_id\", Str()),\n",
    "        fld(\"artist_latitude\", Dbl()),\n",
    "        fld(\"artist_location\", Str()),\n",
    "        fld(\"artist_longitude\", Dbl()),\n",
    "        fld(\"artist_name\", Str()),\n",
    "        fld(\"duration\", Dbl()),\n",
    "        fld(\"num_songs\", Int()),\n",
    "        fld(\"song_id\", Str()),\n",
    "        fld(\"title\", Str()),\n",
    "        fld(\"year\", Int())\n",
    "    ])"
   ]
  },
  {
   "cell_type": "code",
   "execution_count": 57,
   "metadata": {
    "editable": true
   },
   "outputs": [
    {
     "name": "stdout",
     "output_type": "stream",
     "text": [
      "+------------------+---------------+--------------------+----------------+--------------------+---------+---------+------------------+--------------------+----+\n",
      "|         artist_id|artist_latitude|     artist_location|artist_longitude|         artist_name| duration|num_songs|           song_id|               title|year|\n",
      "+------------------+---------------+--------------------+----------------+--------------------+---------+---------+------------------+--------------------+----+\n",
      "|ARDR4AC1187FB371A1|           null|                    |            null|Montserrat Caball...|511.16363|        1|SOBAYLL12A8C138AF9|Sono andati? Fing...|   0|\n",
      "|AREBBGV1187FB523D2|           null|         Houston, TX|            null|Mike Jones (Featu...|173.66159|        1|SOOLYAZ12A6701F4A6|Laws Patrolling (...|   0|\n",
      "|ARMAC4T1187FB3FA4C|       40.82624|   Morris Plains, NJ|       -74.47995|The Dillinger Esc...|207.77751|        1|SOBBUGU12A8C13E95D|Setting Fire to S...|2004|\n",
      "|ARPBNLO1187FB3D52F|       40.71455|        New York, NY|       -74.00712|            Tiny Tim| 43.36281|        1|SOAOIBZ12AB01815BE|I Hold Your Hand ...|2000|\n",
      "|ARDNS031187B9924F0|       32.67828|             Georgia|       -83.22295|          Tim Wilson|186.48771|        1|SONYPOM12A8C13B2D7|I Think My Wife I...|2005|\n",
      "|ARNF6401187FB57032|       40.79086|New York, NY [Man...|       -73.96644|   Sophie B. Hawkins|  305.162|        1|SONWXQJ12A8C134D94|The Ballad Of Sle...|1994|\n",
      "|ARLTWXK1187FB5A3F8|       32.74863|      Fort Worth, TX|       -97.32925|         King Curtis|326.00771|        1|SODREIN12A58A7F2E5|A Whiter Shade Of...|   0|\n",
      "|ARPFHN61187FB575F6|       41.88415|         Chicago, IL|       -87.63241|         Lupe Fiasco|279.97995|        1|SOWQTQZ12A58A7B63E|Streets On Fire (...|   0|\n",
      "|ARI2JSK1187FB496EF|       51.50632|     London, England|        -0.12714|Nick Ingman;Gavyn...|111.62077|        1|SODUJBS12A8C132150|Wessex Loses a Bride|   0|\n",
      "|AR0RCMP1187FB3F427|       30.08615|        Beaumont, TX|       -94.10158|    Billie Jo Spears|133.32853|        1|SOGXHEG12AB018653E|It Makes No Diffe...|1992|\n",
      "|AROUOZZ1187B9ABE51|       40.79195|New York, NY [Spa...|       -73.94512|         Willie Bobo|168.25424|        1|SOBZBAZ12A6D4F8742|      Spanish Grease|1997|\n",
      "|AR9AWNF1187B9AB0B4|           null|Seattle, Washingt...|            null|Kenny G featuring...|236.93016|        1|SOZHPGD12A8C1394FE|     Baby Come To Me|   0|\n",
      "|AR47JEX1187B995D81|       37.83721|          Nevada, MO|       -94.35868|        SUE THOMPSON|124.86485|        1|SOBLGCN12AB0183212|James (Hold The L...|1985|\n",
      "|ARKFYS91187B98E58F|           null|                    |            null|Jeff And Sheri Ea...| 267.7024|        1|SOYMRWW12A6D4FAB14|The Moon And I (O...|   0|\n",
      "|AR10USD1187B99F3F1|           null|Burlington, Ontar...|            null|Tweeterfriendly M...|189.57016|        1|SOHKNRJ12A6701D1F8|        Drop of Rain|   0|\n",
      "|ARB29H41187B98F0EF|       41.88415|             Chicago|       -87.63241|       Terry Callier|342.56934|        1|SOGNCJP12A58A80271|Do You Finally Ne...|1972|\n",
      "|ARQGYP71187FB44566|       34.31109|         Mineola, AR|       -94.02978|        Jimmy Wakely|151.84934|        1|SOWTBJW12AC468AC6E|Broken-Down Merry...|   0|\n",
      "|ARMBR4Y1187B9990EB|       37.77916|     California - SF|      -122.42005|        David Martin|241.47546|        1|SOTTDKS12AB018D69B|It Wont Be Christmas|   0|\n",
      "|ARBEBBY1187B9B43DB|           null|     Gainesville, FL|            null|           Tom Petty|236.17261|        1|SOFFKZS12AB017F194|A Higher Place (A...|1994|\n",
      "|AR36F9J1187FB406F1|       56.27609|             Denmark|         9.51695|      Bombay Rockers|230.71302|        1|SOBKWDJ12A8C13B2F3|Wild Rose (Back 2...|   0|\n",
      "+------------------+---------------+--------------------+----------------+--------------------+---------+---------+------------------+--------------------+----+\n",
      "only showing top 20 rows\n",
      "\n"
     ]
    }
   ],
   "source": [
    "df = spark.read.json('song_data/*/*/*/*.json', schema=songSchema)\n",
    "df.show()"
   ]
  },
  {
   "cell_type": "code",
   "execution_count": 58,
   "metadata": {
    "editable": true
   },
   "outputs": [
    {
     "name": "stdout",
     "output_type": "stream",
     "text": [
      "+------------------+--------+--------------------+----------+--------------------+---------+---------+------------------+--------------------+----+\n",
      "|         artist_id|latitude|            location| longitude|                name| duration|num_songs|           song_id|               title|year|\n",
      "+------------------+--------+--------------------+----------+--------------------+---------+---------+------------------+--------------------+----+\n",
      "|ARDR4AC1187FB371A1|    null|                    |      null|Montserrat Caball...|511.16363|        1|SOBAYLL12A8C138AF9|Sono andati? Fing...|   0|\n",
      "|AREBBGV1187FB523D2|    null|         Houston, TX|      null|Mike Jones (Featu...|173.66159|        1|SOOLYAZ12A6701F4A6|Laws Patrolling (...|   0|\n",
      "|ARMAC4T1187FB3FA4C|40.82624|   Morris Plains, NJ| -74.47995|The Dillinger Esc...|207.77751|        1|SOBBUGU12A8C13E95D|Setting Fire to S...|2004|\n",
      "|ARPBNLO1187FB3D52F|40.71455|        New York, NY| -74.00712|            Tiny Tim| 43.36281|        1|SOAOIBZ12AB01815BE|I Hold Your Hand ...|2000|\n",
      "|ARDNS031187B9924F0|32.67828|             Georgia| -83.22295|          Tim Wilson|186.48771|        1|SONYPOM12A8C13B2D7|I Think My Wife I...|2005|\n",
      "|ARNF6401187FB57032|40.79086|New York, NY [Man...| -73.96644|   Sophie B. Hawkins|  305.162|        1|SONWXQJ12A8C134D94|The Ballad Of Sle...|1994|\n",
      "|ARLTWXK1187FB5A3F8|32.74863|      Fort Worth, TX| -97.32925|         King Curtis|326.00771|        1|SODREIN12A58A7F2E5|A Whiter Shade Of...|   0|\n",
      "|ARPFHN61187FB575F6|41.88415|         Chicago, IL| -87.63241|         Lupe Fiasco|279.97995|        1|SOWQTQZ12A58A7B63E|Streets On Fire (...|   0|\n",
      "|ARI2JSK1187FB496EF|51.50632|     London, England|  -0.12714|Nick Ingman;Gavyn...|111.62077|        1|SODUJBS12A8C132150|Wessex Loses a Bride|   0|\n",
      "|AR0RCMP1187FB3F427|30.08615|        Beaumont, TX| -94.10158|    Billie Jo Spears|133.32853|        1|SOGXHEG12AB018653E|It Makes No Diffe...|1992|\n",
      "|AROUOZZ1187B9ABE51|40.79195|New York, NY [Spa...| -73.94512|         Willie Bobo|168.25424|        1|SOBZBAZ12A6D4F8742|      Spanish Grease|1997|\n",
      "|AR9AWNF1187B9AB0B4|    null|Seattle, Washingt...|      null|Kenny G featuring...|236.93016|        1|SOZHPGD12A8C1394FE|     Baby Come To Me|   0|\n",
      "|AR47JEX1187B995D81|37.83721|          Nevada, MO| -94.35868|        SUE THOMPSON|124.86485|        1|SOBLGCN12AB0183212|James (Hold The L...|1985|\n",
      "|ARKFYS91187B98E58F|    null|                    |      null|Jeff And Sheri Ea...| 267.7024|        1|SOYMRWW12A6D4FAB14|The Moon And I (O...|   0|\n",
      "|AR10USD1187B99F3F1|    null|Burlington, Ontar...|      null|Tweeterfriendly M...|189.57016|        1|SOHKNRJ12A6701D1F8|        Drop of Rain|   0|\n",
      "|ARB29H41187B98F0EF|41.88415|             Chicago| -87.63241|       Terry Callier|342.56934|        1|SOGNCJP12A58A80271|Do You Finally Ne...|1972|\n",
      "|ARQGYP71187FB44566|34.31109|         Mineola, AR| -94.02978|        Jimmy Wakely|151.84934|        1|SOWTBJW12AC468AC6E|Broken-Down Merry...|   0|\n",
      "|ARMBR4Y1187B9990EB|37.77916|     California - SF|-122.42005|        David Martin|241.47546|        1|SOTTDKS12AB018D69B|It Wont Be Christmas|   0|\n",
      "|ARBEBBY1187B9B43DB|    null|     Gainesville, FL|      null|           Tom Petty|236.17261|        1|SOFFKZS12AB017F194|A Higher Place (A...|1994|\n",
      "|AR36F9J1187FB406F1|56.27609|             Denmark|   9.51695|      Bombay Rockers|230.71302|        1|SOBKWDJ12A8C13B2F3|Wild Rose (Back 2...|   0|\n",
      "+------------------+--------+--------------------+----------+--------------------+---------+---------+------------------+--------------------+----+\n",
      "only showing top 20 rows\n",
      "\n"
     ]
    }
   ],
   "source": [
    "fields=[(\"artist_id\", \"artist_id\"),\n",
    "              (\"artist_latitude\", \"latitude\"),\n",
    "              (\"artist_location\", \"location\"),\n",
    "              (\"artist_longitude\", \"longitude\"),\n",
    "              (\"artist_name\", \"name\"),\n",
    "              (\"duration\", \"duration\"),\n",
    "              (\"num_songs\", \"num_songs\"),\n",
    "              (\"song_id\", \"song_id\"),\n",
    "              (\"title\", \"title\"),\n",
    "              (\"year\",  \"year\")]\n",
    "exprs = [\"{} as {}\".format(field[0], field[1]) for field in fields]\n",
    "dfNamed = df.selectExpr(*exprs)\n",
    "dfNamed.show()"
   ]
  },
  {
   "cell_type": "code",
   "execution_count": 59,
   "metadata": {
    "editable": true
   },
   "outputs": [],
   "source": [
    "song_fields = [\"title\", \"artist_id\", \"year\", \"duration\"]\n",
    "songs_table = dfNamed.select(song_fields) \\\n",
    "    .dropDuplicates() \\\n",
    "    .withColumn(\"song_id\", monotonically_increasing_id())"
   ]
  },
  {
   "cell_type": "code",
   "execution_count": 60,
   "metadata": {
    "editable": true
   },
   "outputs": [
    {
     "name": "stdout",
     "output_type": "stream",
     "text": [
      "+--------------------+------------------+----+---------+------------+\n",
      "|               title|         artist_id|year| duration|     song_id|\n",
      "+--------------------+------------------+----+---------+------------+\n",
      "|               Intro|AR558FS1187FB45658|2003| 75.67628| 51539607552|\n",
      "|Setting Fire to S...|ARMAC4T1187FB3FA4C|2004|207.77751| 68719476736|\n",
      "|Kutt Free (DJ Vol...|ARNNKDK1187B98BBD5|   0|407.37914| 68719476737|\n",
      "|Get Your Head Stu...|AREDL271187FB40F44|   0| 45.66159| 77309411328|\n",
      "|     Amor De Cabaret|ARKRRTF1187B9984DA|   0|177.47546| 94489280512|\n",
      "|The Urgency (LP V...|ARC43071187B990240|   0|245.21098|103079215104|\n",
      "|           Ten Tonne|AR62SOJ1187FB47BB5|2005|337.68444|103079215105|\n",
      "|      Spanish Grease|AROUOZZ1187B9ABE51|1997|168.25424|146028888064|\n",
      "|       City Slickers|AR8IEZO1187B99055E|2008|149.86404|154618822656|\n",
      "|A Higher Place (A...|ARBEBBY1187B9B43DB|1994|236.17261|180388626432|\n",
      "|Wessex Loses a Bride|ARI2JSK1187FB496EF|   0|111.62077|223338299392|\n",
      "|Made Like This (L...|ARGIWFO1187B9B55B7|   0|225.09669|223338299393|\n",
      "|The Moon And I (O...|ARKFYS91187B98E58F|   0| 267.7024|231928233984|\n",
      "|Erica (2005 Digit...|AREDBBQ1187B98AFF5|   0|138.63138|249108103168|\n",
      "|Insatiable (Instr...|ARNTLGG11E2835DDB9|   0|266.39628|257698037760|\n",
      "|     Young Boy Blues|ARGSJW91187B9B1D6B|   0|218.77506|283467841536|\n",
      "|        Drop of Rain|AR10USD1187B99F3F1|   0|189.57016|429496729600|\n",
      "|            La Culpa|ARL7K851187B99ACD2|   0|226.35057|463856467968|\n",
      "|   Caught In A Dream|ARYKCQI1187FB3B18F|2004|290.29832|489626271744|\n",
      "|Broken-Down Merry...|ARQGYP71187FB44566|   0|151.84934|558345748480|\n",
      "+--------------------+------------------+----+---------+------------+\n",
      "only showing top 20 rows\n",
      "\n"
     ]
    }
   ],
   "source": [
    "songs_table.show()"
   ]
  },
  {
   "cell_type": "code",
   "execution_count": 61,
   "metadata": {
    "editable": true
   },
   "outputs": [
    {
     "name": "stdout",
     "output_type": "stream",
     "text": [
      "+------------------+--------------------+--------------------+--------+----------+\n",
      "|         artist_id|                name|            location|latitude| longitude|\n",
      "+------------------+--------------------+--------------------+--------+----------+\n",
      "|ARPBNLO1187FB3D52F|            Tiny Tim|        New York, NY|40.71455| -74.00712|\n",
      "|ARXR32B1187FB57099|                 Gob|                    |    null|      null|\n",
      "|AROGWRA122988FEE45|     Christos Dantis|                    |    null|      null|\n",
      "|ARBGXIG122988F409D|          Steel Rain|     California - SF|37.77916|-122.42005|\n",
      "|AREVWGE1187B9B890A|          Bitter End|           Noci (BA)| -13.442|  -41.9952|\n",
      "|AREDL271187FB40F44|        Soul Mekanik|                    |    null|      null|\n",
      "|ARGSAFR1269FB35070|          Blingtones|                    |    null|      null|\n",
      "|ARH4Z031187B9A71F2|          Faye Adams|          Newark, NJ|40.73197| -74.17418|\n",
      "|ARGSJW91187B9B1D6B|        JennyAnyKind|      North Carolina|35.21962| -80.01955|\n",
      "|ARJIE2Y1187B994AB7|         Line Renaud|                    |    null|      null|\n",
      "|ARQGYP71187FB44566|        Jimmy Wakely|         Mineola, AR|34.31109| -94.02978|\n",
      "|ARL7K851187B99ACD2|           Andy Andy|                    |    null|      null|\n",
      "|ARIG6O41187B988BDD|     Richard Souther|       United States|37.16793| -95.84502|\n",
      "|ARGCY1Y1187B9A4FA5|            Gloriana|      Nashville, TN.|36.16778| -86.77836|\n",
      "|ARLTWXK1187FB5A3F8|         King Curtis|      Fort Worth, TX|32.74863| -97.32925|\n",
      "|ARD842G1187B997376|          Blue Rodeo|Toronto, Ontario,...|43.64856| -79.38533|\n",
      "|ARKRRTF1187B9984DA|    Sonora Santanera|                    |    null|      null|\n",
      "|ARMAC4T1187FB3FA4C|The Dillinger Esc...|   Morris Plains, NJ|40.82624| -74.47995|\n",
      "|ARI3BMM1187FB4255E|        Alice Stuart|          Washington| 38.8991|   -77.029|\n",
      "|ARWB3G61187FB49404|         Steve Morse|      Hamilton, Ohio|    null|      null|\n",
      "+------------------+--------------------+--------------------+--------+----------+\n",
      "only showing top 20 rows\n",
      "\n"
     ]
    }
   ],
   "source": [
    "artists_table = ['artist_id', 'name', 'location', 'latitude', 'longitude']\n",
    "artists_table = dfNamed.select(artists_table).dropDuplicates()\n",
    "artists_table.show()"
   ]
  },
  {
   "cell_type": "code",
   "execution_count": 62,
   "metadata": {
    "editable": true
   },
   "outputs": [],
   "source": [
    "log_data = 'log_data/*.json'"
   ]
  },
  {
   "cell_type": "code",
   "execution_count": 63,
   "metadata": {
    "editable": true
   },
   "outputs": [
    {
     "name": "stdout",
     "output_type": "stream",
     "text": [
      "+--------------------+----------+---------+------+-------------+--------+---------+-----+--------------------+------+--------+-----------------+---------+--------------------+------+-------------+--------------------+------+\n",
      "|              artist|      auth|firstName|gender|itemInSession|lastName|   length|level|            location|method|    page|     registration|sessionId|                song|status|           ts|           userAgent|userId|\n",
      "+--------------------+----------+---------+------+-------------+--------+---------+-----+--------------------+------+--------+-----------------+---------+--------------------+------+-------------+--------------------+------+\n",
      "|            Harmonia| Logged In|     Ryan|     M|            0|   Smith|655.77751| free|San Jose-Sunnyval...|   PUT|NextSong|1.541016707796E12|      583|       Sehr kosmisch|   200|1542241826796|\"Mozilla/5.0 (X11...|    26|\n",
      "|         The Prodigy| Logged In|     Ryan|     M|            1|   Smith|260.07465| free|San Jose-Sunnyval...|   PUT|NextSong|1.541016707796E12|      583|     The Big Gundown|   200|1542242481796|\"Mozilla/5.0 (X11...|    26|\n",
      "|               Train| Logged In|     Ryan|     M|            2|   Smith|205.45261| free|San Jose-Sunnyval...|   PUT|NextSong|1.541016707796E12|      583|            Marry Me|   200|1542242741796|\"Mozilla/5.0 (X11...|    26|\n",
      "|                null| Logged In|    Wyatt|     M|            0|   Scott|     null| free|Eureka-Arcata-For...|   GET|    Home|1.540872073796E12|      563|                null|   200|1542247071796|Mozilla/5.0 (Wind...|     9|\n",
      "|                null| Logged In|   Austin|     M|            0| Rosales|     null| free|New York-Newark-J...|   GET|    Home|1.541059521796E12|      521|                null|   200|1542252577796|Mozilla/5.0 (Wind...|    12|\n",
      "|         Sony Wonder| Logged In|   Samuel|     M|            0|Gonzalez|218.06975| free|Houston-The Woodl...|   PUT|NextSong|1.540492941796E12|      597|           Blackbird|   200|1542253449796|\"Mozilla/5.0 (Mac...|    61|\n",
      "|                null| Logged In|   Samuel|     M|            1|Gonzalez|     null| free|Houston-The Woodl...|   GET|   About|1.540492941796E12|      597|                null|   200|1542253460796|\"Mozilla/5.0 (Mac...|    61|\n",
      "|                null|Logged Out|     null|  null|            0|    null|     null| paid|                null|   PUT|   Login|             null|      602|                null|   307|1542260074796|                null|      |\n",
      "|                null| Logged In|    Tegan|     F|            1|  Levine|     null| paid|Portland-South Po...|   GET|    Home|1.540794356796E12|      602|                null|   200|1542260277796|\"Mozilla/5.0 (Mac...|    80|\n",
      "|           Van Halen| Logged In|    Tegan|     F|            2|  Levine|289.38404| paid|Portland-South Po...|   PUT|NextSong|1.540794356796E12|      602|Best Of Both Worl...|   200|1542260935796|\"Mozilla/5.0 (Mac...|    80|\n",
      "|           Magic Sam| Logged In|    Tegan|     F|            3|  Levine|132.04853| paid|Portland-South Po...|   PUT|NextSong|1.540794356796E12|      602|Call Me If You Ne...|   200|1542261224796|\"Mozilla/5.0 (Mac...|    80|\n",
      "|Edward Sharpe & T...| Logged In|    Tegan|     F|            4|  Levine|306.31138| paid|Portland-South Po...|   PUT|NextSong|1.540794356796E12|      602|                Home|   200|1542261356796|\"Mozilla/5.0 (Mac...|    80|\n",
      "|Usher featuring w...| Logged In|    Tegan|     F|            5|  Levine|395.72853| paid|Portland-South Po...|   PUT|NextSong|1.540794356796E12|      602|                 OMG|   200|1542261662796|\"Mozilla/5.0 (Mac...|    80|\n",
      "|                null| Logged In|    Tegan|     F|            6|  Levine|     null| paid|Portland-South Po...|   GET|    Home|1.540794356796E12|      602|                null|   200|1542261713796|\"Mozilla/5.0 (Mac...|    80|\n",
      "|         Helen Reddy| Logged In|    Tegan|     F|            7|  Levine|176.50893| paid|Portland-South Po...|   PUT|NextSong|1.540794356796E12|      602| Candle On The Water|   200|1542262057796|\"Mozilla/5.0 (Mac...|    80|\n",
      "|        Taylor Swift| Logged In|    Tegan|     F|            8|  Levine|201.06404| paid|Portland-South Po...|   PUT|NextSong|1.540794356796E12|      602|            Our Song|   200|1542262233796|\"Mozilla/5.0 (Mac...|    80|\n",
      "|           Sean Paul| Logged In|    Tegan|     F|            9|  Levine|245.34159| paid|Portland-South Po...|   PUT|NextSong|1.540794356796E12|      602|Baby Boy [feat. B...|   200|1542262434796|\"Mozilla/5.0 (Mac...|    80|\n",
      "|         Soundgarden| Logged In|     Lily|     F|            0|    Koch|272.19546| paid|Chicago-Napervill...|   PUT|NextSong|1.541048010796E12|      582|      Black Hole Sun|   200|1542262456796|\"Mozilla/5.0 (X11...|    15|\n",
      "|         The Killers| Logged In|    Tegan|     F|           10|  Levine|360.75057| paid|Portland-South Po...|   PUT|NextSong|1.540794356796E12|      602|               Human|   200|1542262679796|\"Mozilla/5.0 (Mac...|    80|\n",
      "|       Amy Winehouse| Logged In|     Lily|     F|            1|    Koch|165.11955| paid|Chicago-Napervill...|   PUT|NextSong|1.541048010796E12|      582|            Addicted|   200|1542262728796|\"Mozilla/5.0 (X11...|    15|\n",
      "+--------------------+----------+---------+------+-------------+--------+---------+-----+--------------------+------+--------+-----------------+---------+--------------------+------+-------------+--------------------+------+\n",
      "only showing top 20 rows\n",
      "\n"
     ]
    }
   ],
   "source": [
    "ldf = spark.read.json(log_data)\n",
    "ldf.show()"
   ]
  },
  {
   "cell_type": "code",
   "execution_count": 65,
   "metadata": {
    "editable": true
   },
   "outputs": [
    {
     "name": "stdout",
     "output_type": "stream",
     "text": [
      "+--------------------+---------+---------+------+-------------+--------+---------+-----+--------------------+------+--------+-----------------+---------+--------------------+------+-------------+--------------------+------+\n",
      "|              artist|     auth|firstName|gender|itemInSession|lastName|   length|level|            location|method|    page|     registration|sessionId|                song|status|           ts|           userAgent|userId|\n",
      "+--------------------+---------+---------+------+-------------+--------+---------+-----+--------------------+------+--------+-----------------+---------+--------------------+------+-------------+--------------------+------+\n",
      "|            Harmonia|Logged In|     Ryan|     M|            0|   Smith|655.77751| free|San Jose-Sunnyval...|   PUT|NextSong|1.541016707796E12|      583|       Sehr kosmisch|   200|1542241826796|\"Mozilla/5.0 (X11...|    26|\n",
      "|         The Prodigy|Logged In|     Ryan|     M|            1|   Smith|260.07465| free|San Jose-Sunnyval...|   PUT|NextSong|1.541016707796E12|      583|     The Big Gundown|   200|1542242481796|\"Mozilla/5.0 (X11...|    26|\n",
      "|               Train|Logged In|     Ryan|     M|            2|   Smith|205.45261| free|San Jose-Sunnyval...|   PUT|NextSong|1.541016707796E12|      583|            Marry Me|   200|1542242741796|\"Mozilla/5.0 (X11...|    26|\n",
      "|         Sony Wonder|Logged In|   Samuel|     M|            0|Gonzalez|218.06975| free|Houston-The Woodl...|   PUT|NextSong|1.540492941796E12|      597|           Blackbird|   200|1542253449796|\"Mozilla/5.0 (Mac...|    61|\n",
      "|           Van Halen|Logged In|    Tegan|     F|            2|  Levine|289.38404| paid|Portland-South Po...|   PUT|NextSong|1.540794356796E12|      602|Best Of Both Worl...|   200|1542260935796|\"Mozilla/5.0 (Mac...|    80|\n",
      "|           Magic Sam|Logged In|    Tegan|     F|            3|  Levine|132.04853| paid|Portland-South Po...|   PUT|NextSong|1.540794356796E12|      602|Call Me If You Ne...|   200|1542261224796|\"Mozilla/5.0 (Mac...|    80|\n",
      "|Edward Sharpe & T...|Logged In|    Tegan|     F|            4|  Levine|306.31138| paid|Portland-South Po...|   PUT|NextSong|1.540794356796E12|      602|                Home|   200|1542261356796|\"Mozilla/5.0 (Mac...|    80|\n",
      "|Usher featuring w...|Logged In|    Tegan|     F|            5|  Levine|395.72853| paid|Portland-South Po...|   PUT|NextSong|1.540794356796E12|      602|                 OMG|   200|1542261662796|\"Mozilla/5.0 (Mac...|    80|\n",
      "|         Helen Reddy|Logged In|    Tegan|     F|            7|  Levine|176.50893| paid|Portland-South Po...|   PUT|NextSong|1.540794356796E12|      602| Candle On The Water|   200|1542262057796|\"Mozilla/5.0 (Mac...|    80|\n",
      "|        Taylor Swift|Logged In|    Tegan|     F|            8|  Levine|201.06404| paid|Portland-South Po...|   PUT|NextSong|1.540794356796E12|      602|            Our Song|   200|1542262233796|\"Mozilla/5.0 (Mac...|    80|\n",
      "|           Sean Paul|Logged In|    Tegan|     F|            9|  Levine|245.34159| paid|Portland-South Po...|   PUT|NextSong|1.540794356796E12|      602|Baby Boy [feat. B...|   200|1542262434796|\"Mozilla/5.0 (Mac...|    80|\n",
      "|         Soundgarden|Logged In|     Lily|     F|            0|    Koch|272.19546| paid|Chicago-Napervill...|   PUT|NextSong|1.541048010796E12|      582|      Black Hole Sun|   200|1542262456796|\"Mozilla/5.0 (X11...|    15|\n",
      "|         The Killers|Logged In|    Tegan|     F|           10|  Levine|360.75057| paid|Portland-South Po...|   PUT|NextSong|1.540794356796E12|      602|               Human|   200|1542262679796|\"Mozilla/5.0 (Mac...|    80|\n",
      "|       Amy Winehouse|Logged In|     Lily|     F|            1|    Koch|165.11955| paid|Chicago-Napervill...|   PUT|NextSong|1.541048010796E12|      582|            Addicted|   200|1542262728796|\"Mozilla/5.0 (X11...|    15|\n",
      "|      Steve Anderson|Logged In|     Lily|     F|            2|    Koch|265.06404| paid|Chicago-Napervill...|   PUT|NextSong|1.541048010796E12|      582|                 Air|   200|1542262893796|\"Mozilla/5.0 (X11...|    15|\n",
      "|          Rob Zombie|Logged In|     Lily|     F|            3|    Koch|220.13342| paid|Chicago-Napervill...|   PUT|NextSong|1.541048010796E12|      582|          Superbeast|   200|1542263158796|\"Mozilla/5.0 (X11...|    15|\n",
      "|  Deadmau5 & Kaskade|Logged In|     Lily|     F|            4|    Koch|595.56526| paid|Chicago-Napervill...|   PUT|NextSong|1.541048010796E12|      582|          I Remember|   200|1542263378796|\"Mozilla/5.0 (X11...|    15|\n",
      "|        Shania Twain|Logged In|     Ryan|     M|            0|   Smith| 213.7073| free|San Jose-Sunnyval...|   PUT|NextSong|1.541016707796E12|      607|Don't Be Stupid (...|   200|1542265716796|\"Mozilla/5.0 (X11...|    26|\n",
      "|      Los Campesinos|Logged In|     Ryan|     M|            1|   Smith|138.10893| free|San Jose-Sunnyval...|   PUT|NextSong|1.541016707796E12|      607|We throw parties_...|   200|1542265929796|\"Mozilla/5.0 (X11...|    26|\n",
      "|            Ill Nino|Logged In|    Chloe|     F|            1|  Cuevas| 188.9171| paid|San Francisco-Oak...|   PUT|NextSong|1.540940782796E12|      606|How Can I Live (S...|   200|1542266927796|Mozilla/5.0 (Wind...|    49|\n",
      "+--------------------+---------+---------+------+-------------+--------+---------+-----+--------------------+------+--------+-----------------+---------+--------------------+------+-------------+--------------------+------+\n",
      "only showing top 20 rows\n",
      "\n"
     ]
    }
   ],
   "source": [
    "ldf = ldf.filter(ldf.page=='NextSong')\n",
    "ldf.show()"
   ]
  },
  {
   "cell_type": "code",
   "execution_count": 66,
   "metadata": {
    "editable": true
   },
   "outputs": [],
   "source": [
    "fields = [(\"artist\", \"artist\"),\n",
    "          (\"auth\", \"auth\"),\n",
    "          (\"firstName\", \"first_name\"),\n",
    "          (\"gender\", \"gender\"),\n",
    "          (\"itemInSession\", \"itemInSession\"),\n",
    "          (\"lastName\", \"last_name\"),\n",
    "          (\"length\", \"length\"),\n",
    "          (\"level\", \"level\"),\n",
    "          (\"location\", \"location\"),\n",
    "          (\"method\", \"method\"),\n",
    "          (\"page\", \"page\"),\n",
    "          (\"registration\", \"registration\"),\n",
    "          (\"sessionId\", \"session_id\"),\n",
    "          (\"song\", \"song\"),\n",
    "          (\"status\", \"status\"),\n",
    "          (\"ts\", \"ts\"),\n",
    "          (\"userAgent\", \"user_agent\"),\n",
    "          (\"userId\", \"user_id\")\n",
    "          ]\n",
    "exprs = [ \"{} as {}\".format(field[0],field[1]) for field in fields]\n",
    "ldf = ldf.selectExpr(*exprs)"
   ]
  },
  {
   "cell_type": "code",
   "execution_count": 67,
   "metadata": {
    "editable": true
   },
   "outputs": [
    {
     "name": "stdout",
     "output_type": "stream",
     "text": [
      "+-------+----------+---------+------+-----+\n",
      "|user_id|first_name|last_name|gender|level|\n",
      "+-------+----------+---------+------+-----+\n",
      "|     26|      Ryan|    Smith|     M| free|\n",
      "|      7|    Adelyn|   Jordan|     F| free|\n",
      "|     71|    Ayleen|     Wise|     F| free|\n",
      "|     81|    Sienna|    Colon|     F| free|\n",
      "|     87|    Dustin|      Lee|     M| free|\n",
      "|     23|    Morris|  Gilmore|     M| free|\n",
      "|     75|    Joseph|Gutierrez|     M| free|\n",
      "|     16|     Rylan|   George|     M| paid|\n",
      "|      2|   Jizelle| Benjamin|     F| free|\n",
      "|      3|     Isaac|   Valdez|     M| free|\n",
      "|     54|     Kaleb|     Cook|     M| free|\n",
      "|     79|     James|   Martin|     M| free|\n",
      "|     80|     Tegan|   Levine|     F| paid|\n",
      "|     77| Magdalene|   Herman|     F| free|\n",
      "|     47|    Kimber|   Norris|     F| free|\n",
      "|     30|     Avery|  Watkins|     F| paid|\n",
      "|     22|      Sean|   Wilson|     F| free|\n",
      "|      4|    Alivia|  Terrell|     F| free|\n",
      "|     55|    Martin|  Johnson|     M| free|\n",
      "|     20|     Aiden|  Ramirez|     M| paid|\n",
      "+-------+----------+---------+------+-----+\n",
      "only showing top 20 rows\n",
      "\n"
     ]
    }
   ],
   "source": [
    "user_fields = ['user_id', 'first_name', 'last_name', 'gender', 'level']\n",
    "users_table = ldf.select(user_fields).dropDuplicates()\n",
    "users_table.show()"
   ]
  },
  {
   "cell_type": "code",
   "execution_count": 68,
   "metadata": {
    "editable": true
   },
   "outputs": [
    {
     "name": "stdout",
     "output_type": "stream",
     "text": [
      "+--------------------+---------+----------+------+-------------+---------+---------+-----+--------------------+------+--------+-----------------+----------+--------------------+------+-------------+--------------------+-------+----------------+\n",
      "|              artist|     auth|first_name|gender|itemInSession|last_name|   length|level|            location|method|    page|     registration|session_id|                song|status|           ts|          user_agent|user_id|             ts2|\n",
      "+--------------------+---------+----------+------+-------------+---------+---------+-----+--------------------+------+--------+-----------------+----------+--------------------+------+-------------+--------------------+-------+----------------+\n",
      "|            Harmonia|Logged In|      Ryan|     M|            0|    Smith|655.77751| free|San Jose-Sunnyval...|   PUT|NextSong|1.541016707796E12|       583|       Sehr kosmisch|   200|1542241826796|\"Mozilla/5.0 (X11...|     26|1.542241826796E9|\n",
      "|         The Prodigy|Logged In|      Ryan|     M|            1|    Smith|260.07465| free|San Jose-Sunnyval...|   PUT|NextSong|1.541016707796E12|       583|     The Big Gundown|   200|1542242481796|\"Mozilla/5.0 (X11...|     26|1.542242481796E9|\n",
      "|               Train|Logged In|      Ryan|     M|            2|    Smith|205.45261| free|San Jose-Sunnyval...|   PUT|NextSong|1.541016707796E12|       583|            Marry Me|   200|1542242741796|\"Mozilla/5.0 (X11...|     26|1.542242741796E9|\n",
      "|         Sony Wonder|Logged In|    Samuel|     M|            0| Gonzalez|218.06975| free|Houston-The Woodl...|   PUT|NextSong|1.540492941796E12|       597|           Blackbird|   200|1542253449796|\"Mozilla/5.0 (Mac...|     61|1.542253449796E9|\n",
      "|           Van Halen|Logged In|     Tegan|     F|            2|   Levine|289.38404| paid|Portland-South Po...|   PUT|NextSong|1.540794356796E12|       602|Best Of Both Worl...|   200|1542260935796|\"Mozilla/5.0 (Mac...|     80|1.542260935796E9|\n",
      "|           Magic Sam|Logged In|     Tegan|     F|            3|   Levine|132.04853| paid|Portland-South Po...|   PUT|NextSong|1.540794356796E12|       602|Call Me If You Ne...|   200|1542261224796|\"Mozilla/5.0 (Mac...|     80|1.542261224796E9|\n",
      "|Edward Sharpe & T...|Logged In|     Tegan|     F|            4|   Levine|306.31138| paid|Portland-South Po...|   PUT|NextSong|1.540794356796E12|       602|                Home|   200|1542261356796|\"Mozilla/5.0 (Mac...|     80|1.542261356796E9|\n",
      "|Usher featuring w...|Logged In|     Tegan|     F|            5|   Levine|395.72853| paid|Portland-South Po...|   PUT|NextSong|1.540794356796E12|       602|                 OMG|   200|1542261662796|\"Mozilla/5.0 (Mac...|     80|1.542261662796E9|\n",
      "|         Helen Reddy|Logged In|     Tegan|     F|            7|   Levine|176.50893| paid|Portland-South Po...|   PUT|NextSong|1.540794356796E12|       602| Candle On The Water|   200|1542262057796|\"Mozilla/5.0 (Mac...|     80|1.542262057796E9|\n",
      "|        Taylor Swift|Logged In|     Tegan|     F|            8|   Levine|201.06404| paid|Portland-South Po...|   PUT|NextSong|1.540794356796E12|       602|            Our Song|   200|1542262233796|\"Mozilla/5.0 (Mac...|     80|1.542262233796E9|\n",
      "|           Sean Paul|Logged In|     Tegan|     F|            9|   Levine|245.34159| paid|Portland-South Po...|   PUT|NextSong|1.540794356796E12|       602|Baby Boy [feat. B...|   200|1542262434796|\"Mozilla/5.0 (Mac...|     80|1.542262434796E9|\n",
      "|         Soundgarden|Logged In|      Lily|     F|            0|     Koch|272.19546| paid|Chicago-Napervill...|   PUT|NextSong|1.541048010796E12|       582|      Black Hole Sun|   200|1542262456796|\"Mozilla/5.0 (X11...|     15|1.542262456796E9|\n",
      "|         The Killers|Logged In|     Tegan|     F|           10|   Levine|360.75057| paid|Portland-South Po...|   PUT|NextSong|1.540794356796E12|       602|               Human|   200|1542262679796|\"Mozilla/5.0 (Mac...|     80|1.542262679796E9|\n",
      "|       Amy Winehouse|Logged In|      Lily|     F|            1|     Koch|165.11955| paid|Chicago-Napervill...|   PUT|NextSong|1.541048010796E12|       582|            Addicted|   200|1542262728796|\"Mozilla/5.0 (X11...|     15|1.542262728796E9|\n",
      "|      Steve Anderson|Logged In|      Lily|     F|            2|     Koch|265.06404| paid|Chicago-Napervill...|   PUT|NextSong|1.541048010796E12|       582|                 Air|   200|1542262893796|\"Mozilla/5.0 (X11...|     15|1.542262893796E9|\n",
      "|          Rob Zombie|Logged In|      Lily|     F|            3|     Koch|220.13342| paid|Chicago-Napervill...|   PUT|NextSong|1.541048010796E12|       582|          Superbeast|   200|1542263158796|\"Mozilla/5.0 (X11...|     15|1.542263158796E9|\n",
      "|  Deadmau5 & Kaskade|Logged In|      Lily|     F|            4|     Koch|595.56526| paid|Chicago-Napervill...|   PUT|NextSong|1.541048010796E12|       582|          I Remember|   200|1542263378796|\"Mozilla/5.0 (X11...|     15|1.542263378796E9|\n",
      "|        Shania Twain|Logged In|      Ryan|     M|            0|    Smith| 213.7073| free|San Jose-Sunnyval...|   PUT|NextSong|1.541016707796E12|       607|Don't Be Stupid (...|   200|1542265716796|\"Mozilla/5.0 (X11...|     26|1.542265716796E9|\n",
      "|      Los Campesinos|Logged In|      Ryan|     M|            1|    Smith|138.10893| free|San Jose-Sunnyval...|   PUT|NextSong|1.541016707796E12|       607|We throw parties_...|   200|1542265929796|\"Mozilla/5.0 (X11...|     26|1.542265929796E9|\n",
      "|            Ill Nino|Logged In|     Chloe|     F|            1|   Cuevas| 188.9171| paid|San Francisco-Oak...|   PUT|NextSong|1.540940782796E12|       606|How Can I Live (S...|   200|1542266927796|Mozilla/5.0 (Wind...|     49|1.542266927796E9|\n",
      "+--------------------+---------+----------+------+-------------+---------+---------+-----+--------------------+------+--------+-----------------+----------+--------------------+------+-------------+--------------------+-------+----------------+\n",
      "only showing top 20 rows\n",
      "\n"
     ]
    }
   ],
   "source": [
    "get_timestamp = udf(lambda x: x/1000, Dbl())\n",
    "ldf = ldf.withColumn('ts2', get_timestamp('ts'))\n",
    "ldf.show()"
   ]
  },
  {
   "cell_type": "code",
   "execution_count": 79,
   "metadata": {
    "editable": true
   },
   "outputs": [
    {
     "name": "stdout",
     "output_type": "stream",
     "text": [
      "+--------------------+---------+----------+------+-------------+---------+---------+-----+--------------------+------+--------+-----------------+----------+--------------------+------+-------------+--------------------+-------+----------------+-------------------+\n",
      "|              artist|     auth|first_name|gender|itemInSession|last_name|   length|level|            location|method|    page|     registration|session_id|                song|status|           ts|          user_agent|user_id|             ts2|          timestamp|\n",
      "+--------------------+---------+----------+------+-------------+---------+---------+-----+--------------------+------+--------+-----------------+----------+--------------------+------+-------------+--------------------+-------+----------------+-------------------+\n",
      "|            Harmonia|Logged In|      Ryan|     M|            0|    Smith|655.77751| free|San Jose-Sunnyval...|   PUT|NextSong|1.541016707796E12|       583|       Sehr kosmisch|   200|1542241826796|\"Mozilla/5.0 (X11...|     26|1.542241826796E9|2018-11-15 00:30:26|\n",
      "|         The Prodigy|Logged In|      Ryan|     M|            1|    Smith|260.07465| free|San Jose-Sunnyval...|   PUT|NextSong|1.541016707796E12|       583|     The Big Gundown|   200|1542242481796|\"Mozilla/5.0 (X11...|     26|1.542242481796E9|2018-11-15 00:41:21|\n",
      "|               Train|Logged In|      Ryan|     M|            2|    Smith|205.45261| free|San Jose-Sunnyval...|   PUT|NextSong|1.541016707796E12|       583|            Marry Me|   200|1542242741796|\"Mozilla/5.0 (X11...|     26|1.542242741796E9|2018-11-15 00:45:41|\n",
      "|         Sony Wonder|Logged In|    Samuel|     M|            0| Gonzalez|218.06975| free|Houston-The Woodl...|   PUT|NextSong|1.540492941796E12|       597|           Blackbird|   200|1542253449796|\"Mozilla/5.0 (Mac...|     61|1.542253449796E9|2018-11-15 03:44:09|\n",
      "|           Van Halen|Logged In|     Tegan|     F|            2|   Levine|289.38404| paid|Portland-South Po...|   PUT|NextSong|1.540794356796E12|       602|Best Of Both Worl...|   200|1542260935796|\"Mozilla/5.0 (Mac...|     80|1.542260935796E9|2018-11-15 05:48:55|\n",
      "|           Magic Sam|Logged In|     Tegan|     F|            3|   Levine|132.04853| paid|Portland-South Po...|   PUT|NextSong|1.540794356796E12|       602|Call Me If You Ne...|   200|1542261224796|\"Mozilla/5.0 (Mac...|     80|1.542261224796E9|2018-11-15 05:53:44|\n",
      "|Edward Sharpe & T...|Logged In|     Tegan|     F|            4|   Levine|306.31138| paid|Portland-South Po...|   PUT|NextSong|1.540794356796E12|       602|                Home|   200|1542261356796|\"Mozilla/5.0 (Mac...|     80|1.542261356796E9|2018-11-15 05:55:56|\n",
      "|Usher featuring w...|Logged In|     Tegan|     F|            5|   Levine|395.72853| paid|Portland-South Po...|   PUT|NextSong|1.540794356796E12|       602|                 OMG|   200|1542261662796|\"Mozilla/5.0 (Mac...|     80|1.542261662796E9|2018-11-15 06:01:02|\n",
      "|         Helen Reddy|Logged In|     Tegan|     F|            7|   Levine|176.50893| paid|Portland-South Po...|   PUT|NextSong|1.540794356796E12|       602| Candle On The Water|   200|1542262057796|\"Mozilla/5.0 (Mac...|     80|1.542262057796E9|2018-11-15 06:07:37|\n",
      "|        Taylor Swift|Logged In|     Tegan|     F|            8|   Levine|201.06404| paid|Portland-South Po...|   PUT|NextSong|1.540794356796E12|       602|            Our Song|   200|1542262233796|\"Mozilla/5.0 (Mac...|     80|1.542262233796E9|2018-11-15 06:10:33|\n",
      "|           Sean Paul|Logged In|     Tegan|     F|            9|   Levine|245.34159| paid|Portland-South Po...|   PUT|NextSong|1.540794356796E12|       602|Baby Boy [feat. B...|   200|1542262434796|\"Mozilla/5.0 (Mac...|     80|1.542262434796E9|2018-11-15 06:13:54|\n",
      "|         Soundgarden|Logged In|      Lily|     F|            0|     Koch|272.19546| paid|Chicago-Napervill...|   PUT|NextSong|1.541048010796E12|       582|      Black Hole Sun|   200|1542262456796|\"Mozilla/5.0 (X11...|     15|1.542262456796E9|2018-11-15 06:14:16|\n",
      "|         The Killers|Logged In|     Tegan|     F|           10|   Levine|360.75057| paid|Portland-South Po...|   PUT|NextSong|1.540794356796E12|       602|               Human|   200|1542262679796|\"Mozilla/5.0 (Mac...|     80|1.542262679796E9|2018-11-15 06:17:59|\n",
      "|       Amy Winehouse|Logged In|      Lily|     F|            1|     Koch|165.11955| paid|Chicago-Napervill...|   PUT|NextSong|1.541048010796E12|       582|            Addicted|   200|1542262728796|\"Mozilla/5.0 (X11...|     15|1.542262728796E9|2018-11-15 06:18:48|\n",
      "|      Steve Anderson|Logged In|      Lily|     F|            2|     Koch|265.06404| paid|Chicago-Napervill...|   PUT|NextSong|1.541048010796E12|       582|                 Air|   200|1542262893796|\"Mozilla/5.0 (X11...|     15|1.542262893796E9|2018-11-15 06:21:33|\n",
      "|          Rob Zombie|Logged In|      Lily|     F|            3|     Koch|220.13342| paid|Chicago-Napervill...|   PUT|NextSong|1.541048010796E12|       582|          Superbeast|   200|1542263158796|\"Mozilla/5.0 (X11...|     15|1.542263158796E9|2018-11-15 06:25:58|\n",
      "|  Deadmau5 & Kaskade|Logged In|      Lily|     F|            4|     Koch|595.56526| paid|Chicago-Napervill...|   PUT|NextSong|1.541048010796E12|       582|          I Remember|   200|1542263378796|\"Mozilla/5.0 (X11...|     15|1.542263378796E9|2018-11-15 06:29:38|\n",
      "|        Shania Twain|Logged In|      Ryan|     M|            0|    Smith| 213.7073| free|San Jose-Sunnyval...|   PUT|NextSong|1.541016707796E12|       607|Don't Be Stupid (...|   200|1542265716796|\"Mozilla/5.0 (X11...|     26|1.542265716796E9|2018-11-15 07:08:36|\n",
      "|      Los Campesinos|Logged In|      Ryan|     M|            1|    Smith|138.10893| free|San Jose-Sunnyval...|   PUT|NextSong|1.541016707796E12|       607|We throw parties_...|   200|1542265929796|\"Mozilla/5.0 (X11...|     26|1.542265929796E9|2018-11-15 07:12:09|\n",
      "|            Ill Nino|Logged In|     Chloe|     F|            1|   Cuevas| 188.9171| paid|San Francisco-Oak...|   PUT|NextSong|1.540940782796E12|       606|How Can I Live (S...|   200|1542266927796|Mozilla/5.0 (Wind...|     49|1.542266927796E9|2018-11-15 07:28:47|\n",
      "+--------------------+---------+----------+------+-------------+---------+---------+-----+--------------------+------+--------+-----------------+----------+--------------------+------+-------------+--------------------+-------+----------------+-------------------+\n",
      "only showing top 20 rows\n",
      "\n"
     ]
    }
   ],
   "source": [
    "get_timestamp = udf(lambda x: datetime.fromtimestamp(x/1000).strftime('%Y-%m-%d %H:%M:%S'))\n",
    "ldf = ldf.withColumn('timestamp', get_timestamp('ts'))\n",
    "ldf.show()"
   ]
  },
  {
   "cell_type": "code",
   "execution_count": 80,
   "metadata": {
    "editable": true
   },
   "outputs": [
    {
     "name": "stdout",
     "output_type": "stream",
     "text": [
      "+--------------------+---------+----------+------+-------------+---------+---------+-----+--------------------+------+--------+-----------------+----------+--------------------+------+-------------+--------------------+-------+----------------+-------------------+----------+\n",
      "|              artist|     auth|first_name|gender|itemInSession|last_name|   length|level|            location|method|    page|     registration|session_id|                song|status|           ts|          user_agent|user_id|             ts2|          timestamp|  datetime|\n",
      "+--------------------+---------+----------+------+-------------+---------+---------+-----+--------------------+------+--------+-----------------+----------+--------------------+------+-------------+--------------------+-------+----------------+-------------------+----------+\n",
      "|            Harmonia|Logged In|      Ryan|     M|            0|    Smith|655.77751| free|San Jose-Sunnyval...|   PUT|NextSong|1.541016707796E12|       583|       Sehr kosmisch|   200|1542241826796|\"Mozilla/5.0 (X11...|     26|1.542241826796E9|2018-11-15 00:30:26|2018-11-15|\n",
      "|         The Prodigy|Logged In|      Ryan|     M|            1|    Smith|260.07465| free|San Jose-Sunnyval...|   PUT|NextSong|1.541016707796E12|       583|     The Big Gundown|   200|1542242481796|\"Mozilla/5.0 (X11...|     26|1.542242481796E9|2018-11-15 00:41:21|2018-11-15|\n",
      "|               Train|Logged In|      Ryan|     M|            2|    Smith|205.45261| free|San Jose-Sunnyval...|   PUT|NextSong|1.541016707796E12|       583|            Marry Me|   200|1542242741796|\"Mozilla/5.0 (X11...|     26|1.542242741796E9|2018-11-15 00:45:41|2018-11-15|\n",
      "|         Sony Wonder|Logged In|    Samuel|     M|            0| Gonzalez|218.06975| free|Houston-The Woodl...|   PUT|NextSong|1.540492941796E12|       597|           Blackbird|   200|1542253449796|\"Mozilla/5.0 (Mac...|     61|1.542253449796E9|2018-11-15 03:44:09|2018-11-15|\n",
      "|           Van Halen|Logged In|     Tegan|     F|            2|   Levine|289.38404| paid|Portland-South Po...|   PUT|NextSong|1.540794356796E12|       602|Best Of Both Worl...|   200|1542260935796|\"Mozilla/5.0 (Mac...|     80|1.542260935796E9|2018-11-15 05:48:55|2018-11-15|\n",
      "|           Magic Sam|Logged In|     Tegan|     F|            3|   Levine|132.04853| paid|Portland-South Po...|   PUT|NextSong|1.540794356796E12|       602|Call Me If You Ne...|   200|1542261224796|\"Mozilla/5.0 (Mac...|     80|1.542261224796E9|2018-11-15 05:53:44|2018-11-15|\n",
      "|Edward Sharpe & T...|Logged In|     Tegan|     F|            4|   Levine|306.31138| paid|Portland-South Po...|   PUT|NextSong|1.540794356796E12|       602|                Home|   200|1542261356796|\"Mozilla/5.0 (Mac...|     80|1.542261356796E9|2018-11-15 05:55:56|2018-11-15|\n",
      "|Usher featuring w...|Logged In|     Tegan|     F|            5|   Levine|395.72853| paid|Portland-South Po...|   PUT|NextSong|1.540794356796E12|       602|                 OMG|   200|1542261662796|\"Mozilla/5.0 (Mac...|     80|1.542261662796E9|2018-11-15 06:01:02|2018-11-15|\n",
      "|         Helen Reddy|Logged In|     Tegan|     F|            7|   Levine|176.50893| paid|Portland-South Po...|   PUT|NextSong|1.540794356796E12|       602| Candle On The Water|   200|1542262057796|\"Mozilla/5.0 (Mac...|     80|1.542262057796E9|2018-11-15 06:07:37|2018-11-15|\n",
      "|        Taylor Swift|Logged In|     Tegan|     F|            8|   Levine|201.06404| paid|Portland-South Po...|   PUT|NextSong|1.540794356796E12|       602|            Our Song|   200|1542262233796|\"Mozilla/5.0 (Mac...|     80|1.542262233796E9|2018-11-15 06:10:33|2018-11-15|\n",
      "|           Sean Paul|Logged In|     Tegan|     F|            9|   Levine|245.34159| paid|Portland-South Po...|   PUT|NextSong|1.540794356796E12|       602|Baby Boy [feat. B...|   200|1542262434796|\"Mozilla/5.0 (Mac...|     80|1.542262434796E9|2018-11-15 06:13:54|2018-11-15|\n",
      "|         Soundgarden|Logged In|      Lily|     F|            0|     Koch|272.19546| paid|Chicago-Napervill...|   PUT|NextSong|1.541048010796E12|       582|      Black Hole Sun|   200|1542262456796|\"Mozilla/5.0 (X11...|     15|1.542262456796E9|2018-11-15 06:14:16|2018-11-15|\n",
      "|         The Killers|Logged In|     Tegan|     F|           10|   Levine|360.75057| paid|Portland-South Po...|   PUT|NextSong|1.540794356796E12|       602|               Human|   200|1542262679796|\"Mozilla/5.0 (Mac...|     80|1.542262679796E9|2018-11-15 06:17:59|2018-11-15|\n",
      "|       Amy Winehouse|Logged In|      Lily|     F|            1|     Koch|165.11955| paid|Chicago-Napervill...|   PUT|NextSong|1.541048010796E12|       582|            Addicted|   200|1542262728796|\"Mozilla/5.0 (X11...|     15|1.542262728796E9|2018-11-15 06:18:48|2018-11-15|\n",
      "|      Steve Anderson|Logged In|      Lily|     F|            2|     Koch|265.06404| paid|Chicago-Napervill...|   PUT|NextSong|1.541048010796E12|       582|                 Air|   200|1542262893796|\"Mozilla/5.0 (X11...|     15|1.542262893796E9|2018-11-15 06:21:33|2018-11-15|\n",
      "|          Rob Zombie|Logged In|      Lily|     F|            3|     Koch|220.13342| paid|Chicago-Napervill...|   PUT|NextSong|1.541048010796E12|       582|          Superbeast|   200|1542263158796|\"Mozilla/5.0 (X11...|     15|1.542263158796E9|2018-11-15 06:25:58|2018-11-15|\n",
      "|  Deadmau5 & Kaskade|Logged In|      Lily|     F|            4|     Koch|595.56526| paid|Chicago-Napervill...|   PUT|NextSong|1.541048010796E12|       582|          I Remember|   200|1542263378796|\"Mozilla/5.0 (X11...|     15|1.542263378796E9|2018-11-15 06:29:38|2018-11-15|\n",
      "|        Shania Twain|Logged In|      Ryan|     M|            0|    Smith| 213.7073| free|San Jose-Sunnyval...|   PUT|NextSong|1.541016707796E12|       607|Don't Be Stupid (...|   200|1542265716796|\"Mozilla/5.0 (X11...|     26|1.542265716796E9|2018-11-15 07:08:36|2018-11-15|\n",
      "|      Los Campesinos|Logged In|      Ryan|     M|            1|    Smith|138.10893| free|San Jose-Sunnyval...|   PUT|NextSong|1.541016707796E12|       607|We throw parties_...|   200|1542265929796|\"Mozilla/5.0 (X11...|     26|1.542265929796E9|2018-11-15 07:12:09|2018-11-15|\n",
      "|            Ill Nino|Logged In|     Chloe|     F|            1|   Cuevas| 188.9171| paid|San Francisco-Oak...|   PUT|NextSong|1.540940782796E12|       606|How Can I Live (S...|   200|1542266927796|Mozilla/5.0 (Wind...|     49|1.542266927796E9|2018-11-15 07:28:47|2018-11-15|\n",
      "+--------------------+---------+----------+------+-------------+---------+---------+-----+--------------------+------+--------+-----------------+----------+--------------------+------+-------------+--------------------+-------+----------------+-------------------+----------+\n",
      "only showing top 20 rows\n",
      "\n"
     ]
    }
   ],
   "source": [
    "get_datetime = udf(lambda x: datetime.fromtimestamp(x/1000).strftime('%Y-%m-%d'))\n",
    "ldf = ldf.withColumn('datetime', get_datetime('ts'))\n",
    "ldf.show()"
   ]
  },
  {
   "cell_type": "code",
   "execution_count": 82,
   "metadata": {
    "editable": true
   },
   "outputs": [
    {
     "name": "stdout",
     "output_type": "stream",
     "text": [
      "+-------------------+----+---+----+-----+----+-------+\n",
      "|         start_time|hour|day|week|month|year|weekday|\n",
      "+-------------------+----+---+----+-----+----+-------+\n",
      "|2018-11-01 21:01:46|  21|  1|  44|   11|2018|      4|\n",
      "|2018-11-01 21:05:52|  21|  1|  44|   11|2018|      4|\n",
      "|2018-11-01 21:08:16|  21|  1|  44|   11|2018|      4|\n",
      "|2018-11-01 21:11:13|  21|  1|  44|   11|2018|      4|\n",
      "|2018-11-01 21:17:33|  21|  1|  44|   11|2018|      4|\n",
      "|2018-11-01 21:24:53|  21|  1|  44|   11|2018|      4|\n",
      "|2018-11-01 21:28:54|  21|  1|  44|   11|2018|      4|\n",
      "|2018-11-01 21:42:00|  21|  1|  44|   11|2018|      4|\n",
      "|2018-11-01 21:52:05|  21|  1|  44|   11|2018|      4|\n",
      "|2018-11-01 21:55:25|  21|  1|  44|   11|2018|      4|\n",
      "|2018-11-01 22:23:14|  22|  1|  44|   11|2018|      4|\n",
      "|2018-11-02 01:25:34|   1|  2|  44|   11|2018|      5|\n",
      "|2018-11-02 01:30:41|   1|  2|  44|   11|2018|      5|\n",
      "|2018-11-02 01:34:17|   1|  2|  44|   11|2018|      5|\n",
      "|2018-11-02 02:42:48|   2|  2|  44|   11|2018|      5|\n",
      "|2018-11-02 03:05:57|   3|  2|  44|   11|2018|      5|\n",
      "|2018-11-02 03:34:34|   3|  2|  44|   11|2018|      5|\n",
      "|2018-11-02 05:15:41|   5|  2|  44|   11|2018|      5|\n",
      "|2018-11-02 05:52:29|   5|  2|  44|   11|2018|      5|\n",
      "|2018-11-02 09:01:21|   9|  2|  44|   11|2018|      5|\n",
      "+-------------------+----+---+----+-----+----+-------+\n",
      "only showing top 20 rows\n",
      "\n"
     ]
    }
   ],
   "source": [
    "time_table = ldf.select(\n",
    "    col('timestamp').alias('start_time'),\n",
    "    hour('timestamp').alias('hour'),\n",
    "    dayofmonth('timestamp').alias('day'),\n",
    "    weekofyear('timestamp').alias('week'),\n",
    "    month('timestamp').alias('month'),\n",
    "    year('timestamp').alias('year'),\n",
    "    date_format('timestamp', 'u').alias('weekday')).orderBy(\"start_time\").drop_duplicates() \n",
    "\n",
    "time_table.show()"
   ]
  },
  {
   "cell_type": "code",
   "execution_count": 83,
   "metadata": {
    "editable": true
   },
   "outputs": [
    {
     "data": {
      "text/plain": [
       "DataFrame[song_id: string, title: string, artist_id: string, artist_name: string, year: bigint, duration: double]"
      ]
     },
     "execution_count": 83,
     "metadata": {},
     "output_type": "execute_result"
    }
   ],
   "source": [
    "song_df = spark.read.json('song_data/*/*/*/*.json').selectExpr(\n",
    "    \"song_id\",\n",
    "    \"title\",\n",
    "    \"artist_id\",\n",
    "    \"artist_name\",\n",
    "    \"year\",\n",
    "    \"duration\").drop_duplicates()\n",
    "\n",
    "song_df"
   ]
  },
  {
   "cell_type": "code",
   "execution_count": 84,
   "metadata": {
    "editable": true
   },
   "outputs": [
    {
     "name": "stdout",
     "output_type": "stream",
     "text": [
      "+------------------+--------------------+------------------+--------------------+----+---------+\n",
      "|           song_id|               title|         artist_id|         artist_name|year| duration|\n",
      "+------------------+--------------------+------------------+--------------------+----+---------+\n",
      "|SOKEJEJ12A8C13E0D0|The Urgency (LP V...|ARC43071187B990240|        Wayne Watson|   0|245.21098|\n",
      "|SOZCTXZ12AB0182364|      Setanta matins|AR5KOSW1187FB35FF4|               Elena|   0|269.58322|\n",
      "|SORRZGD12A6310DBC3|      Harajuku Girls|ARVBRGZ1187FB4675A|        Gwen Stefani|2004|290.55955|\n",
      "|SOGVQGJ12AB017F169|           Ten Tonne|AR62SOJ1187FB47BB5|      Chase & Status|2005|337.68444|\n",
      "|SOQOTLQ12AB01868D0|  Clementina Santafè|ARGCY1Y1187B9A4FA5|            Gloriana|   0|153.33832|\n",
      "|SONHOTT12A8C13493C|     Something Girls|AR7G5I41187FB4CE6C|            Adam Ant|1982|233.40363|\n",
      "|SOOJPRH12A8C141995|   Loaded Like A Gun|ARBGXIG122988F409D|          Steel Rain|   0|173.19138|\n",
      "|SOLLHMX12AB01846DC|   The Emperor Falls|AR1Y2PT1187FB5B9CE|         John Wesley|   0|484.62322|\n",
      "|SOIAZJW12AB01853F1|          Pink World|AR8ZCNI1187B9A069B|    Planet P Project|1984|269.81832|\n",
      "|SOPSWQW12A6D4F8781|Made Like This (L...|ARGIWFO1187B9B55B7|      Five Bolt Main|   0|225.09669|\n",
      "|SOAOIBZ12AB01815BE|I Hold Your Hand ...|ARPBNLO1187FB3D52F|            Tiny Tim|2000| 43.36281|\n",
      "|SOTUKVB12AB0181477|   Blessed Assurance|AR7ZKHQ1187B98DD73|                Glad|1993|  270.602|\n",
      "|SOCIWDW12A8C13D406|           Soul Deep|ARMJAGH1187FB546F3|        The Box Tops|1969|148.03546|\n",
      "|SOZHPGD12A8C1394FE|     Baby Come To Me|AR9AWNF1187B9AB0B4|Kenny G featuring...|   0|236.93016|\n",
      "|SOHUOAP12A8AE488E9|            Floating|ARD842G1187B997376|          Blue Rodeo|1987|491.12771|\n",
      "|SOOLYAZ12A6701F4A6|Laws Patrolling (...|AREBBGV1187FB523D2|Mike Jones (Featu...|   0|173.66159|\n",
      "|SOBAYLL12A8C138AF9|Sono andati? Fing...|ARDR4AC1187FB371A1|Montserrat Caball...|   0|511.16363|\n",
      "|SOFNOQK12AB01840FC|Kutt Free (DJ Vol...|ARNNKDK1187B98BBD5|                Jinx|   0|407.37914|\n",
      "|SOBLGCN12AB0183212|James (Hold The L...|AR47JEX1187B995D81|        SUE THOMPSON|1985|124.86485|\n",
      "|SOXLBJT12A8C140925|   Caught In A Dream|ARYKCQI1187FB3B18F|               Tesla|2004|290.29832|\n",
      "+------------------+--------------------+------------------+--------------------+----+---------+\n",
      "only showing top 20 rows\n",
      "\n"
     ]
    }
   ],
   "source": [
    "song_df.show()"
   ]
  },
  {
   "cell_type": "code",
   "execution_count": 86,
   "metadata": {
    "editable": true
   },
   "outputs": [
    {
     "name": "stdout",
     "output_type": "stream",
     "text": [
      "+--------------------+---------+----------+------+-------------+---------+---------+-----+--------------------+------+--------+-----------------+----------+--------------------+------+-------------+--------------------+-------+----------------+-------------------+----------+\n",
      "|              artist|     auth|first_name|gender|itemInSession|last_name|   length|level|            location|method|    page|     registration|session_id|                song|status|           ts|          user_agent|user_id|             ts2|          timestamp|  datetime|\n",
      "+--------------------+---------+----------+------+-------------+---------+---------+-----+--------------------+------+--------+-----------------+----------+--------------------+------+-------------+--------------------+-------+----------------+-------------------+----------+\n",
      "|            Harmonia|Logged In|      Ryan|     M|            0|    Smith|655.77751| free|San Jose-Sunnyval...|   PUT|NextSong|1.541016707796E12|       583|       Sehr kosmisch|   200|1542241826796|\"Mozilla/5.0 (X11...|     26|1.542241826796E9|2018-11-15 00:30:26|2018-11-15|\n",
      "|         The Prodigy|Logged In|      Ryan|     M|            1|    Smith|260.07465| free|San Jose-Sunnyval...|   PUT|NextSong|1.541016707796E12|       583|     The Big Gundown|   200|1542242481796|\"Mozilla/5.0 (X11...|     26|1.542242481796E9|2018-11-15 00:41:21|2018-11-15|\n",
      "|               Train|Logged In|      Ryan|     M|            2|    Smith|205.45261| free|San Jose-Sunnyval...|   PUT|NextSong|1.541016707796E12|       583|            Marry Me|   200|1542242741796|\"Mozilla/5.0 (X11...|     26|1.542242741796E9|2018-11-15 00:45:41|2018-11-15|\n",
      "|         Sony Wonder|Logged In|    Samuel|     M|            0| Gonzalez|218.06975| free|Houston-The Woodl...|   PUT|NextSong|1.540492941796E12|       597|           Blackbird|   200|1542253449796|\"Mozilla/5.0 (Mac...|     61|1.542253449796E9|2018-11-15 03:44:09|2018-11-15|\n",
      "|           Van Halen|Logged In|     Tegan|     F|            2|   Levine|289.38404| paid|Portland-South Po...|   PUT|NextSong|1.540794356796E12|       602|Best Of Both Worl...|   200|1542260935796|\"Mozilla/5.0 (Mac...|     80|1.542260935796E9|2018-11-15 05:48:55|2018-11-15|\n",
      "|           Magic Sam|Logged In|     Tegan|     F|            3|   Levine|132.04853| paid|Portland-South Po...|   PUT|NextSong|1.540794356796E12|       602|Call Me If You Ne...|   200|1542261224796|\"Mozilla/5.0 (Mac...|     80|1.542261224796E9|2018-11-15 05:53:44|2018-11-15|\n",
      "|Edward Sharpe & T...|Logged In|     Tegan|     F|            4|   Levine|306.31138| paid|Portland-South Po...|   PUT|NextSong|1.540794356796E12|       602|                Home|   200|1542261356796|\"Mozilla/5.0 (Mac...|     80|1.542261356796E9|2018-11-15 05:55:56|2018-11-15|\n",
      "|Usher featuring w...|Logged In|     Tegan|     F|            5|   Levine|395.72853| paid|Portland-South Po...|   PUT|NextSong|1.540794356796E12|       602|                 OMG|   200|1542261662796|\"Mozilla/5.0 (Mac...|     80|1.542261662796E9|2018-11-15 06:01:02|2018-11-15|\n",
      "|         Helen Reddy|Logged In|     Tegan|     F|            7|   Levine|176.50893| paid|Portland-South Po...|   PUT|NextSong|1.540794356796E12|       602| Candle On The Water|   200|1542262057796|\"Mozilla/5.0 (Mac...|     80|1.542262057796E9|2018-11-15 06:07:37|2018-11-15|\n",
      "|        Taylor Swift|Logged In|     Tegan|     F|            8|   Levine|201.06404| paid|Portland-South Po...|   PUT|NextSong|1.540794356796E12|       602|            Our Song|   200|1542262233796|\"Mozilla/5.0 (Mac...|     80|1.542262233796E9|2018-11-15 06:10:33|2018-11-15|\n",
      "|           Sean Paul|Logged In|     Tegan|     F|            9|   Levine|245.34159| paid|Portland-South Po...|   PUT|NextSong|1.540794356796E12|       602|Baby Boy [feat. B...|   200|1542262434796|\"Mozilla/5.0 (Mac...|     80|1.542262434796E9|2018-11-15 06:13:54|2018-11-15|\n",
      "|         Soundgarden|Logged In|      Lily|     F|            0|     Koch|272.19546| paid|Chicago-Napervill...|   PUT|NextSong|1.541048010796E12|       582|      Black Hole Sun|   200|1542262456796|\"Mozilla/5.0 (X11...|     15|1.542262456796E9|2018-11-15 06:14:16|2018-11-15|\n",
      "|         The Killers|Logged In|     Tegan|     F|           10|   Levine|360.75057| paid|Portland-South Po...|   PUT|NextSong|1.540794356796E12|       602|               Human|   200|1542262679796|\"Mozilla/5.0 (Mac...|     80|1.542262679796E9|2018-11-15 06:17:59|2018-11-15|\n",
      "|       Amy Winehouse|Logged In|      Lily|     F|            1|     Koch|165.11955| paid|Chicago-Napervill...|   PUT|NextSong|1.541048010796E12|       582|            Addicted|   200|1542262728796|\"Mozilla/5.0 (X11...|     15|1.542262728796E9|2018-11-15 06:18:48|2018-11-15|\n",
      "|      Steve Anderson|Logged In|      Lily|     F|            2|     Koch|265.06404| paid|Chicago-Napervill...|   PUT|NextSong|1.541048010796E12|       582|                 Air|   200|1542262893796|\"Mozilla/5.0 (X11...|     15|1.542262893796E9|2018-11-15 06:21:33|2018-11-15|\n",
      "|          Rob Zombie|Logged In|      Lily|     F|            3|     Koch|220.13342| paid|Chicago-Napervill...|   PUT|NextSong|1.541048010796E12|       582|          Superbeast|   200|1542263158796|\"Mozilla/5.0 (X11...|     15|1.542263158796E9|2018-11-15 06:25:58|2018-11-15|\n",
      "|  Deadmau5 & Kaskade|Logged In|      Lily|     F|            4|     Koch|595.56526| paid|Chicago-Napervill...|   PUT|NextSong|1.541048010796E12|       582|          I Remember|   200|1542263378796|\"Mozilla/5.0 (X11...|     15|1.542263378796E9|2018-11-15 06:29:38|2018-11-15|\n",
      "|        Shania Twain|Logged In|      Ryan|     M|            0|    Smith| 213.7073| free|San Jose-Sunnyval...|   PUT|NextSong|1.541016707796E12|       607|Don't Be Stupid (...|   200|1542265716796|\"Mozilla/5.0 (X11...|     26|1.542265716796E9|2018-11-15 07:08:36|2018-11-15|\n",
      "|      Los Campesinos|Logged In|      Ryan|     M|            1|    Smith|138.10893| free|San Jose-Sunnyval...|   PUT|NextSong|1.541016707796E12|       607|We throw parties_...|   200|1542265929796|\"Mozilla/5.0 (X11...|     26|1.542265929796E9|2018-11-15 07:12:09|2018-11-15|\n",
      "|            Ill Nino|Logged In|     Chloe|     F|            1|   Cuevas| 188.9171| paid|San Francisco-Oak...|   PUT|NextSong|1.540940782796E12|       606|How Can I Live (S...|   200|1542266927796|Mozilla/5.0 (Wind...|     49|1.542266927796E9|2018-11-15 07:28:47|2018-11-15|\n",
      "+--------------------+---------+----------+------+-------------+---------+---------+-----+--------------------+------+--------+-----------------+----------+--------------------+------+-------------+--------------------+-------+----------------+-------------------+----------+\n",
      "only showing top 20 rows\n",
      "\n"
     ]
    }
   ],
   "source": [
    "ldf.show()"
   ]
  },
  {
   "cell_type": "code",
   "execution_count": 91,
   "metadata": {
    "editable": true
   },
   "outputs": [
    {
     "name": "stdout",
     "output_type": "stream",
     "text": [
      "+-------------------+-------+-----+-------+---------+----------+--------------------+--------------------+----+-----+-----------+\n",
      "|         start_time|user_id|level|song_id|artist_id|session_id|            location|          user_agent|year|month|songplay_id|\n",
      "+-------------------+-------+-----+-------+---------+----------+--------------------+--------------------+----+-----+-----------+\n",
      "|2018-11-01 21:01:46|      8| free|   null|     null|       139|Phoenix-Mesa-Scot...|\"Mozilla/5.0 (Win...|2018|   11|          0|\n",
      "|2018-11-01 21:05:52|      8| free|   null|     null|       139|Phoenix-Mesa-Scot...|\"Mozilla/5.0 (Win...|2018|   11|          1|\n",
      "|2018-11-01 21:08:16|      8| free|   null|     null|       139|Phoenix-Mesa-Scot...|\"Mozilla/5.0 (Win...|2018|   11|          2|\n",
      "|2018-11-01 21:11:13|      8| free|   null|     null|       139|Phoenix-Mesa-Scot...|\"Mozilla/5.0 (Win...|2018|   11|          3|\n",
      "|2018-11-01 21:17:33|      8| free|   null|     null|       139|Phoenix-Mesa-Scot...|\"Mozilla/5.0 (Win...|2018|   11|          4|\n",
      "|2018-11-01 21:24:53|      8| free|   null|     null|       139|Phoenix-Mesa-Scot...|\"Mozilla/5.0 (Win...|2018|   11|          5|\n",
      "|2018-11-01 21:28:54|      8| free|   null|     null|       139|Phoenix-Mesa-Scot...|\"Mozilla/5.0 (Win...|2018|   11|          6|\n",
      "|2018-11-01 21:42:00|     10| free|   null|     null|         9|Washington-Arling...|\"Mozilla/5.0 (Mac...|2018|   11|          7|\n",
      "|2018-11-01 21:52:05|     26| free|   null|     null|       169|San Jose-Sunnyval...|\"Mozilla/5.0 (X11...|2018|   11|          8|\n",
      "|2018-11-01 21:55:25|     26| free|   null|     null|       169|San Jose-Sunnyval...|\"Mozilla/5.0 (X11...|2018|   11|          9|\n",
      "|2018-11-01 22:23:14|    101| free|   null|     null|       100|New Orleans-Metai...|\"Mozilla/5.0 (Win...|2018|   11|         10|\n",
      "|2018-11-02 01:25:34|    101| free|   null|     null|       184|New Orleans-Metai...|\"Mozilla/5.0 (Win...|2018|   11|         11|\n",
      "|2018-11-02 01:30:41|     83| free|   null|     null|        82|         Lubbock, TX|\"Mozilla/5.0 (Mac...|2018|   11|         12|\n",
      "|2018-11-02 01:34:17|     83| free|   null|     null|        82|         Lubbock, TX|\"Mozilla/5.0 (Mac...|2018|   11|         13|\n",
      "|2018-11-02 02:42:48|     66| free|   null|     null|       153|Harrisburg-Carlis...|\"Mozilla/5.0 (Mac...|2018|   11|         14|\n",
      "|2018-11-02 03:05:57|     48| free|   null|     null|        47|         Salinas, CA|\"Mozilla/5.0 (Mac...|2018|   11|         15|\n",
      "|2018-11-02 03:34:34|     86| free|   null|     null|       170|La Crosse-Onalask...|\"Mozilla/5.0 (Mac...|2018|   11|         16|\n",
      "|2018-11-02 05:15:41|     17| free|   null|     null|       118|Chicago-Napervill...|\"Mozilla/5.0 (Win...|2018|   11|         17|\n",
      "|2018-11-02 05:52:29|     66| free|   null|     null|       187|Harrisburg-Carlis...|\"Mozilla/5.0 (Mac...|2018|   11|         18|\n",
      "|2018-11-02 09:01:21|     15| paid|   null|     null|       172|Chicago-Napervill...|\"Mozilla/5.0 (X11...|2018|   11|         19|\n",
      "+-------------------+-------+-----+-------+---------+----------+--------------------+--------------------+----+-----+-----------+\n",
      "only showing top 20 rows\n",
      "\n"
     ]
    }
   ],
   "source": [
    "songplays_table = ldf.join(song_df, \n",
    "                           (ldf.song == song_df.title) & \n",
    "                           (ldf.artist == song_df.artist_name) & \n",
    "                           (ldf.length == song_df.duration) & \n",
    "                           (year(ldf.timestamp) == song_df.year), 'left_outer').select(ldf.timestamp.alias(\"start_time\"), \n",
    "                                                                                    ldf.user_id,\n",
    "                                                                                    ldf.level,\n",
    "                                                                                    song_df.song_id,\n",
    "                                                                                    song_df.artist_id,\n",
    "                                                                                    ldf.session_id, \n",
    "                                                                                    ldf.location, \n",
    "                                                                                    ldf.user_agent,\n",
    "                                                                                    year(ldf.timestamp).alias('year'),\n",
    "                                                                                    month(ldf.timestamp).alias('month')).orderBy(\"start_time\", \"user_id\").withColumn(\"songplay_id\", F.monotonically_increasing_id())\n",
    "\n",
    "songplays_table.show()"
   ]
  },
  {
   "cell_type": "code",
   "execution_count": null,
   "metadata": {
    "editable": true
   },
   "outputs": [],
   "source": []
  }
 ],
 "metadata": {
  "kernelspec": {
   "display_name": "Python 3",
   "language": "python",
   "name": "python3"
  },
  "language_info": {
   "codemirror_mode": {
    "name": "ipython",
    "version": 3
   },
   "file_extension": ".py",
   "mimetype": "text/x-python",
   "name": "python",
   "nbconvert_exporter": "python",
   "pygments_lexer": "ipython3",
   "version": "3.6.3"
  }
 },
 "nbformat": 4,
 "nbformat_minor": 4
}
